{
 "cells": [
  {
   "cell_type": "code",
   "execution_count": 2,
   "metadata": {},
   "outputs": [],
   "source": [
    "import csv\n",
    "import json"
   ]
  },
  {
   "cell_type": "markdown",
   "metadata": {},
   "source": [
    "4개의 csv 파일을 하나의 딕셔너리로 만들어서 json파일로 만듦.  \n",
    "마지막 값 맨 뒤에 ,가 붙어서 수작업으로 마지막것만 제거해줌.  \n",
    "없애는 법 알면 좀 알려주십쇼\n"
   ]
  },
  {
   "cell_type": "code",
   "execution_count": 69,
   "metadata": {},
   "outputs": [],
   "source": [
    "# food data\n",
    "csvfile = open('./DB_data/food.csv', 'r', encoding='euc-kr')\n",
    "jsonfile = open('./DB_data/food.json', 'w', encoding='utf-8')\n",
    "\n",
    "fieldnames = ('Class', 'Name', 'serving_size_g', 'calorie_kJ', 'calorie_kcal', 'carbohydrate_g', 'sugar_g', 'protein_g', 'fat_g', 'saturated_fat_g', 'polyunsaturated_fat_g', 'unsaturated_fat_g', 'cholesterol_mg', 'dietary_fiber_g', 'salt_mg', 'potassium_mg')\n",
    "reader = csv.DictReader(csvfile, fieldnames)\n",
    "\n",
    "start = False\n",
    "num = 0\n",
    "jsonfile.write('{\\n')\n",
    "for row in reader:\n",
    "    if start:\n",
    "        jsonfile.write('\\t\"{}\":'.format(num))\n",
    "        json.dump(row, jsonfile, ensure_ascii=False)\n",
    "        jsonfile.write(',\\n')\n",
    "        num += 1\n",
    "    start = True\n",
    "jsonfile.write('}')\n",
    "\n",
    "csvfile.close()\n",
    "jsonfile.close()"
   ]
  },
  {
   "cell_type": "code",
   "execution_count": 70,
   "metadata": {},
   "outputs": [],
   "source": [
    "# disease\n",
    "csvfile = open('./DB_data/disease.csv', 'r', encoding='euc-kr')\n",
    "jsonfile = open('./DB_data/disease.json', 'w', encoding='utf-8')\n",
    "\n",
    "fieldnames = ('disease_num','disease_code','disease_name','bad_food')\n",
    "reader = csv.DictReader(csvfile, fieldnames)\n",
    "\n",
    "start = False\n",
    "num = 0\n",
    "jsonfile.write('{\\n')\n",
    "for row in reader:\n",
    "    if start:\n",
    "        jsonfile.write('\\t\"{}\":'.format(num))\n",
    "        json.dump(row, jsonfile, ensure_ascii=False)\n",
    "        jsonfile.write(',\\n')\n",
    "        num += 1\n",
    "    start = True\n",
    "jsonfile.write('}')\n",
    "\n",
    "csvfile.close()\n",
    "jsonfile.close()"
   ]
  },
  {
   "cell_type": "code",
   "execution_count": 71,
   "metadata": {},
   "outputs": [],
   "source": [
    "# data_dis\n",
    "filename = 'data_dis'\n",
    "csvfile = open(f'./DB_data/{filename}.csv', 'r', encoding='euc-kr')\n",
    "jsonfile = open(f'./DB_data/{filename}.json', 'w', encoding='utf-8')\n",
    "\n",
    "txt = 'DI2_DG,DI3_DG,DI4_DG,DI5_DG,DM2_DG,DM3_DG,DM4_DG,DJ2_DG,DJ4_DG,DJ6_DG,DJ8_DG,DI6_DG,DF2_DG,DL1_DG,DE1_DG,DE2_DG,DH4_DG,DC1_DG,DC3_DG,DK8_DG,ID'\n",
    "txt2 = txt.split(',')\n",
    "fieldnames = tuple(txt2)\n",
    "\n",
    "reader = csv.DictReader(csvfile, fieldnames)\n",
    "\n",
    "start = False\n",
    "num = 0\n",
    "jsonfile.write('{\\n')\n",
    "for row in reader:\n",
    "    if start:\n",
    "        jsonfile.write('\\t\"{}\":'.format(num))\n",
    "        json.dump(row, jsonfile, ensure_ascii=False)\n",
    "        jsonfile.write(',\\n')\n",
    "        num += 1\n",
    "    start = True\n",
    "jsonfile.write('}')\n",
    "\n",
    "csvfile.close()\n",
    "jsonfile.close()"
   ]
  },
  {
   "cell_type": "code",
   "execution_count": 72,
   "metadata": {},
   "outputs": [],
   "source": [
    "# data_value\n",
    "filename = 'data_value'\n",
    "csvfile = open(f'./DB_data/{filename}.csv', 'r', encoding='euc-kr')\n",
    "jsonfile = open(f'./DB_data/{filename}.json', 'w', encoding='utf-8')\n",
    "\n",
    "txt = 'LQ_3EQL,N_MUFA,TOTAL_SLP_WD,HE_BMI,N_PHOS,BD1_11,HE_WT,BP1,N_FAT,BH1,AGE,N_CAROT,BS13,N_INTK,N_EN,LQ_5EQL,BE3_85,N_WATER,HE_HT,N_CHOL,N_NA,N_PROT,SEX,BP7,LQ_2EQL,HE_DBP,LQ_1EQL,BE3_81,N_SFA,ID,HE_RPLS,N_SUGAR,SM_PRESNT,L_BR_FQ,HE_FH,LQ_4EQL,MH_STRESS,LQ4_00'\n",
    "txt2 = txt.split(',')\n",
    "fieldnames = tuple(txt2)\n",
    "\n",
    "reader = csv.DictReader(csvfile, fieldnames)\n",
    "\n",
    "start = False\n",
    "num = 0\n",
    "jsonfile.write('{\\n')\n",
    "for row in reader:\n",
    "    if start:\n",
    "        jsonfile.write('\\t\"{}\":'.format(num))\n",
    "        json.dump(row, jsonfile, ensure_ascii=False)\n",
    "        jsonfile.write(',\\n')\n",
    "        num += 1\n",
    "    start = True\n",
    "jsonfile.write('}')\n",
    "\n",
    "csvfile.close()\n",
    "jsonfile.close()"
   ]
  },
  {
   "cell_type": "markdown",
   "metadata": {},
   "source": [
    "구상중인 하나의 딕셔너리"
   ]
  },
  {
   "cell_type": "code",
   "execution_count": null,
   "metadata": {},
   "outputs": [],
   "source": [
    "{\n",
    "    \"ID\" : {\n",
    "        \"IDvalue\" : {\n",
    "            \"Input\" : { 'value' },\n",
    "            \"Output\" : { 'dis' }\n",
    "        }\n",
    "    },\n",
    "\n",
    "    \"Food\" : {\n",
    "        \"1\" : { },\n",
    "        \"2\" : { }\n",
    "    },\n",
    "\n",
    "    \"Disease\" : {\n",
    "        \"DiseaseCodeValue\" : { }\n",
    "    }\n",
    "}"
   ]
  },
  {
   "cell_type": "code",
   "execution_count": 101,
   "metadata": {},
   "outputs": [
    {
     "data": {
      "text/plain": [
       "dict"
      ]
     },
     "execution_count": 101,
     "metadata": {},
     "output_type": "execute_result"
    }
   ],
   "source": [
    "final_data = {\n",
    "    \"ID\" : {},\n",
    "    \"Food\" : {},\n",
    "    \"Disease\" : {}\n",
    "}\n",
    "type(final_data)"
   ]
  },
  {
   "cell_type": "code",
   "execution_count": 108,
   "metadata": {},
   "outputs": [],
   "source": [
    "# data_value\n",
    "\n",
    "filename = 'data_value'\n",
    "with open(f'./DB_data/{filename}.json', 'r', encoding='utf-8') as jsonfile:\n",
    "    jsondata = json.load(jsonfile)\n",
    "\n",
    "for num in range(len(jsondata)):\n",
    "    oldkey = str(num)\n",
    "    newkey = jsondata[oldkey]['ID']\n",
    "    final_data['ID'] = {}\n",
    "    final_data['ID'][newkey] = {}\n",
    "    final_data['ID'][newkey]['Input'] = jsondata[oldkey]\n"
   ]
  },
  {
   "cell_type": "code",
   "execution_count": 110,
   "metadata": {},
   "outputs": [],
   "source": [
    "filename = 'data_dis'\n",
    "with open(f'./DB_data/{filename}.json', 'r', encoding='utf-8') as jsonfile:\n",
    "    jsondata = json.load(jsonfile)\n",
    "\n",
    "for num in range(len(jsondata)):\n",
    "    oldkey = str(num)\n",
    "    newkey = jsondata[oldkey]['ID']\n",
    "    try:\n",
    "        final_data['ID'][newkey]['Output'] = jsondata[oldkey]\n",
    "    except KeyError:\n",
    "        final_data['ID'][newkey] = {}\n",
    "        final_data['ID'][newkey]['Output'] = jsondata[oldkey]"
   ]
  },
  {
   "cell_type": "code",
   "execution_count": 113,
   "metadata": {},
   "outputs": [],
   "source": [
    "filename = 'food'\n",
    "with open(f'./DB_data/{filename}.json', 'r', encoding='utf-8') as jsonfile:\n",
    "    jsondata = json.load(jsonfile)\n",
    "\n",
    "for num in range(len(jsondata)):\n",
    "    oldkey = str(num)\n",
    "    newkey = jsondata[oldkey]['Class']\n",
    "    final_data['Food'] = {}\n",
    "    final_data['Food'][newkey] = jsondata[oldkey]"
   ]
  },
  {
   "cell_type": "code",
   "execution_count": 115,
   "metadata": {},
   "outputs": [],
   "source": [
    "filename = 'disease'\n",
    "with open(f'./DB_data/{filename}.json', 'r', encoding='utf-8') as jsonfile:\n",
    "    jsondata = json.load(jsonfile)\n",
    "\n",
    "for num in range(len(jsondata)):\n",
    "    oldkey = str(num)\n",
    "    newkey = jsondata[oldkey]['disease_code']\n",
    "    final_data['Disease'] = {}\n",
    "    final_data['Disease'][newkey] = jsondata[oldkey]"
   ]
  },
  {
   "cell_type": "code",
   "execution_count": 118,
   "metadata": {},
   "outputs": [],
   "source": [
    "# Save JSON\n",
    "filename = 'final_data'\n",
    "with open(f'./DB_data/{filename}.json', 'w', encoding='utf-8') as f:\n",
    "    json.dump(final_data, f, indent=4, sort_keys=True, ensure_ascii=False)\n"
   ]
  },
  {
   "cell_type": "code",
   "execution_count": null,
   "metadata": {},
   "outputs": [],
   "source": []
  }
 ],
 "metadata": {
  "interpreter": {
   "hash": "7a3797ff0740a9cbadd9c600bf21f2653a6a89c7ec81ce67cdd9a6091edd8408"
  },
  "kernelspec": {
   "display_name": "Python 3.6.13 ('ml')",
   "language": "python",
   "name": "python3"
  },
  "language_info": {
   "codemirror_mode": {
    "name": "ipython",
    "version": 3
   },
   "file_extension": ".py",
   "mimetype": "text/x-python",
   "name": "python",
   "nbconvert_exporter": "python",
   "pygments_lexer": "ipython3",
   "version": "3.6.13"
  },
  "orig_nbformat": 4
 },
 "nbformat": 4,
 "nbformat_minor": 2
}
