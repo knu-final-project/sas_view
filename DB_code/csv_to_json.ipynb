{
 "cells": [
  {
   "cell_type": "code",
   "execution_count": 1,
   "metadata": {},
   "outputs": [],
   "source": [
    "import csv\n",
    "import json"
   ]
  },
  {
   "cell_type": "code",
   "execution_count": 2,
   "metadata": {},
   "outputs": [
    {
     "data": {
      "text/plain": [
       "'c:\\\\Users\\\\User\\\\VS_code\\\\sas_view\\\\DB_code'"
      ]
     },
     "execution_count": 2,
     "metadata": {},
     "output_type": "execute_result"
    }
   ],
   "source": [
    "%pwd"
   ]
  },
  {
   "cell_type": "code",
   "execution_count": 10,
   "metadata": {},
   "outputs": [],
   "source": [
    "csvfile = open('./DB_data/food.csv', 'r', encoding='euc-kr')\n",
    "jsonfile = open('./DB_data/food.json', 'w', encoding='utf-8')\n",
    "\n",
    "fieldnames = ('Class', 'Name', 'serving_size_g', 'calorie_kJ', 'calorie_kcal', 'carbohydrate_g', 'sugar_g', 'protein_g', 'fat_g', 'saturated_fat_g', 'polyunsaturated_fat_g', 'unsaturated_fat_g', 'cholesterol_mg', 'dietary_fiber_g', 'salt_mg', 'potassium_mg')\n",
    "reader = csv.DictReader(csvfile, fieldnames)\n",
    "for row in reader:\n",
    "    json.dump(row, jsonfile, ensure_ascii=False)\n",
    "    jsonfile.write('\\n')\n"
   ]
  },
  {
   "cell_type": "code",
   "execution_count": null,
   "metadata": {},
   "outputs": [],
   "source": []
  }
 ],
 "metadata": {
  "interpreter": {
   "hash": "f08154012ddadd8e950e6e9e035c7a7b32c136e7647e9b7c77e02eb723a8bedb"
  },
  "kernelspec": {
   "display_name": "Python 3.8.12 ('base')",
   "language": "python",
   "name": "python3"
  },
  "language_info": {
   "codemirror_mode": {
    "name": "ipython",
    "version": 3
   },
   "file_extension": ".py",
   "mimetype": "text/x-python",
   "name": "python",
   "nbconvert_exporter": "python",
   "pygments_lexer": "ipython3",
   "version": "3.8.12"
  },
  "orig_nbformat": 4
 },
 "nbformat": 4,
 "nbformat_minor": 2
}
