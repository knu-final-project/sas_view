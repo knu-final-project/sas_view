{
 "cells": [
  {
   "cell_type": "code",
   "execution_count": 125,
   "metadata": {},
   "outputs": [],
   "source": [
    "import glob\n",
    "import psycopg2\n",
    "import pandas as pd\n",
    "import time"
   ]
  },
  {
   "cell_type": "code",
   "execution_count": 140,
   "metadata": {},
   "outputs": [
    {
     "name": "stdout",
     "output_type": "stream",
     "text": [
      "['16 0.233333 0.708 0.253333 0.346667\\n', '8 0.233333 0.708 0.253333 0.346667\\n', '7 0.233333 0.708 0.253333 0.346667\\n']\n"
     ]
    }
   ],
   "source": [
    "# Label Sample\n",
    "file_path = 'D:\\Final_Project\\Data\\Test_label\\\\test_label.txt'\n",
    "with open(file_path, 'r') as f:\n",
    "    data = f.readlines()\n",
    "print(data)"
   ]
  },
  {
   "cell_type": "code",
   "execution_count": 141,
   "metadata": {},
   "outputs": [
    {
     "data": {
      "text/plain": [
       "[16, 8, 7]"
      ]
     },
     "execution_count": 141,
     "metadata": {},
     "output_type": "execute_result"
    }
   ],
   "source": [
    "label_list = []\n",
    "for a in data:\n",
    "    label_list.append(int(a.split(' ')[0]))\n",
    "label_list"
   ]
  },
  {
   "cell_type": "code",
   "execution_count": 142,
   "metadata": {},
   "outputs": [
    {
     "name": "stdout",
     "output_type": "stream",
     "text": [
      "===접속 성공===\n"
     ]
    }
   ],
   "source": [
    "# postgre DB 연결\n",
    "try:\n",
    "    conn = psycopg2.connect(host=\"localhost\",database=\"machine129\", user=\"postgres\", password=\"admin\",port=5432)\n",
    "    print('===접속 성공===')\n",
    "    cur = conn.cursor()\n",
    "except psycopg2.DatabaseError as db_err:\n",
    "    print('접속 오류 !!')\n",
    "    print(db_err)"
   ]
  },
  {
   "cell_type": "code",
   "execution_count": 62,
   "metadata": {},
   "outputs": [
    {
     "name": "stdout",
     "output_type": "stream",
     "text": [
      "[('class_num',), ('food_name',), ('serving_size_g',), ('calorie_kj',), ('calorie_kcal',), ('carbohydrate_g',), ('sugar_g',), ('protein_g',), ('fat_g',), ('saturated_fat_g',), ('polyunsaturated_fat_g',), ('unsaturated_fat_g',), ('cholesterol_mg',), ('dietary_fiber_g',), ('salt_mg',), ('potassium_mg',)]\n"
     ]
    }
   ],
   "source": [
    "# Food table 컬럼명 조회 query\n",
    "cur=conn.cursor()\n",
    "try:\n",
    "    cur.execute(\"Select COLUMN_NAME From INFORMATION_SCHEMA.COLUMNS WHERE TABLE_NAME = 'food' order by ordinal_position;\")\n",
    "    columns = cur.fetchall()\n",
    "except:\n",
    "    print('Error!')\n",
    "print(columns)"
   ]
  },
  {
   "cell_type": "code",
   "execution_count": 63,
   "metadata": {},
   "outputs": [
    {
     "name": "stdout",
     "output_type": "stream",
     "text": [
      "[('쌀밥',)]\n"
     ]
    }
   ],
   "source": [
    "# 음식 이름 찾기\n",
    "cur=conn.cursor()\n",
    "try:\n",
    "    cur.execute(f\"Select food_name From food WHERE class_num={food_class};\")\n",
    "    food_name = cur.fetchall()\n",
    "except:\n",
    "    print('Error!')\n",
    "\n",
    "# 확인\n",
    "print(food_name)"
   ]
  },
  {
   "cell_type": "code",
   "execution_count": 64,
   "metadata": {},
   "outputs": [
    {
     "name": "stdout",
     "output_type": "stream",
     "text": [
      "[(16, '쌀밥', 210.0, 1130.0, 270.0, 61.0, 0.0, 5.0, 0.7, 0.0, 0.0, 0.0, 0.0, 0.0, 20.0, 0.0)]\n"
     ]
    }
   ],
   "source": [
    "# 영양소 확인\n",
    "cur=conn.cursor()\n",
    "try:\n",
    "    cur.execute(f\"Select * From food WHERE class_num={food_class};\")\n",
    "    ssalbab = cur.fetchall()\n",
    "except:\n",
    "    print('Error!')\n",
    "\n",
    "# 확인\n",
    "print(ssalbab)"
   ]
  },
  {
   "cell_type": "code",
   "execution_count": 97,
   "metadata": {},
   "outputs": [],
   "source": [
    "# 쿼리 작성할 예정\n",
    "\n",
    "# 문자열 제외한 컬럼들\n",
    "cur=conn.cursor()\n",
    "try:\n",
    "    cur.execute(\"Select COLUMN_NAME From INFORMATION_SCHEMA.COLUMNS WHERE TABLE_NAME = 'food' and data_type = 'double precision' order by ordinal_position;\")\n",
    "    fcolumns = cur.fetchall()\n",
    "except:\n",
    "    print('Error!')\n",
    "\n",
    "# SELECT \"요기\" FROM ~\n",
    "label_list = list(set(label_list)) # 라벨리스트 > 집합 > 라벨리스트 를 통해 중복값을 제거 해줌.\n",
    "columns_query = ''\n",
    "for i in fcolumns:\n",
    "    columns_query += 'sum(' + i[0] + '), '\n",
    "columns_query = columns_query.rstrip(', ')\n",
    "\n",
    "# WHERE \" 요기~ \"\n",
    "where_query = ''\n",
    "for i in label_list:\n",
    "    where_query += 'class_num = ' + str(i) + \" or \"\n",
    "where_query = where_query.rstrip(' or ')\n",
    "\n",
    "query = 'SELECT ' + columns_query + ' FROM food WHERE ' + where_query"
   ]
  },
  {
   "cell_type": "code",
   "execution_count": 143,
   "metadata": {},
   "outputs": [
    {
     "data": {
      "text/plain": [
       "'SELECT sum(serving_size_g), sum(calorie_kj), sum(calorie_kcal), sum(carbohydrate_g), sum(sugar_g), sum(protein_g), sum(fat_g), sum(saturated_fat_g), sum(polyunsaturated_fat_g), sum(unsaturated_fat_g), sum(cholesterol_mg), sum(dietary_fiber_g), sum(salt_mg), sum(potassium_mg) FROM food WHERE class_num = 16 or class_num = 8 or class_num = 7'"
      ]
     },
     "execution_count": 143,
     "metadata": {},
     "output_type": "execute_result"
    }
   ],
   "source": [
    "query"
   ]
  },
  {
   "cell_type": "code",
   "execution_count": 102,
   "metadata": {},
   "outputs": [
    {
     "name": "stdout",
     "output_type": "stream",
     "text": [
      "[(520.0, 1690.0, 404.0, 72.09, 2.05, 15.47, 7.14, 1.338, 2.1959999999999997, 2.227, 14.0, 1.0, 1296.0, 398.0)]\n"
     ]
    }
   ],
   "source": [
    "cur=conn.cursor()\n",
    "try:\n",
    "    cur.execute(query)\n",
    "    score = cur.fetchall()\n",
    "except:\n",
    "    print('Error!')\n",
    "print(score)"
   ]
  },
  {
   "cell_type": "code",
   "execution_count": 108,
   "metadata": {},
   "outputs": [
    {
     "data": {
      "text/plain": [
       "(520.0,\n",
       " 1690.0,\n",
       " 404.0,\n",
       " 72.09,\n",
       " 2.05,\n",
       " 15.47,\n",
       " 7.14,\n",
       " 1.338,\n",
       " 2.1959999999999997,\n",
       " 2.227,\n",
       " 14.0,\n",
       " 1.0,\n",
       " 1296.0,\n",
       " 398.0)"
      ]
     },
     "execution_count": 108,
     "metadata": {},
     "output_type": "execute_result"
    }
   ],
   "source": [
    "score[0]"
   ]
  },
  {
   "cell_type": "code",
   "execution_count": 145,
   "metadata": {},
   "outputs": [],
   "source": [
    "testid = 'testemail@gmail.com'\n",
    "now = time.strftime('%Y-%m-%d %H:%M:%S')\n",
    "\n",
    "valuestxt = \"('\" + testid + \"', '\" + now + \"'\"\n",
    "for i in score[0]:\n",
    "    valuestxt += \", \"\n",
    "    valuestxt += str(i)\n",
    "valuestxt += ');'\n",
    "\n",
    "insertquery = 'INSERT INTO meals VALUES ' + valuestxt\n",
    "\n",
    "cur=conn.cursor()\n",
    "try:\n",
    "    cur.execute(insertquery)\n",
    "    conn.commit()\n",
    "except:\n",
    "    print('Error!')\n"
   ]
  },
  {
   "cell_type": "code",
   "execution_count": null,
   "metadata": {},
   "outputs": [],
   "source": []
  }
 ],
 "metadata": {
  "interpreter": {
   "hash": "7a3797ff0740a9cbadd9c600bf21f2653a6a89c7ec81ce67cdd9a6091edd8408"
  },
  "kernelspec": {
   "display_name": "Python 3.6.13 ('ml')",
   "language": "python",
   "name": "python3"
  },
  "language_info": {
   "codemirror_mode": {
    "name": "ipython",
    "version": 3
   },
   "file_extension": ".py",
   "mimetype": "text/x-python",
   "name": "python",
   "nbconvert_exporter": "python",
   "pygments_lexer": "ipython3",
   "version": "3.6.13"
  },
  "orig_nbformat": 4
 },
 "nbformat": 4,
 "nbformat_minor": 2
}
