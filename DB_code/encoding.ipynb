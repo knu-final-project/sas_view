{
 "cells": [
  {
   "cell_type": "code",
   "execution_count": 8,
   "metadata": {},
   "outputs": [],
   "source": [
    "import csv"
   ]
  },
  {
   "cell_type": "code",
   "execution_count": 24,
   "metadata": {},
   "outputs": [
    {
     "data": {
      "text/plain": [
       "[['1', 'DI2_DG', '이상지질혈증', '0'],\n",
       " ['2', 'DI3_DG', '뇌졸중', '1'],\n",
       " ['3', 'DI4_DG', '심혈관질환 (심근경색증 또는 협심증)', '2'],\n",
       " ['4', 'DI6_DG', '협심증', '3'],\n",
       " ['5', 'DM2_DG', '골관절염', '4'],\n",
       " ['6', 'DM3_DG', '류마티스성 관절염', '5'],\n",
       " ['7', 'DM4_DG', '골다공증', '6'],\n",
       " ['8', 'DJ2_DG', '폐결핵', '7'],\n",
       " ['9', 'DJ4_DG', '천식', '8'],\n",
       " ['10', 'DI5_DG', '심근경색증', '9'],\n",
       " ['11', 'DC3_DG', '대장암', '10'],\n",
       " ['12', 'DK8_DG', 'B형간염', '11'],\n",
       " ['13', 'DJ6_DG', '부비동염', '12'],\n",
       " ['14', 'DJ8_DG', '알레르기비염', '13'],\n",
       " ['15', 'DF2_DG', '우울증', '14'],\n",
       " ['16', 'DL1_DG', '아토피피부염', '15'],\n",
       " ['17', 'DE1_DG', '당뇨병', '16'],\n",
       " ['18', 'DE2_DG', '갑상선 질환', '17'],\n",
       " ['19', 'DH4_DG', '중이염', '18'],\n",
       " ['20', 'DC1_DG', '위암', '0_16']]"
      ]
     },
     "execution_count": 24,
     "metadata": {},
     "output_type": "execute_result"
    }
   ],
   "source": [
    "data = []\n",
    "with open('DB_data/disease.csv', 'r', encoding='EUC-KR') as f:\n",
    "    reader = csv.reader(f)\n",
    "    head = True\n",
    "    for row in reader:\n",
    "        if head:\n",
    "            head = False\n",
    "        else:\n",
    "            data.append(row)\n",
    "data"
   ]
  },
  {
   "cell_type": "code",
   "execution_count": 25,
   "metadata": {},
   "outputs": [],
   "source": [
    "with open('DB_data/disease_utf8.csv', 'w', encoding='UTF-8') as f:\n",
    "    wr = csv.writer(f)\n",
    "    wr.writerows(data)"
   ]
  },
  {
   "cell_type": "code",
   "execution_count": null,
   "metadata": {},
   "outputs": [],
   "source": []
  }
 ],
 "metadata": {
  "interpreter": {
   "hash": "263930470851f494f0ed2879c35b57985588df20f9e529b86e97dd5eb9ddc466"
  },
  "kernelspec": {
   "display_name": "Python 3.9.7 ('base')",
   "language": "python",
   "name": "python3"
  },
  "language_info": {
   "codemirror_mode": {
    "name": "ipython",
    "version": 3
   },
   "file_extension": ".py",
   "mimetype": "text/x-python",
   "name": "python",
   "nbconvert_exporter": "python",
   "pygments_lexer": "ipython3",
   "version": "3.9.7"
  },
  "orig_nbformat": 4
 },
 "nbformat": 4,
 "nbformat_minor": 2
}
