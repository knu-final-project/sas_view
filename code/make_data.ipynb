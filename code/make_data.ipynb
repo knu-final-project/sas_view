{
 "cells": [
  {
   "cell_type": "code",
   "execution_count": 1,
   "metadata": {},
   "outputs": [],
   "source": [
    "import pandas as pd"
   ]
  },
  {
   "cell_type": "code",
   "execution_count": 20,
   "metadata": {},
   "outputs": [
    {
     "data": {
      "text/plain": [
       "37"
      ]
     },
     "execution_count": 20,
     "metadata": {},
     "output_type": "execute_result"
    }
   ],
   "source": [
    "a = [0, 90, 150, 80, 0.0035, 3,3,3,3,3,4,2,2,1,1,4,2,1,100,1,1,1,2,1,6,2000,2200,600,80,30,10,20,250,70,1150,4000,500]\n",
    "len(a)"
   ]
  },
  {
   "cell_type": "code",
   "execution_count": 21,
   "metadata": {},
   "outputs": [],
   "source": [
    "col = ['SEX','AGE','HE_HT','HE_WT','HE_BMI','LQ_1EQL','LQ_2EQL','LQ_3EQL','LQ_4EQL','LQ_5EQL','TOTAL_SLP_WD','BE3_81','BE3_85','BP1','SM_PRESNT','L_BR_FQ','BH1','HE_FH','HE_DBP','LQ4_00','BP7','MH_STRESS','HE_RPLS','BS13','BD1_11','N_INTK','N_EN','N_WATER','N_PROT','N_FAT','N_SFA','N_MUFA','N_CHOL','N_SUGAR','N_PHOS','N_NA','N_CAROT']"
   ]
  },
  {
   "cell_type": "code",
   "execution_count": 24,
   "metadata": {},
   "outputs": [
    {
     "data": {
      "text/plain": [
       "[{'SEX': 0,\n",
       "  'AGE': 90,\n",
       "  'HE_HT': 150,\n",
       "  'HE_WT': 80,\n",
       "  'HE_BMI': 0.0035,\n",
       "  'LQ_1EQL': 3,\n",
       "  'LQ_2EQL': 3,\n",
       "  'LQ_3EQL': 3,\n",
       "  'LQ_4EQL': 3,\n",
       "  'LQ_5EQL': 3,\n",
       "  'TOTAL_SLP_WD': 4,\n",
       "  'BE3_81': 2,\n",
       "  'BE3_85': 2,\n",
       "  'BP1': 1,\n",
       "  'SM_PRESNT': 1,\n",
       "  'L_BR_FQ': 4,\n",
       "  'BH1': 2,\n",
       "  'HE_FH': 1,\n",
       "  'HE_DBP': 100,\n",
       "  'LQ4_00': 1,\n",
       "  'BP7': 1,\n",
       "  'MH_STRESS': 1,\n",
       "  'HE_RPLS': 2,\n",
       "  'BS13': 1,\n",
       "  'BD1_11': 6,\n",
       "  'N_INTK': 2000,\n",
       "  'N_EN': 2200,\n",
       "  'N_WATER': 600,\n",
       "  'N_PROT': 80,\n",
       "  'N_FAT': 30,\n",
       "  'N_SFA': 10,\n",
       "  'N_MUFA': 20,\n",
       "  'N_CHOL': 250,\n",
       "  'N_SUGAR': 70,\n",
       "  'N_PHOS': 1150,\n",
       "  'N_NA': 4000,\n",
       "  'N_CAROT': 500}]"
      ]
     },
     "execution_count": 24,
     "metadata": {},
     "output_type": "execute_result"
    }
   ],
   "source": [
    "data_dict = [dict(zip(col,a))]\n",
    "data_dict"
   ]
  },
  {
   "cell_type": "code",
   "execution_count": 25,
   "metadata": {},
   "outputs": [
    {
     "data": {
      "text/html": [
       "<div>\n",
       "<style scoped>\n",
       "    .dataframe tbody tr th:only-of-type {\n",
       "        vertical-align: middle;\n",
       "    }\n",
       "\n",
       "    .dataframe tbody tr th {\n",
       "        vertical-align: top;\n",
       "    }\n",
       "\n",
       "    .dataframe thead th {\n",
       "        text-align: right;\n",
       "    }\n",
       "</style>\n",
       "<table border=\"1\" class=\"dataframe\">\n",
       "  <thead>\n",
       "    <tr style=\"text-align: right;\">\n",
       "      <th></th>\n",
       "      <th>SEX</th>\n",
       "      <th>AGE</th>\n",
       "      <th>HE_HT</th>\n",
       "      <th>HE_WT</th>\n",
       "      <th>HE_BMI</th>\n",
       "      <th>LQ_1EQL</th>\n",
       "      <th>LQ_2EQL</th>\n",
       "      <th>LQ_3EQL</th>\n",
       "      <th>LQ_4EQL</th>\n",
       "      <th>LQ_5EQL</th>\n",
       "      <th>...</th>\n",
       "      <th>N_WATER</th>\n",
       "      <th>N_PROT</th>\n",
       "      <th>N_FAT</th>\n",
       "      <th>N_SFA</th>\n",
       "      <th>N_MUFA</th>\n",
       "      <th>N_CHOL</th>\n",
       "      <th>N_SUGAR</th>\n",
       "      <th>N_PHOS</th>\n",
       "      <th>N_NA</th>\n",
       "      <th>N_CAROT</th>\n",
       "    </tr>\n",
       "  </thead>\n",
       "  <tbody>\n",
       "    <tr>\n",
       "      <th>0</th>\n",
       "      <td>0</td>\n",
       "      <td>90</td>\n",
       "      <td>150</td>\n",
       "      <td>80</td>\n",
       "      <td>0.0035</td>\n",
       "      <td>3</td>\n",
       "      <td>3</td>\n",
       "      <td>3</td>\n",
       "      <td>3</td>\n",
       "      <td>3</td>\n",
       "      <td>...</td>\n",
       "      <td>600</td>\n",
       "      <td>80</td>\n",
       "      <td>30</td>\n",
       "      <td>10</td>\n",
       "      <td>20</td>\n",
       "      <td>250</td>\n",
       "      <td>70</td>\n",
       "      <td>1150</td>\n",
       "      <td>4000</td>\n",
       "      <td>500</td>\n",
       "    </tr>\n",
       "  </tbody>\n",
       "</table>\n",
       "<p>1 rows × 37 columns</p>\n",
       "</div>"
      ],
      "text/plain": [
       "   SEX  AGE  HE_HT  HE_WT  HE_BMI  LQ_1EQL  LQ_2EQL  LQ_3EQL  LQ_4EQL  \\\n",
       "0    0   90    150     80  0.0035        3        3        3        3   \n",
       "\n",
       "   LQ_5EQL  ...  N_WATER  N_PROT  N_FAT  N_SFA  N_MUFA  N_CHOL  N_SUGAR  \\\n",
       "0        3  ...      600      80     30     10      20     250       70   \n",
       "\n",
       "   N_PHOS  N_NA  N_CAROT  \n",
       "0    1150  4000      500  \n",
       "\n",
       "[1 rows x 37 columns]"
      ]
     },
     "execution_count": 25,
     "metadata": {},
     "output_type": "execute_result"
    }
   ],
   "source": [
    "data = pd.DataFrame(data_dict)\n",
    "data"
   ]
  },
  {
   "cell_type": "code",
   "execution_count": 26,
   "metadata": {},
   "outputs": [],
   "source": [
    "import pickle\n",
    "pickle.dump(data, open('cho_data.pkl', 'wb'))"
   ]
  },
  {
   "cell_type": "code",
   "execution_count": null,
   "metadata": {},
   "outputs": [],
   "source": []
  }
 ],
 "metadata": {
  "interpreter": {
   "hash": "f08154012ddadd8e950e6e9e035c7a7b32c136e7647e9b7c77e02eb723a8bedb"
  },
  "kernelspec": {
   "display_name": "Python 3.8.12 ('base')",
   "language": "python",
   "name": "python3"
  },
  "language_info": {
   "codemirror_mode": {
    "name": "ipython",
    "version": 3
   },
   "file_extension": ".py",
   "mimetype": "text/x-python",
   "name": "python",
   "nbconvert_exporter": "python",
   "pygments_lexer": "ipython3",
   "version": "3.8.12"
  },
  "orig_nbformat": 4
 },
 "nbformat": 4,
 "nbformat_minor": 2
}
