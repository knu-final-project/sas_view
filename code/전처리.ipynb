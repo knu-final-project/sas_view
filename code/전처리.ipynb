{
 "cells": [
  {
   "cell_type": "code",
   "execution_count": 1,
   "metadata": {},
   "outputs": [],
   "source": [
    "import pandas as pd"
   ]
  },
  {
   "cell_type": "code",
   "execution_count": 7,
   "metadata": {},
   "outputs": [
    {
     "data": {
      "text/html": [
       "<div>\n",
       "<style scoped>\n",
       "    .dataframe tbody tr th:only-of-type {\n",
       "        vertical-align: middle;\n",
       "    }\n",
       "\n",
       "    .dataframe tbody tr th {\n",
       "        vertical-align: top;\n",
       "    }\n",
       "\n",
       "    .dataframe thead th {\n",
       "        text-align: right;\n",
       "    }\n",
       "</style>\n",
       "<table border=\"1\" class=\"dataframe\">\n",
       "  <thead>\n",
       "    <tr style=\"text-align: right;\">\n",
       "      <th></th>\n",
       "      <th>dis</th>\n",
       "      <th>var</th>\n",
       "      <th>Cor</th>\n",
       "      <th>dis_설명</th>\n",
       "      <th>var_설명</th>\n",
       "    </tr>\n",
       "  </thead>\n",
       "  <tbody>\n",
       "    <tr>\n",
       "      <th>258</th>\n",
       "      <td>DC1_PR</td>\n",
       "      <td>DK4_PT</td>\n",
       "      <td>0.500</td>\n",
       "      <td>위암 현재 유병 여부</td>\n",
       "      <td>간경변증 치료</td>\n",
       "    </tr>\n",
       "    <tr>\n",
       "      <th>362</th>\n",
       "      <td>DC1_PR</td>\n",
       "      <td>EC_STT_2</td>\n",
       "      <td>0.524</td>\n",
       "      <td>위암 현재 유병 여부</td>\n",
       "      <td>(취업자) 종사상지위_임금근로자 상세</td>\n",
       "    </tr>\n",
       "    <tr>\n",
       "      <th>360</th>\n",
       "      <td>DC1_PR</td>\n",
       "      <td>BM13_3</td>\n",
       "      <td>0.461</td>\n",
       "      <td>위암 현재 유병 여부</td>\n",
       "      <td>치아손상 사유: 교통사고</td>\n",
       "    </tr>\n",
       "    <tr>\n",
       "      <th>92</th>\n",
       "      <td>DC1_PR</td>\n",
       "      <td>DC1_PT</td>\n",
       "      <td>0.772</td>\n",
       "      <td>위암 현재 유병 여부</td>\n",
       "      <td>위암 치료 여부</td>\n",
       "    </tr>\n",
       "    <tr>\n",
       "      <th>70</th>\n",
       "      <td>DC1_PR</td>\n",
       "      <td>BE3_78</td>\n",
       "      <td>-0.577</td>\n",
       "      <td>위암 현재 유병 여부</td>\n",
       "      <td>여가_고강도 신체활동 시간(분)</td>\n",
       "    </tr>\n",
       "    <tr>\n",
       "      <th>...</th>\n",
       "      <td>...</td>\n",
       "      <td>...</td>\n",
       "      <td>...</td>\n",
       "      <td>...</td>\n",
       "      <td>...</td>\n",
       "    </tr>\n",
       "    <tr>\n",
       "      <th>59</th>\n",
       "      <td>DM4_PR</td>\n",
       "      <td>BE3_77</td>\n",
       "      <td>-0.420</td>\n",
       "      <td>골다공증 현재 유병 여부</td>\n",
       "      <td>여가_고강도 신체활동 시간(시간)</td>\n",
       "    </tr>\n",
       "    <tr>\n",
       "      <th>66</th>\n",
       "      <td>DM4_PR</td>\n",
       "      <td>BE3_78</td>\n",
       "      <td>0.821</td>\n",
       "      <td>골다공증 현재 유병 여부</td>\n",
       "      <td>여가_고강도 신체활동 시간(분)</td>\n",
       "    </tr>\n",
       "    <tr>\n",
       "      <th>193</th>\n",
       "      <td>DM4_PR</td>\n",
       "      <td>AC3_1_02</td>\n",
       "      <td>-0.436</td>\n",
       "      <td>골다공증 현재 유병 여부</td>\n",
       "      <td>손상2 발생시기-년도</td>\n",
       "    </tr>\n",
       "    <tr>\n",
       "      <th>188</th>\n",
       "      <td>DM4_PR</td>\n",
       "      <td>DC6_PT</td>\n",
       "      <td>0.471</td>\n",
       "      <td>골다공증 현재 유병 여부</td>\n",
       "      <td>폐암 치료 여부</td>\n",
       "    </tr>\n",
       "    <tr>\n",
       "      <th>101</th>\n",
       "      <td>DM4_PR</td>\n",
       "      <td>BE3_74</td>\n",
       "      <td>-0.479</td>\n",
       "      <td>골다공증 현재 유병 여부</td>\n",
       "      <td>일_고강도 신체활동 시간(분)</td>\n",
       "    </tr>\n",
       "  </tbody>\n",
       "</table>\n",
       "<p>400 rows × 5 columns</p>\n",
       "</div>"
      ],
      "text/plain": [
       "        dis       var    Cor         dis_설명                var_설명\n",
       "258  DC1_PR    DK4_PT  0.500    위암 현재 유병 여부              간경변증 치료 \n",
       "362  DC1_PR  EC_STT_2  0.524    위암 현재 유병 여부  (취업자) 종사상지위_임금근로자 상세\n",
       "360  DC1_PR    BM13_3  0.461    위암 현재 유병 여부         치아손상 사유: 교통사고\n",
       "92   DC1_PR    DC1_PT  0.772    위암 현재 유병 여부              위암 치료 여부\n",
       "70   DC1_PR    BE3_78 -0.577    위암 현재 유병 여부     여가_고강도 신체활동 시간(분)\n",
       "..      ...       ...    ...            ...                   ...\n",
       "59   DM4_PR    BE3_77 -0.420  골다공증 현재 유병 여부    여가_고강도 신체활동 시간(시간)\n",
       "66   DM4_PR    BE3_78  0.821  골다공증 현재 유병 여부     여가_고강도 신체활동 시간(분)\n",
       "193  DM4_PR  AC3_1_02 -0.436  골다공증 현재 유병 여부           손상2 발생시기-년도\n",
       "188  DM4_PR    DC6_PT  0.471  골다공증 현재 유병 여부             폐암 치료 여부 \n",
       "101  DM4_PR    BE3_74 -0.479  골다공증 현재 유병 여부      일_고강도 신체활동 시간(분)\n",
       "\n",
       "[400 rows x 5 columns]"
      ]
     },
     "execution_count": 7,
     "metadata": {},
     "output_type": "execute_result"
    }
   ],
   "source": [
    "df = pd.read_csv('cor2_output.csv',encoding='cp949',index_col=0)\n",
    "df"
   ]
  },
  {
   "cell_type": "code",
   "execution_count": 10,
   "metadata": {},
   "outputs": [],
   "source": [
    "dis_s = set(df.iloc[:,0])\n",
    "var_s = set(df.iloc[:,1])\n",
    "dis_s = list(dis_s)\n",
    "var_s = list(var_s)"
   ]
  },
  {
   "cell_type": "markdown",
   "metadata": {},
   "source": [
    "#### 데이터 보기"
   ]
  },
  {
   "cell_type": "code",
   "execution_count": null,
   "metadata": {},
   "outputs": [],
   "source": []
  }
 ],
 "metadata": {
  "interpreter": {
   "hash": "3a909b764e5297ab7243911d79b34f3ad584c453baa3fb8c1fea8bd611715306"
  },
  "kernelspec": {
   "display_name": "Python 3.8.13 ('conda38')",
   "language": "python",
   "name": "python3"
  },
  "language_info": {
   "codemirror_mode": {
    "name": "ipython",
    "version": 3
   },
   "file_extension": ".py",
   "mimetype": "text/x-python",
   "name": "python",
   "nbconvert_exporter": "python",
   "pygments_lexer": "ipython3",
   "version": "3.8.13"
  },
  "orig_nbformat": 4
 },
 "nbformat": 4,
 "nbformat_minor": 2
}
