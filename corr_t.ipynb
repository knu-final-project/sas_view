{
 "cells": [
  {
   "cell_type": "code",
   "execution_count": null,
   "metadata": {},
   "outputs": [],
   "source": [
    "# 라이브러리\n",
    "import pandas as pd\n",
    "import numpy as np"
   ]
  },
  {
   "cell_type": "code",
   "execution_count": null,
   "metadata": {},
   "outputs": [],
   "source": [
    "## 데이터 불러오기\n",
    "age_1 = pd.read_csv('C:/sas_view/data/concat_age1.csv')\n",
    "age_2 = pd.read_csv('C:/sas_view/data/concat_age2.csv')"
   ]
  },
  {
   "cell_type": "markdown",
   "metadata": {},
   "source": [
    "### 상관계수 1 "
   ]
  },
  {
   "cell_type": "code",
   "execution_count": null,
   "metadata": {},
   "outputs": [],
   "source": [
    "## 상관계수 만들기\n",
    "def get_redundant_pairs(df):\n",
    "    '''Get diagonal and lower triangular pairs of correlation matrix'''\n",
    "    pairs_to_drop = set()\n",
    "    cols = df.columns\n",
    "    for i in range(0, df.shape[1]):\n",
    "        for j in range(0, i+1):\n",
    "            pairs_to_drop.add((cols[i], cols[j]))\n",
    "    return pairs_to_drop\n",
    "\n",
    "def get_top_abs_correlations(df):\n",
    "    au_corr = df.corr().abs().unstack()\n",
    "    labels_to_drop = get_redundant_pairs(df)\n",
    "    au_corr = au_corr.drop(labels=labels_to_drop).sort_values(ascending=False)\n",
    "    au_corr = au_corr[((au_corr >= .5) | (au_corr <= -.5)) & (au_corr !=1.000)]\n",
    "    return au_corr"
   ]
  },
  {
   "cell_type": "code",
   "execution_count": null,
   "metadata": {},
   "outputs": [],
   "source": [
    "def corrFilter(x: pd.DataFrame, bound: float):\n",
    "    xCorr = x.corr()\n",
    "    xFiltered = xCorr[((xCorr >= bound) | (xCorr <= -bound)) & (xCorr !=1.000)]\n",
    "    xFlattened = xFiltered.unstack().sort_values().drop_duplicates()\n",
    "    return xFlattened"
   ]
  },
  {
   "cell_type": "code",
   "execution_count": null,
   "metadata": {},
   "outputs": [],
   "source": [
    "# Data\n",
    "import numpy as np\n",
    "import pandas as pd\n",
    "\n",
    "# Visualization\n",
    "import matplotlib.pyplot as plt\n",
    "import seaborn as sns\n",
    "#import plotly.express as px\n",
    "#import plotly.graph_objects as go\n",
    "\n",
    "#warning\n",
    "import warnings\n",
    "warnings.filterwarnings('ignore')"
   ]
  },
  {
   "cell_type": "code",
   "execution_count": null,
   "metadata": {},
   "outputs": [],
   "source": [
    "def cor(year,data1,data2,by):\n",
    "    use_list = []\n",
    "    for i in range(1,data1.shape[1]):  # 컬럼 수 793\n",
    "        print('---------------',data1.columns[i],'index',i,'-------------')  \n",
    "        test = pd.merge(data2,data1.iloc[:,[0,i]],on=by) # ID\n",
    "        n = 0\n",
    "        for j, dtype in test.dtypes.iteritems():\n",
    "            if dtype == 'object':\n",
    "                n += 1\n",
    "        if n != 2:\n",
    "            print(\"Top Absolute Correlations\")\n",
    "            print(get_top_abs_correlations(test.iloc[:,1:]))\n",
    "            use_list.append(data1.columns[i])\n",
    "\n",
    "            #corr = test.corr()\n",
    "            #filteredDf = corr[((corr >= .5) | (corr <= -.5)) & (corr !=1.000)]\n",
    "            #plt.figure(figsize=(30,10))\n",
    "            #sns.heatmap(filteredDf, annot=True, cmap=\"Reds\")\n",
    "            #plt.savefig(f'E:/final/sas_view/code/{year}_cor/{year}_{data1.columns[i]}.png')\n",
    "\n",
    "                    \n",
    "        else:\n",
    "            print('문자형입니다! Pass~')\n",
    "    \n",
    "    print(len(use_list),use_list)"
   ]
  },
  {
   "cell_type": "code",
   "execution_count": null,
   "metadata": {},
   "outputs": [],
   "source": [
    "strFormat = '%-10s%-10s%-10s\\n'\n",
    "strOut = strFormat % ('var','dis','Cor')\n",
    "\n",
    "for i in range(1,age19_1.shape[1]):\n",
    "    \n",
    "    for j in range(1,age19_2.shape[1]):\n",
    "        try:\n",
    "            corr = age19_1.iloc[:,i].corr(age19_2.iloc[:,j])\n",
    "            if ((corr >= .5) | (corr <= -.5)) & (corr !=1.000):\n",
    "                strOut += strFormat %(age19_1.columns[i],age19_2.columns[j],round(corr,3))\n",
    "    \n",
    "        except:\n",
    "            pass\n",
    "\n",
    "print(strOut)"
   ]
  },
  {
   "cell_type": "code",
   "execution_count": null,
   "metadata": {},
   "outputs": [],
   "source": [
    "test = pd.merge(age19_2,age19_1.iloc[:,[0,3]],on='ID') # ID"
   ]
  },
  {
   "cell_type": "code",
   "execution_count": null,
   "metadata": {},
   "outputs": [],
   "source": [
    "for h in range(1,data2.shape[1]):\n",
    "                corr = test.iloc[:,test.shape[1]-1].corr(test.iloc[:,h])\n",
    "                if ((corr >= .5) | (corr <= -.5)) & (corr !=1.000):\n",
    "                    strOut += strFormat %(test.columns[len(test)-1],age19_2.columns[j],round(corr,3))"
   ]
  },
  {
   "cell_type": "code",
   "execution_count": null,
   "metadata": {},
   "outputs": [],
   "source": [
    "for j, dtype in test.dtypes.iteritems():\n",
    "    print(j,dtype)"
   ]
  },
  {
   "cell_type": "code",
   "execution_count": null,
   "metadata": {},
   "outputs": [],
   "source": [
    "def cor(data1,data2,by):\n",
    "    strFormat = '%-10s%-10s%-10s\\n'\n",
    "    strOut = strFormat %('dis','var','Cor')    \n",
    "    use_list = []\n",
    "    \n",
    "    for i in range(1,data1.shape[1]):  # 컬럼 수 793 \n",
    "        test = pd.merge(data2,data1.iloc[:,[0,i]],on=by) # ID\n",
    "        n = 0\n",
    "        for j, dtype in test.dtypes.iteritems():\n",
    "            if dtype == 'object':\n",
    "                n += 1\n",
    "        if n != 2:\n",
    "            for h in range(1,data2.shape[1]-1):\n",
    "                corr = test.iloc[:,test.shape[1]-1].corr(test.iloc[:,h])\n",
    "                print(test.iloc[:,test.shape[1]-1],test.iloc[:,h])\n",
    "                strOut += strFormat %(test.columns[test.shape[1]-1],test.columns[h],round(corr,3))\n",
    "            print(strOut)\n",
    "\n",
    "\n",
    "                    \n",
    "        else:\n",
    "            print('문자형입니다! Pass~')"
   ]
  },
  {
   "cell_type": "code",
   "execution_count": null,
   "metadata": {},
   "outputs": [],
   "source": [
    "cor(age19_1,age19_2,'ID')"
   ]
  },
  {
   "cell_type": "code",
   "execution_count": null,
   "metadata": {},
   "outputs": [],
   "source": [
    "print(strOut)"
   ]
  },
  {
   "cell_type": "code",
   "execution_count": null,
   "metadata": {},
   "outputs": [],
   "source": []
  },
  {
   "cell_type": "code",
   "execution_count": null,
   "metadata": {},
   "outputs": [],
   "source": [
    "print(strOut)"
   ]
  },
  {
   "cell_type": "code",
   "execution_count": null,
   "metadata": {},
   "outputs": [],
   "source": [
    "cor(20,age20_1,age20_2,'ID')"
   ]
  },
  {
   "cell_type": "code",
   "execution_count": null,
   "metadata": {},
   "outputs": [],
   "source": []
  },
  {
   "cell_type": "code",
   "execution_count": null,
   "metadata": {},
   "outputs": [],
   "source": [
    "cor(20,age20_1,age20_2,'ID')\n",
    "cor(18,age18_1,age18_2,'id')\n",
    "cor(17,age17_1,age17_2,'id')\n",
    "cor(16,age16_1,age16_2,'id')"
   ]
  },
  {
   "cell_type": "code",
   "execution_count": null,
   "metadata": {},
   "outputs": [],
   "source": [
    "len(use_list)"
   ]
  },
  {
   "cell_type": "code",
   "execution_count": null,
   "metadata": {},
   "outputs": [],
   "source": [
    "use_list"
   ]
  },
  {
   "cell_type": "code",
   "execution_count": null,
   "metadata": {},
   "outputs": [],
   "source": [
    "#### 컬럼확인 ######\n",
    "for i in range(0,len(use_list)):\n",
    "    print('--------------',use_list[i],'-----------------------')\n",
    "    print(data1.loc[:,use_list[i]].value_counts(),'\\n')"
   ]
  },
  {
   "cell_type": "code",
   "execution_count": null,
   "metadata": {},
   "outputs": [],
   "source": []
  },
  {
   "cell_type": "markdown",
   "metadata": {},
   "source": [
    "### 상관계수 (도전!!!!)"
   ]
  },
  {
   "cell_type": "code",
   "execution_count": null,
   "metadata": {},
   "outputs": [],
   "source": [
    "strFormat = '%-10s%-10s%-10s\\n'\n",
    "strOut = strFormat % ('dis','var','Cor')\n",
    "\n",
    "for i in range(1,age19_2.shape[1]):\n",
    "    \n",
    "    for j in range(1,age19_1.shape[1]):\n",
    "        try:\n",
    "            corr = age19_2.iloc[:,i].corr(age19_1.iloc[:,j])\n",
    "            if ((corr >= .5) | (corr <= -.5)) & (corr !=1.000):\n",
    "                strOut += strFormat %(age19_2.columns[i],age19_1.columns[j],round(corr,3))\n",
    "    \n",
    "        except:\n",
    "            pass\n",
    "\n",
    "print(strOut)"
   ]
  },
  {
   "cell_type": "code",
   "execution_count": null,
   "metadata": {},
   "outputs": [],
   "source": [
    "test_1 = pd.concat([age20_2,age19_2])"
   ]
  },
  {
   "cell_type": "code",
   "execution_count": null,
   "metadata": {},
   "outputs": [],
   "source": [
    "test_1.rename(columns={'ID':'id'},inplace=True)"
   ]
  },
  {
   "cell_type": "code",
   "execution_count": null,
   "metadata": {},
   "outputs": [],
   "source": [
    "test_2 = pd.concat([test_1,age18_2,age17_2,age16_2])"
   ]
  },
  {
   "cell_type": "code",
   "execution_count": null,
   "metadata": {},
   "outputs": [],
   "source": [
    "f = open('19_cor.txt','w')\n",
    "strFormat = '%-10s%-10s%-10s\\n'\n",
    "\n",
    "for i in range(1,age19_2.shape[1]):\n",
    "    strOut = strFormat % ('dis','var','Cor')\n",
    "    for j in range(1,age19_1.shape[1]):\n",
    "        try:\n",
    "            corr = age19_2.iloc[:,i].corr(age19_1.iloc[:,j])\n",
    "            if ((corr >= .5) | (corr <= -.5)) & (corr !=1.000):\n",
    "                strOut += strFormat %(age19_2.columns[i],age19_1.columns[j],round(corr,3))\n",
    "    \n",
    "        except:\n",
    "            pass\n",
    "    f.write(f'-------------{age19_2.columns[i]}-------------------','/n')\n",
    "    f.write(strOut)      \n",
    "\n",
    "f.close()"
   ]
  },
  {
   "cell_type": "code",
   "execution_count": null,
   "metadata": {},
   "outputs": [],
   "source": [
    "f = open('19_cor.txt','w')\n",
    "strFormat = '%-10s%-10s%-10s\\n'\n",
    "strOut = strFormat % ('var','dis','Cor')\n",
    "\n",
    "for i in range(1,age19_1.shape[1]):\n",
    "    \n",
    "    for j in range(1,age19_2.shape[1]):\n",
    "        try:\n",
    "            corr = age19_1.iloc[:,i].corr(age19_2.iloc[:,j])\n",
    "            if ((corr >= .5) | (corr <= -.5)) & (corr !=1.000):\n",
    "                strOut += strFormat %(age19_1.columns[i],age19_2.columns[j],round(corr,3))\n",
    "    \n",
    "        except:\n",
    "            pass\n",
    "            \n",
    "f.write(strOut)\n",
    "f.close()"
   ]
  },
  {
   "cell_type": "code",
   "execution_count": null,
   "metadata": {},
   "outputs": [],
   "source": []
  }
 ],
 "metadata": {
  "interpreter": {
   "hash": "33cdb3cbbdebaa00aa76657bab9111f45303831c988d5bee2409c0aa4b06f1d4"
  },
  "kernelspec": {
   "display_name": "Python 3.7.11 ('conda37')",
   "language": "python",
   "name": "python3"
  },
  "language_info": {
   "codemirror_mode": {
    "name": "ipython",
    "version": 3
   },
   "file_extension": ".py",
   "mimetype": "text/x-python",
   "name": "python",
   "nbconvert_exporter": "python",
   "pygments_lexer": "ipython3",
   "version": "3.7.11"
  },
  "orig_nbformat": 4
 },
 "nbformat": 4,
 "nbformat_minor": 2
}
