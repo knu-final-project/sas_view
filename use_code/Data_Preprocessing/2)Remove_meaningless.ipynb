{
 "cells": [
  {
   "cell_type": "code",
   "execution_count": 1,
   "metadata": {},
   "outputs": [],
   "source": [
    "import pandas as pd\n",
    "import numpy as np"
   ]
  },
  {
   "cell_type": "code",
   "execution_count": 4,
   "metadata": {},
   "outputs": [
    {
     "name": "stderr",
     "output_type": "stream",
     "text": [
      "C:\\Users\\USER\\AppData\\Local\\Temp\\ipykernel_18980\\310641556.py:1: DtypeWarning: Columns (48,180,427,468,615) have mixed types. Specify dtype option on import or set low_memory=False.\n",
      "  pre_age16_1 = pd.read_csv('data/pre_age16_1.csv')\n",
      "C:\\Users\\USER\\AppData\\Local\\Temp\\ipykernel_18980\\310641556.py:2: DtypeWarning: Columns (263,401,521) have mixed types. Specify dtype option on import or set low_memory=False.\n",
      "  pre_age17_1 = pd.read_csv('data/pre_age17_1.csv')\n",
      "C:\\Users\\USER\\AppData\\Local\\Temp\\ipykernel_18980\\310641556.py:3: DtypeWarning: Columns (43,126,290,311,327,408,527,542) have mixed types. Specify dtype option on import or set low_memory=False.\n",
      "  pre_age18_1 = pd.read_csv('data/pre_age18_1.csv')\n",
      "C:\\Users\\USER\\AppData\\Local\\Temp\\ipykernel_18980\\310641556.py:4: DtypeWarning: Columns (43,44,98,638) have mixed types. Specify dtype option on import or set low_memory=False.\n",
      "  pre_age19_1 = pd.read_csv('data/pre_age19_1.csv')\n",
      "C:\\Users\\USER\\AppData\\Local\\Temp\\ipykernel_18980\\310641556.py:5: DtypeWarning: Columns (120,569) have mixed types. Specify dtype option on import or set low_memory=False.\n",
      "  pre_age20_1 = pd.read_csv('data/pre_age20_1.csv')\n"
     ]
    }
   ],
   "source": [
    "pre_age16_1 = pd.read_csv('data/pre_age16_1.csv')\n",
    "pre_age17_1 = pd.read_csv('data/pre_age17_1.csv')\n",
    "pre_age18_1 = pd.read_csv('data/pre_age18_1.csv')\n",
    "pre_age19_1 = pd.read_csv('data/pre_age19_1.csv')\n",
    "pre_age20_1 = pd.read_csv('data/pre_age20_1.csv')\n",
    "\n",
    "pre_age16_2 = pd.read_csv('data/pre_age16_2.csv')\n",
    "pre_age17_2 = pd.read_csv('data/pre_age17_2.csv')\n",
    "pre_age18_2 = pd.read_csv('data/pre_age18_2.csv')\n",
    "pre_age19_2 = pd.read_csv('data/pre_age19_2.csv')\n",
    "pre_age20_2 = pd.read_csv('data/pre_age20_2.csv')"
   ]
  },
  {
   "cell_type": "markdown",
   "metadata": {},
   "source": [
    "# 값이 1개이하인 컬럼들"
   ]
  },
  {
   "cell_type": "code",
   "execution_count": 47,
   "metadata": {},
   "outputs": [
    {
     "data": {
      "text/plain": [
       "133"
      ]
     },
     "execution_count": 47,
     "metadata": {},
     "output_type": "execute_result"
    }
   ],
   "source": [
    "# 값이 한종류 밖에 없는건 의미가 없지않을까?\n",
    "# 16_1로 살펴보자\n",
    "colname16_1 = list(pre_age16_1.columns)\n",
    "sum(pre_age16_1.nunique() <= 1) # Boolean으로 나와서 몇개나 있는지 세어봄"
   ]
  },
  {
   "cell_type": "code",
   "execution_count": 81,
   "metadata": {},
   "outputs": [
    {
     "data": {
      "text/plain": [
       "94"
      ]
     },
     "execution_count": 81,
     "metadata": {},
     "output_type": "execute_result"
    }
   ],
   "source": [
    "# 어떤 컬럼들이지\n",
    "how_16_1 = []\n",
    "for i in colname16_1:\n",
    "    if (len(pre_age16_1[i].unique()) <= 1): # nunique 가 아니라 unique : nunique는 nan을 세지 않는다.\n",
    "        how_16_1.append(i)\n",
    "    else : pass\n",
    "    \n",
    "len(how_16_1) # 몇개나 있는지"
   ]
  },
  {
   "cell_type": "markdown",
   "metadata": {},
   "source": [
    "## 삭제하기"
   ]
  },
  {
   "cell_type": "code",
   "execution_count": 109,
   "metadata": {},
   "outputs": [],
   "source": [
    "# 값이 1개이하인 친구들 다 지워버리는 함수\n",
    "def remove_meaningless(df):\n",
    "    col_name = df.columns\n",
    "    rm_col_name = []\n",
    "    for i in col_name:\n",
    "        if (len(df[i].unique()) <= 1):\n",
    "            rm_col_name.append(i)\n",
    "        else : pass\n",
    "    df2 = df.copy()\n",
    "    df2 = df2.drop(rm_col_name, axis = 1)\n",
    "\n",
    "    # 삭제 확인 부분\n",
    "    a = len(col_name)\n",
    "    b = len(rm_col_name)\n",
    "    c = len(df2.columns)\n",
    "\n",
    "    print('기존 컬럼 수\\t - 삭제한 컬럼\\t = 새 컬럼 수')\n",
    "    print('   {}\\t\\t -    {}   \\t =    {}'.format(a, b, c))\n",
    "\n",
    "    return df2"
   ]
  },
  {
   "cell_type": "code",
   "execution_count": 111,
   "metadata": {},
   "outputs": [
    {
     "name": "stdout",
     "output_type": "stream",
     "text": [
      "기존 컬럼 수\t - 삭제한 컬럼\t = 새 컬럼 수\n",
      "   772\t\t -    94   \t =    678\n",
      "기존 컬럼 수\t - 삭제한 컬럼\t = 새 컬럼 수\n",
      "   830\t\t -    133   \t =    697\n",
      "기존 컬럼 수\t - 삭제한 컬럼\t = 새 컬럼 수\n",
      "   758\t\t -    61   \t =    697\n",
      "기존 컬럼 수\t - 삭제한 컬럼\t = 새 컬럼 수\n",
      "   793\t\t -    86   \t =    707\n",
      "기존 컬럼 수\t - 삭제한 컬럼\t = 새 컬럼 수\n",
      "   724\t\t -    86   \t =    638\n",
      "--------------------------------------------\n",
      "기존 컬럼 수\t - 삭제한 컬럼\t = 새 컬럼 수\n",
      "   29\t\t -    0   \t =    29\n",
      "기존 컬럼 수\t - 삭제한 컬럼\t = 새 컬럼 수\n",
      "   29\t\t -    0   \t =    29\n",
      "기존 컬럼 수\t - 삭제한 컬럼\t = 새 컬럼 수\n",
      "   29\t\t -    0   \t =    29\n",
      "기존 컬럼 수\t - 삭제한 컬럼\t = 새 컬럼 수\n",
      "   29\t\t -    0   \t =    29\n",
      "기존 컬럼 수\t - 삭제한 컬럼\t = 새 컬럼 수\n",
      "   29\t\t -    0   \t =    29\n"
     ]
    }
   ],
   "source": [
    "pre2_age16_1 = remove_meaningless(pre_age16_1)\n",
    "pre2_age17_1 = remove_meaningless(pre_age17_1)\n",
    "pre2_age18_1 = remove_meaningless(pre_age18_1)\n",
    "pre2_age19_1 = remove_meaningless(pre_age19_1)\n",
    "pre2_age20_1 = remove_meaningless(pre_age20_1)\n",
    "print('--------------------------------------------')\n",
    "pre2_age16_2 = remove_meaningless(pre_age16_2)\n",
    "pre2_age17_2 = remove_meaningless(pre_age17_2)\n",
    "pre2_age18_2 = remove_meaningless(pre_age18_2)\n",
    "pre2_age19_2 = remove_meaningless(pre_age19_2)\n",
    "pre2_age20_2 = remove_meaningless(pre_age20_2)"
   ]
  },
  {
   "cell_type": "markdown",
   "metadata": {},
   "source": [
    "# 저.장"
   ]
  },
  {
   "cell_type": "code",
   "execution_count": 113,
   "metadata": {},
   "outputs": [],
   "source": [
    "pre2_age16_1.to_csv('data\\pre2_age16_1.csv', index=False)\n",
    "pre2_age17_1.to_csv('data\\pre2_age17_1.csv', index=False)\n",
    "pre2_age18_1.to_csv('data\\pre2_age18_1.csv', index=False)\n",
    "pre2_age19_1.to_csv('data\\pre2_age19_1.csv', index=False)\n",
    "pre2_age20_1.to_csv('data\\pre2_age20_1.csv', index=False)\n",
    "\n",
    "pre2_age16_2.to_csv('data\\pre2_age16_2.csv', index=False)\n",
    "pre2_age17_2.to_csv('data\\pre2_age17_2.csv', index=False)\n",
    "pre2_age18_2.to_csv('data\\pre2_age18_2.csv', index=False)\n",
    "pre2_age19_2.to_csv('data\\pre2_age19_2.csv', index=False)\n",
    "pre2_age20_2.to_csv('data\\pre2_age20_2.csv', index=False)"
   ]
  },
  {
   "cell_type": "code",
   "execution_count": null,
   "metadata": {},
   "outputs": [],
   "source": []
  }
 ],
 "metadata": {
  "interpreter": {
   "hash": "23300995598eec4bcf6bd89cf02d1c3675e8b2616661418dbbf5580aa901878d"
  },
  "kernelspec": {
   "display_name": "Python 3.9.4 64-bit",
   "language": "python",
   "name": "python3"
  },
  "language_info": {
   "codemirror_mode": {
    "name": "ipython",
    "version": 3
   },
   "file_extension": ".py",
   "mimetype": "text/x-python",
   "name": "python",
   "nbconvert_exporter": "python",
   "pygments_lexer": "ipython3",
   "version": "3.9.4"
  },
  "orig_nbformat": 4
 },
 "nbformat": 4,
 "nbformat_minor": 2
}
