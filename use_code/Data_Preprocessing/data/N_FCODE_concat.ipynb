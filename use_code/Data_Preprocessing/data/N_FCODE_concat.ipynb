{
 "cells": [
  {
   "cell_type": "code",
   "execution_count": 7,
   "metadata": {},
   "outputs": [],
   "source": [
    "import pandas as pd"
   ]
  },
  {
   "cell_type": "code",
   "execution_count": 8,
   "metadata": {},
   "outputs": [],
   "source": [
    "fc_convert1 = pd.read_csv('C:/sas_view/use_code/rc16.csv', index_col= 0)\n",
    "fc_convert2 = pd.read_csv('C:/sas_view/use_code/rc17.csv', index_col= 0)\n",
    "fc_convert3 = pd.read_csv('C:/sas_view/use_code/rc18.csv', index_col= 0)\n",
    "fc_convert4 = pd.read_csv('C:/sas_view/use_code/rc19.csv', index_col= 0)\n",
    "fc_convert5 = pd.read_csv('C:/sas_view/use_code/rc20.csv', index_col= 0)"
   ]
  },
  {
   "cell_type": "code",
   "execution_count": 9,
   "metadata": {},
   "outputs": [],
   "source": [
    "NF_concat = pd.concat([fc_convert1, fc_convert2, fc_convert3, fc_convert4, fc_convert5], axis=0)"
   ]
  },
  {
   "cell_type": "code",
   "execution_count": 10,
   "metadata": {},
   "outputs": [],
   "source": [
    "N_FCODE_concat = NF_concat[['ID','N_DCODE']]"
   ]
  },
  {
   "cell_type": "code",
   "execution_count": 11,
   "metadata": {},
   "outputs": [
    {
     "data": {
      "text/html": [
       "<div>\n",
       "<style scoped>\n",
       "    .dataframe tbody tr th:only-of-type {\n",
       "        vertical-align: middle;\n",
       "    }\n",
       "\n",
       "    .dataframe tbody tr th {\n",
       "        vertical-align: top;\n",
       "    }\n",
       "\n",
       "    .dataframe thead th {\n",
       "        text-align: right;\n",
       "    }\n",
       "</style>\n",
       "<table border=\"1\" class=\"dataframe\">\n",
       "  <thead>\n",
       "    <tr style=\"text-align: right;\">\n",
       "      <th></th>\n",
       "      <th>ID</th>\n",
       "      <th>N_DCODE</th>\n",
       "    </tr>\n",
       "  </thead>\n",
       "  <tbody>\n",
       "    <tr>\n",
       "      <th>0</th>\n",
       "      <td>b'A651172801'</td>\n",
       "      <td>b'10159'</td>\n",
       "    </tr>\n",
       "    <tr>\n",
       "      <th>1</th>\n",
       "      <td>b'A651172801'</td>\n",
       "      <td>b'10159'</td>\n",
       "    </tr>\n",
       "    <tr>\n",
       "      <th>2</th>\n",
       "      <td>b'A651172801'</td>\n",
       "      <td>b'11372'</td>\n",
       "    </tr>\n",
       "    <tr>\n",
       "      <th>3</th>\n",
       "      <td>b'A651172801'</td>\n",
       "      <td>b'11372'</td>\n",
       "    </tr>\n",
       "    <tr>\n",
       "      <th>4</th>\n",
       "      <td>b'A651172801'</td>\n",
       "      <td>b'11372'</td>\n",
       "    </tr>\n",
       "    <tr>\n",
       "      <th>...</th>\n",
       "      <td>...</td>\n",
       "      <td>...</td>\n",
       "    </tr>\n",
       "    <tr>\n",
       "      <th>389130</th>\n",
       "      <td>b'R804371702'</td>\n",
       "      <td>b'73606'</td>\n",
       "    </tr>\n",
       "    <tr>\n",
       "      <th>389131</th>\n",
       "      <td>b'R804371702'</td>\n",
       "      <td>b'73606'</td>\n",
       "    </tr>\n",
       "    <tr>\n",
       "      <th>389132</th>\n",
       "      <td>b'R804371702'</td>\n",
       "      <td>b'73606'</td>\n",
       "    </tr>\n",
       "    <tr>\n",
       "      <th>389133</th>\n",
       "      <td>b'R804371702'</td>\n",
       "      <td>b'73606'</td>\n",
       "    </tr>\n",
       "    <tr>\n",
       "      <th>389134</th>\n",
       "      <td>b'R804371702'</td>\n",
       "      <td>b'73606'</td>\n",
       "    </tr>\n",
       "  </tbody>\n",
       "</table>\n",
       "<p>2488418 rows × 2 columns</p>\n",
       "</div>"
      ],
      "text/plain": [
       "                   ID   N_DCODE\n",
       "0       b'A651172801'  b'10159'\n",
       "1       b'A651172801'  b'10159'\n",
       "2       b'A651172801'  b'11372'\n",
       "3       b'A651172801'  b'11372'\n",
       "4       b'A651172801'  b'11372'\n",
       "...               ...       ...\n",
       "389130  b'R804371702'  b'73606'\n",
       "389131  b'R804371702'  b'73606'\n",
       "389132  b'R804371702'  b'73606'\n",
       "389133  b'R804371702'  b'73606'\n",
       "389134  b'R804371702'  b'73606'\n",
       "\n",
       "[2488418 rows x 2 columns]"
      ]
     },
     "execution_count": 11,
     "metadata": {},
     "output_type": "execute_result"
    }
   ],
   "source": [
    "N_FCODE_concat"
   ]
  },
  {
   "cell_type": "code",
   "execution_count": 12,
   "metadata": {},
   "outputs": [],
   "source": [
    "for i in range(0, len(N_FCODE_concat)):\n",
    "    N_FCODE_concat.iloc[i][0] = N_FCODE_concat.iloc[i][0][2:-1]\n",
    "    N_FCODE_concat.iloc[i][1] = N_FCODE_concat.iloc[i][1][3:-1]\n",
    "    "
   ]
  },
  {
   "cell_type": "code",
   "execution_count": 13,
   "metadata": {},
   "outputs": [
    {
     "data": {
      "text/html": [
       "<div>\n",
       "<style scoped>\n",
       "    .dataframe tbody tr th:only-of-type {\n",
       "        vertical-align: middle;\n",
       "    }\n",
       "\n",
       "    .dataframe tbody tr th {\n",
       "        vertical-align: top;\n",
       "    }\n",
       "\n",
       "    .dataframe thead th {\n",
       "        text-align: right;\n",
       "    }\n",
       "</style>\n",
       "<table border=\"1\" class=\"dataframe\">\n",
       "  <thead>\n",
       "    <tr style=\"text-align: right;\">\n",
       "      <th></th>\n",
       "      <th>ID</th>\n",
       "      <th>N_DCODE</th>\n",
       "    </tr>\n",
       "  </thead>\n",
       "  <tbody>\n",
       "    <tr>\n",
       "      <th>0</th>\n",
       "      <td>A651172801</td>\n",
       "      <td>0159</td>\n",
       "    </tr>\n",
       "    <tr>\n",
       "      <th>1</th>\n",
       "      <td>A651172801</td>\n",
       "      <td>0159</td>\n",
       "    </tr>\n",
       "    <tr>\n",
       "      <th>2</th>\n",
       "      <td>A651172801</td>\n",
       "      <td>1372</td>\n",
       "    </tr>\n",
       "    <tr>\n",
       "      <th>3</th>\n",
       "      <td>A651172801</td>\n",
       "      <td>1372</td>\n",
       "    </tr>\n",
       "    <tr>\n",
       "      <th>4</th>\n",
       "      <td>A651172801</td>\n",
       "      <td>1372</td>\n",
       "    </tr>\n",
       "    <tr>\n",
       "      <th>...</th>\n",
       "      <td>...</td>\n",
       "      <td>...</td>\n",
       "    </tr>\n",
       "    <tr>\n",
       "      <th>389130</th>\n",
       "      <td>R804371702</td>\n",
       "      <td>3606</td>\n",
       "    </tr>\n",
       "    <tr>\n",
       "      <th>389131</th>\n",
       "      <td>R804371702</td>\n",
       "      <td>3606</td>\n",
       "    </tr>\n",
       "    <tr>\n",
       "      <th>389132</th>\n",
       "      <td>R804371702</td>\n",
       "      <td>3606</td>\n",
       "    </tr>\n",
       "    <tr>\n",
       "      <th>389133</th>\n",
       "      <td>R804371702</td>\n",
       "      <td>3606</td>\n",
       "    </tr>\n",
       "    <tr>\n",
       "      <th>389134</th>\n",
       "      <td>R804371702</td>\n",
       "      <td>3606</td>\n",
       "    </tr>\n",
       "  </tbody>\n",
       "</table>\n",
       "<p>2488418 rows × 2 columns</p>\n",
       "</div>"
      ],
      "text/plain": [
       "                ID N_DCODE\n",
       "0       A651172801    0159\n",
       "1       A651172801    0159\n",
       "2       A651172801    1372\n",
       "3       A651172801    1372\n",
       "4       A651172801    1372\n",
       "...            ...     ...\n",
       "389130  R804371702    3606\n",
       "389131  R804371702    3606\n",
       "389132  R804371702    3606\n",
       "389133  R804371702    3606\n",
       "389134  R804371702    3606\n",
       "\n",
       "[2488418 rows x 2 columns]"
      ]
     },
     "execution_count": 13,
     "metadata": {},
     "output_type": "execute_result"
    }
   ],
   "source": [
    "N_FCODE_concat"
   ]
  },
  {
   "cell_type": "code",
   "execution_count": null,
   "metadata": {},
   "outputs": [],
   "source": []
  }
 ],
 "metadata": {
  "interpreter": {
   "hash": "afb734500600fd355917ca529030176ea0ca205570884b88f2f6f7d791fd3fbe"
  },
  "kernelspec": {
   "display_name": "Python 3.10.4 64-bit",
   "language": "python",
   "name": "python3"
  },
  "language_info": {
   "codemirror_mode": {
    "name": "ipython",
    "version": 3
   },
   "file_extension": ".py",
   "mimetype": "text/x-python",
   "name": "python",
   "nbconvert_exporter": "python",
   "pygments_lexer": "ipython3",
   "version": "3.10.4"
  },
  "orig_nbformat": 4
 },
 "nbformat": 4,
 "nbformat_minor": 2
}
