{
 "cells": [
  {
   "cell_type": "code",
   "execution_count": 2,
   "metadata": {},
   "outputs": [],
   "source": [
    "import pandas as pd"
   ]
  },
  {
   "cell_type": "code",
   "execution_count": 3,
   "metadata": {},
   "outputs": [],
   "source": [
    "fc_convert1 = pd.read_csv('C:/sas_view/use_code/rc16.csv', index_col= 0)\n",
    "fc_convert2 = pd.read_csv('C:/sas_view/use_code/rc17.csv', index_col= 0)\n",
    "fc_convert3 = pd.read_csv('C:/sas_view/use_code/rc18.csv', index_col= 0)\n",
    "fc_convert4 = pd.read_csv('C:/sas_view/use_code/rc19.csv', index_col= 0)\n",
    "fc_convert5 = pd.read_csv('C:/sas_view/use_code/rc20.csv', index_col= 0)"
   ]
  },
  {
   "cell_type": "code",
   "execution_count": 4,
   "metadata": {},
   "outputs": [],
   "source": [
    "# ID, 음식코드 추출 작업\n",
    "\n",
    "N_CODE_convert1 = fc_convert1[['ID','N_DCODE']]\n",
    "N_CODE_convert2 = fc_convert2[['ID','N_DCODE']]\n",
    "N_CODE_convert3 = fc_convert3[['ID','N_DCODE']]\n",
    "N_CODE_convert4 = fc_convert4[['ID','N_DCODE']]\n",
    "N_CODE_convert5 = fc_convert5[['ID','N_DCODE']]"
   ]
  },
  {
   "cell_type": "code",
   "execution_count": 5,
   "metadata": {},
   "outputs": [],
   "source": [
    "for i in range(0, len(N_CODE_convert1)):\n",
    "    N_CODE_convert1.iloc[i][0] = N_CODE_convert1.iloc[i][0][2:-1]\n",
    "    N_CODE_convert1.iloc[i][1] = N_CODE_convert1.iloc[i][1][3:-1]\n",
    "    "
   ]
  },
  {
   "cell_type": "code",
   "execution_count": 6,
   "metadata": {},
   "outputs": [],
   "source": [
    "for i in range(0, len(N_CODE_convert2)):\n",
    "    N_CODE_convert2.iloc[i][0] = N_CODE_convert2.iloc[i][0][2:-1]\n",
    "    N_CODE_convert2.iloc[i][1] = N_CODE_convert2.iloc[i][1][3:-1]"
   ]
  },
  {
   "cell_type": "code",
   "execution_count": 7,
   "metadata": {},
   "outputs": [],
   "source": [
    "for i in range(0, len(N_CODE_convert3)):\n",
    "    N_CODE_convert3.iloc[i][0] = N_CODE_convert3.iloc[i][0][2:-1]\n",
    "    N_CODE_convert3.iloc[i][1] = N_CODE_convert3.iloc[i][1][3:-1]"
   ]
  },
  {
   "cell_type": "code",
   "execution_count": 8,
   "metadata": {},
   "outputs": [],
   "source": [
    "for i in range(0, len(N_CODE_convert4)):\n",
    "    N_CODE_convert4.iloc[i][0] = N_CODE_convert4.iloc[i][0][2:-1]\n",
    "    N_CODE_convert4.iloc[i][1] = N_CODE_convert4.iloc[i][1][3:-1]"
   ]
  },
  {
   "cell_type": "code",
   "execution_count": 9,
   "metadata": {},
   "outputs": [],
   "source": [
    "for i in range(0, len(N_CODE_convert5)):\n",
    "    N_CODE_convert5.iloc[i][0] = N_CODE_convert5.iloc[i][0][2:-1]\n",
    "    N_CODE_convert5.iloc[i][1] = N_CODE_convert5.iloc[i][1][3:-1]"
   ]
  },
  {
   "cell_type": "code",
   "execution_count": 10,
   "metadata": {},
   "outputs": [
    {
     "data": {
      "text/html": [
       "<div>\n",
       "<style scoped>\n",
       "    .dataframe tbody tr th:only-of-type {\n",
       "        vertical-align: middle;\n",
       "    }\n",
       "\n",
       "    .dataframe tbody tr th {\n",
       "        vertical-align: top;\n",
       "    }\n",
       "\n",
       "    .dataframe thead th {\n",
       "        text-align: right;\n",
       "    }\n",
       "</style>\n",
       "<table border=\"1\" class=\"dataframe\">\n",
       "  <thead>\n",
       "    <tr style=\"text-align: right;\">\n",
       "      <th></th>\n",
       "      <th>음식코드</th>\n",
       "      <th>음식코드명</th>\n",
       "    </tr>\n",
       "  </thead>\n",
       "  <tbody>\n",
       "    <tr>\n",
       "      <th>0</th>\n",
       "      <td>101</td>\n",
       "      <td>감자밥</td>\n",
       "    </tr>\n",
       "    <tr>\n",
       "      <th>1</th>\n",
       "      <td>102</td>\n",
       "      <td>고구마밥</td>\n",
       "    </tr>\n",
       "    <tr>\n",
       "      <th>2</th>\n",
       "      <td>103</td>\n",
       "      <td>국밥</td>\n",
       "    </tr>\n",
       "    <tr>\n",
       "      <th>3</th>\n",
       "      <td>104</td>\n",
       "      <td>김밥(대표)</td>\n",
       "    </tr>\n",
       "    <tr>\n",
       "      <th>4</th>\n",
       "      <td>105</td>\n",
       "      <td>김밥,고추</td>\n",
       "    </tr>\n",
       "    <tr>\n",
       "      <th>...</th>\n",
       "      <td>...</td>\n",
       "      <td>...</td>\n",
       "    </tr>\n",
       "    <tr>\n",
       "      <th>1778</th>\n",
       "      <td>5009</td>\n",
       "      <td>커피,카페모카,카라멜,휘핑크림</td>\n",
       "    </tr>\n",
       "    <tr>\n",
       "      <th>1779</th>\n",
       "      <td>5010</td>\n",
       "      <td>커피,카페모카,휘핑크림</td>\n",
       "    </tr>\n",
       "    <tr>\n",
       "      <th>1780</th>\n",
       "      <td>5701</td>\n",
       "      <td>칠면조</td>\n",
       "    </tr>\n",
       "    <tr>\n",
       "      <th>1781</th>\n",
       "      <td>5702</td>\n",
       "      <td>과메기</td>\n",
       "    </tr>\n",
       "    <tr>\n",
       "      <th>1782</th>\n",
       "      <td>9999</td>\n",
       "      <td>식이보충제</td>\n",
       "    </tr>\n",
       "  </tbody>\n",
       "</table>\n",
       "<p>1783 rows × 2 columns</p>\n",
       "</div>"
      ],
      "text/plain": [
       "      음식코드             음식코드명\n",
       "0      101               감자밥\n",
       "1      102              고구마밥\n",
       "2      103                국밥\n",
       "3      104            김밥(대표)\n",
       "4      105             김밥,고추\n",
       "...    ...               ...\n",
       "1778  5009  커피,카페모카,카라멜,휘핑크림\n",
       "1779  5010      커피,카페모카,휘핑크림\n",
       "1780  5701               칠면조\n",
       "1781  5702               과메기\n",
       "1782  9999             식이보충제\n",
       "\n",
       "[1783 rows x 2 columns]"
      ]
     },
     "execution_count": 10,
     "metadata": {},
     "output_type": "execute_result"
    }
   ],
   "source": [
    "code_data1 = pd.read_excel('C:/sas_view/use_code/2016_영양조사_코드자료집.xlsx', sheet_name = 3)\n",
    "code_data2 = pd.read_excel('C:/sas_view/use_code/2017_영양조사_코드자료집.xlsx', sheet_name = 3)\n",
    "code_data3 = pd.read_excel('C:/sas_view/use_code/2018_영양조사_코드자료집.xlsx', sheet_name = 3)\n",
    "code_data4 = pd.read_excel('C:/sas_view/use_code/2019_영양조사_코드자료집.xlsx', sheet_name = 3)\n",
    "code_data5 = pd.read_excel('C:/sas_view/use_code/2020_영양조사_코드자료집.xlsx', sheet_name = 3)\n",
    "code_data1"
   ]
  },
  {
   "cell_type": "code",
   "execution_count": 11,
   "metadata": {},
   "outputs": [
    {
     "data": {
      "text/html": [
       "<div>\n",
       "<style scoped>\n",
       "    .dataframe tbody tr th:only-of-type {\n",
       "        vertical-align: middle;\n",
       "    }\n",
       "\n",
       "    .dataframe tbody tr th {\n",
       "        vertical-align: top;\n",
       "    }\n",
       "\n",
       "    .dataframe thead th {\n",
       "        text-align: right;\n",
       "    }\n",
       "</style>\n",
       "<table border=\"1\" class=\"dataframe\">\n",
       "  <thead>\n",
       "    <tr style=\"text-align: right;\">\n",
       "      <th></th>\n",
       "      <th>N_DCODE</th>\n",
       "      <th>음식코드명</th>\n",
       "    </tr>\n",
       "  </thead>\n",
       "  <tbody>\n",
       "    <tr>\n",
       "      <th>0</th>\n",
       "      <td>101</td>\n",
       "      <td>감자밥</td>\n",
       "    </tr>\n",
       "    <tr>\n",
       "      <th>1</th>\n",
       "      <td>102</td>\n",
       "      <td>고구마밥</td>\n",
       "    </tr>\n",
       "    <tr>\n",
       "      <th>2</th>\n",
       "      <td>103</td>\n",
       "      <td>국밥</td>\n",
       "    </tr>\n",
       "    <tr>\n",
       "      <th>3</th>\n",
       "      <td>104</td>\n",
       "      <td>김밥(대표)</td>\n",
       "    </tr>\n",
       "    <tr>\n",
       "      <th>4</th>\n",
       "      <td>105</td>\n",
       "      <td>김밥,고추</td>\n",
       "    </tr>\n",
       "    <tr>\n",
       "      <th>...</th>\n",
       "      <td>...</td>\n",
       "      <td>...</td>\n",
       "    </tr>\n",
       "    <tr>\n",
       "      <th>1778</th>\n",
       "      <td>5009</td>\n",
       "      <td>커피,카페모카,카라멜,휘핑크림</td>\n",
       "    </tr>\n",
       "    <tr>\n",
       "      <th>1779</th>\n",
       "      <td>5010</td>\n",
       "      <td>커피,카페모카,휘핑크림</td>\n",
       "    </tr>\n",
       "    <tr>\n",
       "      <th>1780</th>\n",
       "      <td>5701</td>\n",
       "      <td>칠면조</td>\n",
       "    </tr>\n",
       "    <tr>\n",
       "      <th>1781</th>\n",
       "      <td>5702</td>\n",
       "      <td>과메기</td>\n",
       "    </tr>\n",
       "    <tr>\n",
       "      <th>1782</th>\n",
       "      <td>9999</td>\n",
       "      <td>식이보충제</td>\n",
       "    </tr>\n",
       "  </tbody>\n",
       "</table>\n",
       "<p>1783 rows × 2 columns</p>\n",
       "</div>"
      ],
      "text/plain": [
       "      N_DCODE             음식코드명\n",
       "0         101               감자밥\n",
       "1         102              고구마밥\n",
       "2         103                국밥\n",
       "3         104            김밥(대표)\n",
       "4         105             김밥,고추\n",
       "...       ...               ...\n",
       "1778     5009  커피,카페모카,카라멜,휘핑크림\n",
       "1779     5010      커피,카페모카,휘핑크림\n",
       "1780     5701               칠면조\n",
       "1781     5702               과메기\n",
       "1782     9999             식이보충제\n",
       "\n",
       "[1783 rows x 2 columns]"
      ]
     },
     "execution_count": 11,
     "metadata": {},
     "output_type": "execute_result"
    }
   ],
   "source": [
    "code_data1.rename(columns = {'음식코드':'N_DCODE'}, inplace=True)\n",
    "code_data2.rename(columns = {'음식코드':'N_DCODE'}, inplace=True)\n",
    "code_data3.rename(columns = {'음식코드':'N_DCODE'}, inplace=True)\n",
    "code_data4.rename(columns = {'음식코드':'N_DCODE'}, inplace=True)\n",
    "code_data5.rename(columns = {'음식코드':'N_DCODE'}, inplace=True)\n",
    "\n",
    "code_data1"
   ]
  },
  {
   "cell_type": "code",
   "execution_count": 12,
   "metadata": {},
   "outputs": [
    {
     "name": "stderr",
     "output_type": "stream",
     "text": [
      "C:\\Users\\User\\AppData\\Local\\Temp\\ipykernel_19932\\402423556.py:1: SettingWithCopyWarning: \n",
      "A value is trying to be set on a copy of a slice from a DataFrame.\n",
      "Try using .loc[row_indexer,col_indexer] = value instead\n",
      "\n",
      "See the caveats in the documentation: https://pandas.pydata.org/pandas-docs/stable/user_guide/indexing.html#returning-a-view-versus-a-copy\n",
      "  N_CODE_convert1.loc[:,'N_DCODE'] = N_CODE_convert1.loc[:,'N_DCODE'].astype('int64')\n",
      "C:\\Users\\User\\AppData\\Local\\Temp\\ipykernel_19932\\402423556.py:2: SettingWithCopyWarning: \n",
      "A value is trying to be set on a copy of a slice from a DataFrame.\n",
      "Try using .loc[row_indexer,col_indexer] = value instead\n",
      "\n",
      "See the caveats in the documentation: https://pandas.pydata.org/pandas-docs/stable/user_guide/indexing.html#returning-a-view-versus-a-copy\n",
      "  N_CODE_convert2.loc[:,'N_DCODE'] = N_CODE_convert2.loc[:,'N_DCODE'].astype('int64')\n",
      "C:\\Users\\User\\AppData\\Local\\Temp\\ipykernel_19932\\402423556.py:3: SettingWithCopyWarning: \n",
      "A value is trying to be set on a copy of a slice from a DataFrame.\n",
      "Try using .loc[row_indexer,col_indexer] = value instead\n",
      "\n",
      "See the caveats in the documentation: https://pandas.pydata.org/pandas-docs/stable/user_guide/indexing.html#returning-a-view-versus-a-copy\n",
      "  N_CODE_convert3.loc[:,'N_DCODE'] = N_CODE_convert3.loc[:,'N_DCODE'].astype('int64')\n",
      "C:\\Users\\User\\AppData\\Local\\Temp\\ipykernel_19932\\402423556.py:4: SettingWithCopyWarning: \n",
      "A value is trying to be set on a copy of a slice from a DataFrame.\n",
      "Try using .loc[row_indexer,col_indexer] = value instead\n",
      "\n",
      "See the caveats in the documentation: https://pandas.pydata.org/pandas-docs/stable/user_guide/indexing.html#returning-a-view-versus-a-copy\n",
      "  N_CODE_convert4.loc[:,'N_DCODE'] = N_CODE_convert4.loc[:,'N_DCODE'].astype('int64')\n",
      "C:\\Users\\User\\AppData\\Local\\Temp\\ipykernel_19932\\402423556.py:5: SettingWithCopyWarning: \n",
      "A value is trying to be set on a copy of a slice from a DataFrame.\n",
      "Try using .loc[row_indexer,col_indexer] = value instead\n",
      "\n",
      "See the caveats in the documentation: https://pandas.pydata.org/pandas-docs/stable/user_guide/indexing.html#returning-a-view-versus-a-copy\n",
      "  N_CODE_convert5.loc[:,'N_DCODE'] = N_CODE_convert5.loc[:,'N_DCODE'].astype('int64')\n"
     ]
    }
   ],
   "source": [
    "N_CODE_convert1.loc[:,'N_DCODE'] = N_CODE_convert1.loc[:,'N_DCODE'].astype('int64')\n",
    "N_CODE_convert2.loc[:,'N_DCODE'] = N_CODE_convert2.loc[:,'N_DCODE'].astype('int64')\n",
    "N_CODE_convert3.loc[:,'N_DCODE'] = N_CODE_convert3.loc[:,'N_DCODE'].astype('int64')\n",
    "N_CODE_convert4.loc[:,'N_DCODE'] = N_CODE_convert4.loc[:,'N_DCODE'].astype('int64')\n",
    "N_CODE_convert5.loc[:,'N_DCODE'] = N_CODE_convert5.loc[:,'N_DCODE'].astype('int64')"
   ]
  },
  {
   "cell_type": "code",
   "execution_count": 13,
   "metadata": {},
   "outputs": [
    {
     "data": {
      "text/plain": [
       "0         2090\n",
       "1         2090\n",
       "2         3107\n",
       "3         3107\n",
       "4         3107\n",
       "          ... \n",
       "389130    3606\n",
       "389131    3606\n",
       "389132    3606\n",
       "389133    3606\n",
       "389134    3606\n",
       "Name: N_DCODE, Length: 389135, dtype: int64"
      ]
     },
     "execution_count": 13,
     "metadata": {},
     "output_type": "execute_result"
    }
   ],
   "source": [
    "N_CODE_convert1.loc[:,'N_DCODE']\n",
    "N_CODE_convert2.loc[:,'N_DCODE']\n",
    "N_CODE_convert3.loc[:,'N_DCODE']\n",
    "N_CODE_convert4.loc[:,'N_DCODE']\n",
    "N_CODE_convert5.loc[:,'N_DCODE']"
   ]
  },
  {
   "cell_type": "code",
   "execution_count": 14,
   "metadata": {},
   "outputs": [
    {
     "data": {
      "text/plain": [
       "0        101\n",
       "1        102\n",
       "2        103\n",
       "3        104\n",
       "4        105\n",
       "        ... \n",
       "1572    5004\n",
       "1573    5006\n",
       "1574    5007\n",
       "1575    5010\n",
       "1576    5702\n",
       "Name: N_DCODE, Length: 1577, dtype: int64"
      ]
     },
     "execution_count": 14,
     "metadata": {},
     "output_type": "execute_result"
    }
   ],
   "source": [
    "code_data1.loc[:,'N_DCODE']\n",
    "code_data2.loc[:,'N_DCODE']\n",
    "code_data3.loc[:,'N_DCODE']\n",
    "code_data4.loc[:,'N_DCODE']\n",
    "code_data5.loc[:,'N_DCODE']"
   ]
  },
  {
   "cell_type": "code",
   "execution_count": 15,
   "metadata": {},
   "outputs": [],
   "source": [
    "N_CODE_convert1 = N_CODE_convert1.merge(code_data1)\n",
    "N_CODE_convert2 = N_CODE_convert2.merge(code_data2)\n",
    "N_CODE_convert3 = N_CODE_convert3.merge(code_data3)\n",
    "N_CODE_convert4 = N_CODE_convert4.merge(code_data4)\n",
    "N_CODE_convert5 = N_CODE_convert5.merge(code_data5)"
   ]
  },
  {
   "cell_type": "code",
   "execution_count": 16,
   "metadata": {},
   "outputs": [
    {
     "data": {
      "text/plain": [
       "잡곡밥          26711\n",
       "배추김치          7363\n",
       "김밥,채소         7117\n",
       "김치찌개,돼지고기     6923\n",
       "김밥(대표)        6890\n",
       "             ...  \n",
       "꽁치,통조림           1\n",
       "더덕               1\n",
       "달래               1\n",
       "라이스페이퍼           1\n",
       "조개,생합            1\n",
       "Name: 음식코드명, Length: 1579, dtype: int64"
      ]
     },
     "execution_count": 16,
     "metadata": {},
     "output_type": "execute_result"
    }
   ],
   "source": [
    "N_CODE_convert1['음식코드명'].value_counts()"
   ]
  },
  {
   "cell_type": "code",
   "execution_count": 17,
   "metadata": {},
   "outputs": [
    {
     "data": {
      "text/plain": [
       "잡곡밥          23066\n",
       "김치찌개,돼지고기     7659\n",
       "배추김치          7470\n",
       "김밥,채소         6628\n",
       "불고기           5603\n",
       "             ...  \n",
       "민들레              1\n",
       "아미노산음료           1\n",
       "무청               1\n",
       "복어,검복            1\n",
       "사과,넥타            1\n",
       "Name: 음식코드명, Length: 1628, dtype: int64"
      ]
     },
     "execution_count": 17,
     "metadata": {},
     "output_type": "execute_result"
    }
   ],
   "source": [
    "N_CODE_convert2['음식코드명'].value_counts()"
   ]
  },
  {
   "cell_type": "code",
   "execution_count": 18,
   "metadata": {},
   "outputs": [
    {
     "data": {
      "text/plain": [
       "잡곡밥            21468\n",
       "김밥,채소           7584\n",
       "배추김치            7087\n",
       "김치찌개,돼지고기       6208\n",
       "시금치나물,간장,소금     5621\n",
       "               ...  \n",
       "야콘,돼지감자즙           1\n",
       "옥수수구이              1\n",
       "감장아찌               1\n",
       "명일엽(신선초)           1\n",
       "다래                 1\n",
       "Name: 음식코드명, Length: 1587, dtype: int64"
      ]
     },
     "execution_count": 18,
     "metadata": {},
     "output_type": "execute_result"
    }
   ],
   "source": [
    "N_CODE_convert3['음식코드명'].value_counts()"
   ]
  },
  {
   "cell_type": "code",
   "execution_count": 19,
   "metadata": {},
   "outputs": [
    {
     "data": {
      "text/plain": [
       "잡곡밥            18334\n",
       "김밥,채소           7214\n",
       "배추김치            7155\n",
       "김치찌개,돼지고기       6273\n",
       "시금치나물,간장,소금     6146\n",
       "               ...  \n",
       "샌드위치,미트볼           1\n",
       "오렌지,마말레이드          1\n",
       "오디(뽕나무열매)술         1\n",
       "계피가루               1\n",
       "다금바리               1\n",
       "Name: 음식코드명, Length: 1628, dtype: int64"
      ]
     },
     "execution_count": 19,
     "metadata": {},
     "output_type": "execute_result"
    }
   ],
   "source": [
    "N_CODE_convert4['음식코드명'].value_counts()"
   ]
  },
  {
   "cell_type": "code",
   "execution_count": 20,
   "metadata": {},
   "outputs": [
    {
     "data": {
      "text/plain": [
       "잡곡밥           17103\n",
       "김치찌개,돼지고기      5659\n",
       "배추김치           5301\n",
       "김밥,채소          5066\n",
       "불고기            4761\n",
       "              ...  \n",
       "해선장(호이신소스)        1\n",
       "뽕잎                1\n",
       "람부탄               1\n",
       "해초                1\n",
       "돼지고기,허파           1\n",
       "Name: 음식코드명, Length: 1577, dtype: int64"
      ]
     },
     "execution_count": 20,
     "metadata": {},
     "output_type": "execute_result"
    }
   ],
   "source": [
    "N_CODE_convert5['음식코드명'].value_counts()"
   ]
  },
  {
   "cell_type": "code",
   "execution_count": null,
   "metadata": {},
   "outputs": [],
   "source": [
    "N_CODE_convert5['음식코드명'].value_counts().to_csv('N_CC5.csv')"
   ]
  },
  {
   "cell_type": "code",
   "execution_count": null,
   "metadata": {},
   "outputs": [],
   "source": []
  }
 ],
 "metadata": {
  "interpreter": {
   "hash": "afb734500600fd355917ca529030176ea0ca205570884b88f2f6f7d791fd3fbe"
  },
  "kernelspec": {
   "display_name": "Python 3.10.4 64-bit",
   "language": "python",
   "name": "python3"
  },
  "language_info": {
   "codemirror_mode": {
    "name": "ipython",
    "version": 3
   },
   "file_extension": ".py",
   "mimetype": "text/x-python",
   "name": "python",
   "nbconvert_exporter": "python",
   "pygments_lexer": "ipython3",
   "version": "3.10.4"
  },
  "orig_nbformat": 4
 },
 "nbformat": 4,
 "nbformat_minor": 2
}
