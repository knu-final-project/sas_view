{
 "cells": [
  {
   "cell_type": "code",
   "execution_count": 11,
   "metadata": {},
   "outputs": [],
   "source": [
    "import pandas as pd"
   ]
  },
  {
   "cell_type": "code",
   "execution_count": 12,
   "metadata": {},
   "outputs": [
    {
     "ename": "TypeError",
     "evalue": "read_excel() got an unexpected keyword argument 'encoding'",
     "output_type": "error",
     "traceback": [
      "\u001b[1;31m---------------------------------------------------------------------------\u001b[0m",
      "\u001b[1;31mTypeError\u001b[0m                                 Traceback (most recent call last)",
      "\u001b[1;32mc:\\sas_view\\use_code\\Data_Preprocessing\\data\\N_FCODE_ex.ipynb Cell 2'\u001b[0m in \u001b[0;36m<cell line: 7>\u001b[1;34m()\u001b[0m\n\u001b[0;32m      <a href='vscode-notebook-cell:/c%3A/sas_view/use_code/Data_Preprocessing/data/N_FCODE_ex.ipynb#ch0000001?line=3'>4</a>\u001b[0m fc_convert4 \u001b[39m=\u001b[39m pd\u001b[39m.\u001b[39mread_csv(\u001b[39m'\u001b[39m\u001b[39mC:/sas_view/use_code/rc19.csv\u001b[39m\u001b[39m'\u001b[39m, index_col\u001b[39m=\u001b[39m \u001b[39m0\u001b[39m)\n\u001b[0;32m      <a href='vscode-notebook-cell:/c%3A/sas_view/use_code/Data_Preprocessing/data/N_FCODE_ex.ipynb#ch0000001?line=4'>5</a>\u001b[0m fc_convert5 \u001b[39m=\u001b[39m pd\u001b[39m.\u001b[39mread_csv(\u001b[39m'\u001b[39m\u001b[39mC:/sas_view/use_code/rc20.csv\u001b[39m\u001b[39m'\u001b[39m, index_col\u001b[39m=\u001b[39m \u001b[39m0\u001b[39m)\n\u001b[1;32m----> <a href='vscode-notebook-cell:/c%3A/sas_view/use_code/Data_Preprocessing/data/N_FCODE_ex.ipynb#ch0000001?line=6'>7</a>\u001b[0m code_data1 \u001b[39m=\u001b[39m pd\u001b[39m.\u001b[39;49mread_excel(\u001b[39m'\u001b[39;49m\u001b[39mC:/sas_view/use_code/2016_영양조사_코드자료집.xlsx\u001b[39;49m\u001b[39m'\u001b[39;49m, index_col\u001b[39m=\u001b[39;49m \u001b[39m0\u001b[39;49m, encoding\u001b[39m=\u001b[39;49m\u001b[39m'\u001b[39;49m\u001b[39mutf-8\u001b[39;49m\u001b[39m'\u001b[39;49m)\n\u001b[0;32m      <a href='vscode-notebook-cell:/c%3A/sas_view/use_code/Data_Preprocessing/data/N_FCODE_ex.ipynb#ch0000001?line=7'>8</a>\u001b[0m code_data2 \u001b[39m=\u001b[39m pd\u001b[39m.\u001b[39mread_excel(\u001b[39m'\u001b[39m\u001b[39mC:/sas_view/use_code/2017_영양조사_코드자료집.xlsx\u001b[39m\u001b[39m'\u001b[39m, index_col\u001b[39m=\u001b[39m \u001b[39m0\u001b[39m, encoding\u001b[39m=\u001b[39m\u001b[39m'\u001b[39m\u001b[39mutf-8\u001b[39m\u001b[39m'\u001b[39m)\n\u001b[0;32m      <a href='vscode-notebook-cell:/c%3A/sas_view/use_code/Data_Preprocessing/data/N_FCODE_ex.ipynb#ch0000001?line=8'>9</a>\u001b[0m code_data3 \u001b[39m=\u001b[39m pd\u001b[39m.\u001b[39mread_excel(\u001b[39m'\u001b[39m\u001b[39mC:/sas_view/use_code/2018_영양조사_코드자료집.xlsx\u001b[39m\u001b[39m'\u001b[39m, index_col\u001b[39m=\u001b[39m \u001b[39m0\u001b[39m, encoding\u001b[39m=\u001b[39m\u001b[39m'\u001b[39m\u001b[39mutf-8\u001b[39m\u001b[39m'\u001b[39m)\n",
      "File \u001b[1;32mc:\\Users\\User\\AppData\\Local\\Programs\\Python\\Python310\\lib\\site-packages\\pandas\\util\\_decorators.py:311\u001b[0m, in \u001b[0;36mdeprecate_nonkeyword_arguments.<locals>.decorate.<locals>.wrapper\u001b[1;34m(*args, **kwargs)\u001b[0m\n\u001b[0;32m    <a href='file:///c%3A/Users/User/AppData/Local/Programs/Python/Python310/lib/site-packages/pandas/util/_decorators.py?line=304'>305</a>\u001b[0m \u001b[39mif\u001b[39;00m \u001b[39mlen\u001b[39m(args) \u001b[39m>\u001b[39m num_allow_args:\n\u001b[0;32m    <a href='file:///c%3A/Users/User/AppData/Local/Programs/Python/Python310/lib/site-packages/pandas/util/_decorators.py?line=305'>306</a>\u001b[0m     warnings\u001b[39m.\u001b[39mwarn(\n\u001b[0;32m    <a href='file:///c%3A/Users/User/AppData/Local/Programs/Python/Python310/lib/site-packages/pandas/util/_decorators.py?line=306'>307</a>\u001b[0m         msg\u001b[39m.\u001b[39mformat(arguments\u001b[39m=\u001b[39marguments),\n\u001b[0;32m    <a href='file:///c%3A/Users/User/AppData/Local/Programs/Python/Python310/lib/site-packages/pandas/util/_decorators.py?line=307'>308</a>\u001b[0m         \u001b[39mFutureWarning\u001b[39;00m,\n\u001b[0;32m    <a href='file:///c%3A/Users/User/AppData/Local/Programs/Python/Python310/lib/site-packages/pandas/util/_decorators.py?line=308'>309</a>\u001b[0m         stacklevel\u001b[39m=\u001b[39mstacklevel,\n\u001b[0;32m    <a href='file:///c%3A/Users/User/AppData/Local/Programs/Python/Python310/lib/site-packages/pandas/util/_decorators.py?line=309'>310</a>\u001b[0m     )\n\u001b[1;32m--> <a href='file:///c%3A/Users/User/AppData/Local/Programs/Python/Python310/lib/site-packages/pandas/util/_decorators.py?line=310'>311</a>\u001b[0m \u001b[39mreturn\u001b[39;00m func(\u001b[39m*\u001b[39margs, \u001b[39m*\u001b[39m\u001b[39m*\u001b[39mkwargs)\n",
      "\u001b[1;31mTypeError\u001b[0m: read_excel() got an unexpected keyword argument 'encoding'"
     ]
    }
   ],
   "source": [
    "fc_convert1 = pd.read_csv('C:/sas_view/use_code/rc16.csv', index_col= 0)\n",
    "fc_convert2 = pd.read_csv('C:/sas_view/use_code/rc17.csv', index_col= 0)\n",
    "fc_convert3 = pd.read_csv('C:/sas_view/use_code/rc18.csv', index_col= 0)\n",
    "fc_convert4 = pd.read_csv('C:/sas_view/use_code/rc19.csv', index_col= 0)\n",
    "fc_convert5 = pd.read_csv('C:/sas_view/use_code/rc20.csv', index_col= 0)\n",
    "\n",
    "code_data1 = pd.read_excel('C:/sas_view/use_code/2016_영양조사_코드자료집.xlsx', index_col= 0)\n",
    "code_data2 = pd.read_excel('C:/sas_view/use_code/2017_영양조사_코드자료집.xlsx', index_col= 0)\n",
    "code_data3 = pd.read_excel('C:/sas_view/use_code/2018_영양조사_코드자료집.xlsx', index_col= 0)\n",
    "code_data4 = pd.read_excel('C:/sas_view/use_code/2019_영양조사_코드자료집.xlsx', index_col= 0)\n",
    "code_data5 = pd.read_excel('C:/sas_view/use_code/2020_영양조사_코드자료집.xlsx', index_col= 0)"
   ]
  },
  {
   "cell_type": "code",
   "execution_count": null,
   "metadata": {},
   "outputs": [],
   "source": []
  }
 ],
 "metadata": {
  "interpreter": {
   "hash": "afb734500600fd355917ca529030176ea0ca205570884b88f2f6f7d791fd3fbe"
  },
  "kernelspec": {
   "display_name": "Python 3.10.4 64-bit",
   "language": "python",
   "name": "python3"
  },
  "language_info": {
   "codemirror_mode": {
    "name": "ipython",
    "version": 3
   },
   "file_extension": ".py",
   "mimetype": "text/x-python",
   "name": "python",
   "nbconvert_exporter": "python",
   "pygments_lexer": "ipython3",
   "version": "3.10.4"
  },
  "orig_nbformat": 4
 },
 "nbformat": 4,
 "nbformat_minor": 2
}
