{
 "cells": [
  {
   "cell_type": "markdown",
   "metadata": {},
   "source": [
    "### real_data2 / reverse2_df 상관계수"
   ]
  },
  {
   "cell_type": "code",
   "execution_count": 1,
   "metadata": {},
   "outputs": [],
   "source": [
    "# 라이브러리\n",
    "\n",
    "import pandas as pd\n",
    "import numpy as np"
   ]
  },
  {
   "cell_type": "code",
   "execution_count": null,
   "metadata": {},
   "outputs": [],
   "source": [
    "# 데이터 불러오기\n",
    "\n",
    "# reverse2_df.csv\n",
    "df = pd.read_csv('C:/sas_view/use_code/Data_Preprocessing/data/reverse2_df.csv', index_col = 0) \n",
    "# real_data2.csv\n",
    "df2 = pd.read_csv('C:/sas_view/data/real_data2.csv', index_col = 0) \n",
    "\n",
    "# reverse2_df [Unnamed: 0.1] 컬럼 제거\n",
    "df = df.drop(columns = ['Unnamed: 0.1'])"
   ]
  },
  {
   "cell_type": "code",
   "execution_count": null,
   "metadata": {},
   "outputs": [],
   "source": [
    "df # reverse2_df"
   ]
  },
  {
   "cell_type": "code",
   "execution_count": null,
   "metadata": {},
   "outputs": [],
   "source": [
    "df2 # real_data2"
   ]
  },
  {
   "cell_type": "code",
   "execution_count": null,
   "metadata": {},
   "outputs": [],
   "source": [
    "dis = [] # 질병 리스트\n",
    "var = [] # 변수 리스트\n",
    "Cor = [] # 상관계수 리스트\n",
    "\n",
    "for i in range(1, df2.shape[1]) : # shape : 행열의 개수 추출 / df2.shape[1] : 열의 수 (29)\n",
    "    for j in range(1, df.shape[1]) : # df.shape[1] (552)\n",
    "        try :\n",
    "            corr = df2.iloc[:,i].corr(df.iloc[:,j])\n",
    "            if ((corr >= .4) | (corr <= -.4)) & (corr != 1.000) : # 상관계수가 0.4 이상인 데이터 추출\n",
    "                dis.append(df2.columns[i])\n",
    "                var.append(df.columns[j])\n",
    "                Cor.append(round(corr, 3))\n",
    "                \n",
    "        except :\n",
    "            pass"
   ]
  },
  {
   "cell_type": "code",
   "execution_count": null,
   "metadata": {},
   "outputs": [],
   "source": [
    "# 상관계수 df\n",
    "\n",
    "cor_df = pd.DataFrame({'dis':dis,  # {'변수명' : 데이터를 가지고 있는 리스트}\n",
    "                       'var':var,\n",
    "                       'Cor':Cor})\n",
    "cor_df"
   ]
  },
  {
   "cell_type": "code",
   "execution_count": null,
   "metadata": {},
   "outputs": [],
   "source": [
    "# 변수사전 csv 파일 불러오기\n",
    "\n",
    "same = pd.read_csv('C:/sas_view/code/same_code_2.csv', index_col = 0)\n",
    "same"
   ]
  },
  {
   "cell_type": "code",
   "execution_count": null,
   "metadata": {},
   "outputs": [],
   "source": [
    "# same df '변수명' 대문자화\n",
    "\n",
    "for i in range(0, len(same)) :\n",
    "    same.iloc[i][0] = same.iloc[i][0].upper() \n",
    "\n",
    "same"
   ]
  },
  {
   "cell_type": "code",
   "execution_count": null,
   "metadata": {},
   "outputs": [],
   "source": [
    "# cor_df 질병에 해당하는 변수의 수 ( 28개 )\n",
    "\n",
    "dis_s = set(cor_df.iloc[ : , 0])\n",
    "dis_s = list(dis_s)\n",
    "print('cor_df 질병에 해당하는 변수의 수 : ', len(dis_s))\n",
    "\n",
    "# cor_df 질병에 영향을 미치는 변수의 수 ( 197개 )\n",
    "var_s = set(cor_df.iloc[:,1])\n",
    "var_s = list(var_s)\n",
    "print('cor_df 질병에 영향을 미치는 변수의 수 : ', len(var_s)) "
   ]
  },
  {
   "cell_type": "code",
   "execution_count": null,
   "metadata": {},
   "outputs": [],
   "source": [
    "# 질병과 그에 영향을 미치는 변수를 리스트에 담아주는 작업 실시\n",
    "\n",
    "dis_list = []\n",
    "var_list = []\n",
    "\n",
    "for  i in range(0, len(same)) :\n",
    "    if same.loc[i][0] in dis_s :\n",
    "        dis_list.append(i)\n",
    "    elif same.loc[i][0] in var_s :\n",
    "        var_list.append(i)\n",
    "\n",
    "print('질병 : ', len(dis_list), '\\n' '변수 : ', len(var_list))"
   ]
  },
  {
   "cell_type": "code",
   "execution_count": 45,
   "metadata": {},
   "outputs": [],
   "source": [
    "dis_df = same.iloc[dis_list] # 질병에 해당하는 사전\n",
    "var_df = same.iloc[var_list] # 기본변수에 해당하는 사전"
   ]
  },
  {
   "cell_type": "code",
   "execution_count": null,
   "metadata": {},
   "outputs": [],
   "source": [
    "# 상관계수 df에 변수설명을 merge하기위해 변수사전에 있는 변수명을 cor_df에 맞추어 변경하는 작업 실시\n",
    "\n",
    "dis_df.rename(columns = {'변수명' : 'dis', '변수설명7' : 'dis_설명'}, inplace = True) \n",
    "var_df.rename(columns = {'변수명' : 'var', '변수설명7' : 'var_설명'}, inplace = True)"
   ]
  },
  {
   "cell_type": "code",
   "execution_count": null,
   "metadata": {},
   "outputs": [],
   "source": [
    "dis_df"
   ]
  },
  {
   "cell_type": "code",
   "execution_count": null,
   "metadata": {},
   "outputs": [],
   "source": [
    "var_df"
   ]
  },
  {
   "cell_type": "code",
   "execution_count": 59,
   "metadata": {},
   "outputs": [
    {
     "data": {
      "text/html": [
       "<div>\n",
       "<style scoped>\n",
       "    .dataframe tbody tr th:only-of-type {\n",
       "        vertical-align: middle;\n",
       "    }\n",
       "\n",
       "    .dataframe tbody tr th {\n",
       "        vertical-align: top;\n",
       "    }\n",
       "\n",
       "    .dataframe thead th {\n",
       "        text-align: right;\n",
       "    }\n",
       "</style>\n",
       "<table border=\"1\" class=\"dataframe\">\n",
       "  <thead>\n",
       "    <tr style=\"text-align: right;\">\n",
       "      <th></th>\n",
       "      <th>dis</th>\n",
       "      <th>var</th>\n",
       "      <th>Cor</th>\n",
       "      <th>dis_설명</th>\n",
       "      <th>var_설명</th>\n",
       "    </tr>\n",
       "  </thead>\n",
       "  <tbody>\n",
       "    <tr>\n",
       "      <th>170</th>\n",
       "      <td>DC1_PR</td>\n",
       "      <td>DC1_AG</td>\n",
       "      <td>0.437</td>\n",
       "      <td>위암 현재 유병 여부</td>\n",
       "      <td>위암 진단시기</td>\n",
       "    </tr>\n",
       "    <tr>\n",
       "      <th>199</th>\n",
       "      <td>DC1_PR</td>\n",
       "      <td>DC3_AG</td>\n",
       "      <td>0.571</td>\n",
       "      <td>위암 현재 유병 여부</td>\n",
       "      <td>대장암 진단시기</td>\n",
       "    </tr>\n",
       "    <tr>\n",
       "      <th>25</th>\n",
       "      <td>DC1_PR</td>\n",
       "      <td>DC7_AG</td>\n",
       "      <td>0.693</td>\n",
       "      <td>위암 현재 유병 여부</td>\n",
       "      <td>갑상선암 진단시기</td>\n",
       "    </tr>\n",
       "    <tr>\n",
       "      <th>130</th>\n",
       "      <td>DC1_PR</td>\n",
       "      <td>DI5_AG</td>\n",
       "      <td>0.775</td>\n",
       "      <td>위암 현재 유병 여부</td>\n",
       "      <td>심근경색증 진단시기</td>\n",
       "    </tr>\n",
       "    <tr>\n",
       "      <th>353</th>\n",
       "      <td>DC1_PR</td>\n",
       "      <td>EC_STT_2</td>\n",
       "      <td>0.524</td>\n",
       "      <td>위암 현재 유병 여부</td>\n",
       "      <td>(취업자) 종사상지위_임금근로자 상세</td>\n",
       "    </tr>\n",
       "    <tr>\n",
       "      <th>...</th>\n",
       "      <td>...</td>\n",
       "      <td>...</td>\n",
       "      <td>...</td>\n",
       "      <td>...</td>\n",
       "      <td>...</td>\n",
       "    </tr>\n",
       "    <tr>\n",
       "      <th>101</th>\n",
       "      <td>DM4_PR</td>\n",
       "      <td>BE3_74</td>\n",
       "      <td>-0.479</td>\n",
       "      <td>골다공증 현재 유병 여부</td>\n",
       "      <td>일_고강도 신체활동 시간(분)</td>\n",
       "    </tr>\n",
       "    <tr>\n",
       "      <th>55</th>\n",
       "      <td>DM4_PR</td>\n",
       "      <td>DK9_PT</td>\n",
       "      <td>-0.516</td>\n",
       "      <td>골다공증 현재 유병 여부</td>\n",
       "      <td>C형간염 치료</td>\n",
       "    </tr>\n",
       "    <tr>\n",
       "      <th>59</th>\n",
       "      <td>DM4_PR</td>\n",
       "      <td>BE3_77</td>\n",
       "      <td>-0.420</td>\n",
       "      <td>골다공증 현재 유병 여부</td>\n",
       "      <td>여가_고강도 신체활동 시간(시간)</td>\n",
       "    </tr>\n",
       "    <tr>\n",
       "      <th>162</th>\n",
       "      <td>DM4_PR</td>\n",
       "      <td>DM4_PT</td>\n",
       "      <td>0.494</td>\n",
       "      <td>골다공증 현재 유병 여부</td>\n",
       "      <td>골다공증 치료</td>\n",
       "    </tr>\n",
       "    <tr>\n",
       "      <th>9</th>\n",
       "      <td>DM4_PR</td>\n",
       "      <td>DC6_AG</td>\n",
       "      <td>0.571</td>\n",
       "      <td>골다공증 현재 유병 여부</td>\n",
       "      <td>폐암 진단시기</td>\n",
       "    </tr>\n",
       "  </tbody>\n",
       "</table>\n",
       "<p>488 rows × 5 columns</p>\n",
       "</div>"
      ],
      "text/plain": [
       "        dis       var    Cor         dis_설명                var_설명\n",
       "170  DC1_PR    DC1_AG  0.437    위암 현재 유병 여부               위암 진단시기\n",
       "199  DC1_PR    DC3_AG  0.571    위암 현재 유병 여부              대장암 진단시기\n",
       "25   DC1_PR    DC7_AG  0.693    위암 현재 유병 여부             갑상선암 진단시기\n",
       "130  DC1_PR    DI5_AG  0.775    위암 현재 유병 여부            심근경색증 진단시기\n",
       "353  DC1_PR  EC_STT_2  0.524    위암 현재 유병 여부  (취업자) 종사상지위_임금근로자 상세\n",
       "..      ...       ...    ...            ...                   ...\n",
       "101  DM4_PR    BE3_74 -0.479  골다공증 현재 유병 여부      일_고강도 신체활동 시간(분)\n",
       "55   DM4_PR    DK9_PT -0.516  골다공증 현재 유병 여부              C형간염 치료 \n",
       "59   DM4_PR    BE3_77 -0.420  골다공증 현재 유병 여부    여가_고강도 신체활동 시간(시간)\n",
       "162  DM4_PR    DM4_PT  0.494  골다공증 현재 유병 여부               골다공증 치료\n",
       "9    DM4_PR    DC6_AG  0.571  골다공증 현재 유병 여부               폐암 진단시기\n",
       "\n",
       "[488 rows x 5 columns]"
      ]
     },
     "execution_count": 59,
     "metadata": {},
     "output_type": "execute_result"
    }
   ],
   "source": [
    "# dis_df / var_df merge\n",
    "\n",
    "cor_df2 = pd.merge(cor_df, dis_df.iloc[ : , [0, 1]]) # dis를 중심으로 merge\n",
    "cor_df2 = pd.merge(cor_df2, var_df.iloc[ : , [0, 1]]) # var를 중심으로 merge\n",
    "out_cor = cor_df2.sort_values('dis')\n",
    "out_cor"
   ]
  },
  {
   "cell_type": "code",
   "execution_count": 60,
   "metadata": {},
   "outputs": [
    {
     "data": {
      "text/plain": [
       "166"
      ]
     },
     "execution_count": 60,
     "metadata": {},
     "output_type": "execute_result"
    }
   ],
   "source": [
    "# 진단 시기(_AG) 빼기 \n",
    "\n",
    "out_cor2 = out_cor[ ~ out_cor['var'].str.contains('_AG')]  # ' _AG'를 포함하고 있는 변수를 제외한 나머지 변수 추출\n",
    "len(set(out_cor2.iloc[ : , 1]))"
   ]
  },
  {
   "cell_type": "code",
   "execution_count": 62,
   "metadata": {},
   "outputs": [],
   "source": [
    "# csv 파일로 저장\n",
    "\n",
    "out_cor.to_csv('C:/sas_view/use_code/Data_Preprocessing/data/out_cor.csv', encoding = 'cp949') # 진단시기 변수 포함\n",
    "# out_cor2.to_csv('cor2_output.csv', encoding = 'cp949') # 진단시기 변수 빠짐"
   ]
  }
 ],
 "metadata": {
  "interpreter": {
   "hash": "e4cce46d6be9934fbd27f9ca0432556941ea5bdf741d4f4d64c6cd7f8dfa8fba"
  },
  "kernelspec": {
   "display_name": "Python 3.9.7 ('base')",
   "language": "python",
   "name": "python3"
  },
  "language_info": {
   "codemirror_mode": {
    "name": "ipython",
    "version": 3
   },
   "file_extension": ".py",
   "mimetype": "text/x-python",
   "name": "python",
   "nbconvert_exporter": "python",
   "pygments_lexer": "ipython3",
   "version": "3.9.7"
  },
  "orig_nbformat": 4
 },
 "nbformat": 4,
 "nbformat_minor": 2
}
