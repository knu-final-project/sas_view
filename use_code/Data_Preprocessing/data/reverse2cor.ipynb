{
 "cells": [
  {
   "cell_type": "markdown",
   "metadata": {},
   "source": [
    "### real_data2 / reverse2_df 상관계수"
   ]
  },
  {
   "cell_type": "code",
   "execution_count": 1,
   "metadata": {},
   "outputs": [],
   "source": [
    "# 라이브러리\n",
    "\n",
    "import pandas as pd\n",
    "import numpy as np"
   ]
  },
  {
   "cell_type": "code",
   "execution_count": null,
   "metadata": {},
   "outputs": [],
   "source": [
    "# 데이터 불러오기\n",
    "\n",
    "# reverse2_df.csv\n",
    "df = pd.read_csv('C:/sas_view/use_code/Data_Preprocessing/data/reverse2_df.csv', index_col = 0) \n",
    "# real_data2.csv\n",
    "df2 = pd.read_csv('C:/sas_view/data/real_data2.csv', index_col = 0) \n",
    "\n",
    "# reverse2_df [Unnamed: 0.1] 컬럼 제거\n",
    "df = df.drop(columns = ['Unnamed: 0.1'])"
   ]
  },
  {
   "cell_type": "code",
   "execution_count": null,
   "metadata": {},
   "outputs": [],
   "source": [
    "df # reverse2_df"
   ]
  },
  {
   "cell_type": "code",
   "execution_count": null,
   "metadata": {},
   "outputs": [],
   "source": [
    "df2 # real_data2"
   ]
  },
  {
   "cell_type": "code",
   "execution_count": null,
   "metadata": {},
   "outputs": [],
   "source": [
    "dis = [] # 질병 리스트\n",
    "var = [] # 변수 리스트\n",
    "Cor = [] # 상관계수 리스트\n",
    "\n",
    "for i in range(1, df2.shape[1]) : # shape : 행열의 개수 추출 / df2.shape[1] : 열의 수 (29)\n",
    "    for j in range(1, df.shape[1]) : # df.shape[1] (552)\n",
    "        try :\n",
    "            corr = df2.iloc[:,i].corr(df.iloc[:,j])\n",
    "            if ((corr >= .4) | (corr <= -.4)) & (corr != 1.000) : # 상관계수가 0.4 이상인 데이터 추출\n",
    "                dis.append(df2.columns[i])\n",
    "                var.append(df.columns[j])\n",
    "                Cor.append(round(corr, 3))\n",
    "                \n",
    "        except :\n",
    "            pass"
   ]
  },
  {
   "cell_type": "code",
   "execution_count": null,
   "metadata": {},
   "outputs": [],
   "source": [
    "# 상관계수 df\n",
    "\n",
    "cor_df = pd.DataFrame({'dis':dis,  # {'변수명' : 데이터를 가지고 있는 리스트}\n",
    "                       'var':var,\n",
    "                       'Cor':Cor})\n",
    "cor_df"
   ]
  },
  {
   "cell_type": "code",
   "execution_count": null,
   "metadata": {},
   "outputs": [],
   "source": [
    "# 변수사전 csv 파일 불러오기\n",
    "\n",
    "same = pd.read_csv('C:/sas_view/code/same_code_2.csv', index_col = 0)\n",
    "same"
   ]
  },
  {
   "cell_type": "code",
   "execution_count": null,
   "metadata": {},
   "outputs": [],
   "source": [
    "# same df '변수명' 대문자화\n",
    "\n",
    "for i in range(0, len(same)) :\n",
    "    same.iloc[i][0] = same.iloc[i][0].upper() \n",
    "\n",
    "same"
   ]
  },
  {
   "cell_type": "code",
   "execution_count": null,
   "metadata": {},
   "outputs": [],
   "source": [
    "# cor_df 질병에 해당하는 변수의 수 ( 28개 )\n",
    "\n",
    "dis_s = set(cor_df.iloc[ : , 0])\n",
    "dis_s = list(dis_s)\n",
    "print('cor_df 질병에 해당하는 변수의 수 : ', len(dis_s))\n",
    "\n",
    "# cor_df 질병에 영향을 미치는 변수의 수 ( 197개 )\n",
    "var_s = set(cor_df.iloc[:,1])\n",
    "var_s = list(var_s)\n",
    "print('cor_df 질병에 영향을 미치는 변수의 수 : ', len(var_s)) "
   ]
  },
  {
   "cell_type": "code",
   "execution_count": null,
   "metadata": {},
   "outputs": [],
   "source": [
    "# 질병과 그에 영향을 미치는 변수를 리스트에 담아주는 작업 실시\n",
    "\n",
    "dis_list = []\n",
    "var_list = []\n",
    "\n",
    "for  i in range(0, len(same)) :\n",
    "    if same.loc[i][0] in dis_s :\n",
    "        dis_list.append(i)\n",
    "    elif same.loc[i][0] in var_s :\n",
    "        var_list.append(i)\n",
    "\n",
    "print('질병 : ', len(dis_list), '\\n' '변수 : ', len(var_list))"
   ]
  },
  {
   "cell_type": "code",
   "execution_count": 11,
   "metadata": {},
   "outputs": [],
   "source": [
    "dis_df = same.iloc[dis_list] # 질병에 해당하는 사전\n",
    "var_df = same.iloc[var_list] # 기본변수에 해당하는 사전"
   ]
  },
  {
   "cell_type": "code",
   "execution_count": null,
   "metadata": {},
   "outputs": [],
   "source": [
    "# 상관계수 df에 변수설명을 merge하기위해 변수사전에 있는 변수명을 cor_df에 맞추어 변경하는 작업 실시\n",
    "\n",
    "dis_df.rename(columns = {'변수명' : 'dis', '변수설명7' : 'dis_설명'}, inplace = True) \n",
    "var_df.rename(columns = {'변수명' : 'var', '변수설명7' : 'var_설명'}, inplace = True)"
   ]
  },
  {
   "cell_type": "code",
   "execution_count": null,
   "metadata": {},
   "outputs": [],
   "source": [
    "dis_df"
   ]
  },
  {
   "cell_type": "code",
   "execution_count": null,
   "metadata": {},
   "outputs": [],
   "source": [
    "var_df"
   ]
  },
  {
   "cell_type": "code",
   "execution_count": null,
   "metadata": {},
   "outputs": [],
   "source": [
    "# dis_df / var_df merge\n",
    "\n",
    "cor_df2 = pd.merge(cor_df, dis_df.iloc[ : , [0, 1]]) # dis를 중심으로 merge\n",
    "cor_df2 = pd.merge(cor_df2, var_df.iloc[ : , [0, 1]]) # var를 중심으로 merge\n",
    "out_cor = cor_df2.sort_values('dis')\n",
    "out_cor"
   ]
  },
  {
   "cell_type": "code",
   "execution_count": null,
   "metadata": {},
   "outputs": [],
   "source": [
    "# 진단 시기(_AG) 빼기 \n",
    "\n",
    "out_cor2 = out_cor[ ~ out_cor['var'].str.contains('_AG')]  # ' _AG'를 포함하고 있는 변수를 제외한 나머지 변수 추출\n",
    "len(set(out_cor2.iloc[ : , 1]))"
   ]
  },
  {
   "cell_type": "code",
   "execution_count": 17,
   "metadata": {},
   "outputs": [],
   "source": [
    "# csv 파일로 저장\n",
    "\n",
    "#out_cor.to_csv('C:/sas_view/use_code/Data_Preprocessing/data/out_cor.csv', encoding = 'cp949') # 진단시기 변수 포함\n",
    "out_cor2.to_csv('cor2_output.csv', encoding = 'cp949') # 진단시기 변수 빠짐"
   ]
  }
 ],
 "metadata": {
  "interpreter": {
   "hash": "e4cce46d6be9934fbd27f9ca0432556941ea5bdf741d4f4d64c6cd7f8dfa8fba"
  },
  "kernelspec": {
   "display_name": "Python 3.9.7 ('base')",
   "language": "python",
   "name": "python3"
  },
  "language_info": {
   "codemirror_mode": {
    "name": "ipython",
    "version": 3
   },
   "file_extension": ".py",
   "mimetype": "text/x-python",
   "name": "python",
   "nbconvert_exporter": "python",
   "pygments_lexer": "ipython3",
   "version": "3.9.7"
  },
  "orig_nbformat": 4
 },
 "nbformat": 4,
 "nbformat_minor": 2
}
