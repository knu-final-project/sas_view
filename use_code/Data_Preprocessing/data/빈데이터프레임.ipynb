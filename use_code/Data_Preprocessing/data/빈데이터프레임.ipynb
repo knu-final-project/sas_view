{
 "cells": [
  {
   "cell_type": "code",
   "execution_count": 1,
   "metadata": {},
   "outputs": [],
   "source": [
    "import pandas as pd"
   ]
  },
  {
   "cell_type": "code",
   "execution_count": 6,
   "metadata": {},
   "outputs": [],
   "source": [
    "# 빈 데이터프레임 만들기\n",
    "df = pd.DataFrame(columns = ['SEX','AGE','HE_HT','HE_WT','HE_BMI','LQ_1EQL','LQ_2EQL','LQ_3EQL','LQ_4EQL','LQ_5EQL','TOTAL_SLP_WD','BE3_81','BE3_85','BP1','SM_PRESNT','L_BR_FQ','BH1','HE_FH','HE_DBP','LQ4_00','BP7','MH_STRESS','HE_RPLS','BS13','BD1_11','N_INTK','N_EN','N_WATER','N_PROT','N_FAT','N_SFA','N_MUFA','N_CHOL','N_SUGAR','N_PHOS','N_NA','N_CAROT'])"
   ]
  },
  {
   "cell_type": "code",
   "execution_count": 7,
   "metadata": {},
   "outputs": [
    {
     "data": {
      "text/html": [
       "<div>\n",
       "<style scoped>\n",
       "    .dataframe tbody tr th:only-of-type {\n",
       "        vertical-align: middle;\n",
       "    }\n",
       "\n",
       "    .dataframe tbody tr th {\n",
       "        vertical-align: top;\n",
       "    }\n",
       "\n",
       "    .dataframe thead th {\n",
       "        text-align: right;\n",
       "    }\n",
       "</style>\n",
       "<table border=\"1\" class=\"dataframe\">\n",
       "  <thead>\n",
       "    <tr style=\"text-align: right;\">\n",
       "      <th></th>\n",
       "      <th>SEX</th>\n",
       "      <th>AGE</th>\n",
       "      <th>HE_HT</th>\n",
       "      <th>HE_WT</th>\n",
       "      <th>HE_BMI</th>\n",
       "      <th>LQ_1EQL</th>\n",
       "      <th>LQ_2EQL</th>\n",
       "      <th>LQ_3EQL</th>\n",
       "      <th>LQ_4EQL</th>\n",
       "      <th>LQ_5EQL</th>\n",
       "      <th>...</th>\n",
       "      <th>N_WATER</th>\n",
       "      <th>N_PROT</th>\n",
       "      <th>N_FAT</th>\n",
       "      <th>N_SFA</th>\n",
       "      <th>N_MUFA</th>\n",
       "      <th>N_CHOL</th>\n",
       "      <th>N_SUGAR</th>\n",
       "      <th>N_PHOS</th>\n",
       "      <th>N_NA</th>\n",
       "      <th>N_CAROT</th>\n",
       "    </tr>\n",
       "  </thead>\n",
       "  <tbody>\n",
       "  </tbody>\n",
       "</table>\n",
       "<p>0 rows × 37 columns</p>\n",
       "</div>"
      ],
      "text/plain": [
       "Empty DataFrame\n",
       "Columns: [SEX, AGE, HE_HT, HE_WT, HE_BMI, LQ_1EQL, LQ_2EQL, LQ_3EQL, LQ_4EQL, LQ_5EQL, TOTAL_SLP_WD, BE3_81, BE3_85, BP1, SM_PRESNT, L_BR_FQ, BH1, HE_FH, HE_DBP, LQ4_00, BP7, MH_STRESS, HE_RPLS, BS13, BD1_11, N_INTK, N_EN, N_WATER, N_PROT, N_FAT, N_SFA, N_MUFA, N_CHOL, N_SUGAR, N_PHOS, N_NA, N_CAROT]\n",
       "Index: []\n",
       "\n",
       "[0 rows x 37 columns]"
      ]
     },
     "execution_count": 7,
     "metadata": {},
     "output_type": "execute_result"
    }
   ],
   "source": [
    "df"
   ]
  },
  {
   "cell_type": "code",
   "execution_count": null,
   "metadata": {},
   "outputs": [],
   "source": []
  }
 ],
 "metadata": {
  "interpreter": {
   "hash": "f544ce1a915a9875fad91c894e2c0bcad4b7a79945aa6027ef3ad27810072aa6"
  },
  "kernelspec": {
   "display_name": "Python 3.8.10 64-bit",
   "language": "python",
   "name": "python3"
  },
  "language_info": {
   "codemirror_mode": {
    "name": "ipython",
    "version": 3
   },
   "file_extension": ".py",
   "mimetype": "text/x-python",
   "name": "python",
   "nbconvert_exporter": "python",
   "pygments_lexer": "ipython3",
   "version": "3.8.10"
  },
  "orig_nbformat": 4
 },
 "nbformat": 4,
 "nbformat_minor": 2
}
