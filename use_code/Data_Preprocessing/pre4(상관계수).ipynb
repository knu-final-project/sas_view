{
 "cells": [
  {
   "cell_type": "markdown",
   "metadata": {},
   "source": [
    "### 분석전 작업"
   ]
  },
  {
   "cell_type": "code",
   "execution_count": 135,
   "metadata": {},
   "outputs": [],
   "source": [
    "# 라이브러리\n",
    "import pandas as pd\n",
    "import numpy as np"
   ]
  },
  {
   "cell_type": "code",
   "execution_count": 136,
   "metadata": {},
   "outputs": [
    {
     "name": "stderr",
     "output_type": "stream",
     "text": [
      "C:\\Users\\dkq50\\AppData\\Local\\Temp\\ipykernel_11176\\2898011333.py:2: DtypeWarning: Columns (31,32,202,265,277,288,291,331,372,399,411,437,443,464,475,482,510,518) have mixed types. Specify dtype option on import or set low_memory=False.\n",
      "  age_1 = pd.read_csv('C:/sas_view/data/real_data1.csv',index_col=0)\n"
     ]
    }
   ],
   "source": [
    "## 데이터 불러오기\n",
    "age_1 = pd.read_csv('C:/sas_view/data/real_data1.csv',index_col=0)\n",
    "age_2 = pd.read_csv('C:/sas_view/data/real_data2.csv',index_col=0)"
   ]
  },
  {
   "cell_type": "markdown",
   "metadata": {},
   "source": [
    "### 상관계수를 포함한 데이터 프레임 생성"
   ]
  },
  {
   "cell_type": "markdown",
   "metadata": {},
   "source": [
    "1. 질병, 변수, 상관계수 등 필요 데이터 추출 작업 실시"
   ]
  },
  {
   "cell_type": "code",
   "execution_count": 21,
   "metadata": {},
   "outputs": [
    {
     "name": "stderr",
     "output_type": "stream",
     "text": [
      "c:\\Users\\dkq50\\anaconda3\\envs\\conda38\\lib\\site-packages\\numpy\\lib\\function_base.py:2821: RuntimeWarning: Degrees of freedom <= 0 for slice\n",
      "  c = cov(x, y, rowvar, dtype=dtype)\n",
      "c:\\Users\\dkq50\\anaconda3\\envs\\conda38\\lib\\site-packages\\numpy\\lib\\function_base.py:2680: RuntimeWarning: divide by zero encountered in true_divide\n",
      "  c *= np.true_divide(1, fact)\n"
     ]
    }
   ],
   "source": [
    "dis = [] # 질병 리스트\n",
    "var = [] # 변수 리스트\n",
    "Cor = [] # 상관계수 리스트\n",
    "\n",
    "for i in range(1,age_2.shape[1]): # shape : 행열의 개수 추출 / shape[1] : 열의 수\n",
    "    for j in range(1,age_1.shape[1]): \n",
    "        try:\n",
    "            corr = age_2.iloc[:,i].corr(age_1.iloc[:,j])\n",
    "            if ((corr >= .4) | (corr <= -.4)) & (corr !=1.000): # 상관계수가 0.4 이상인 데이터 추출\n",
    "                dis.append(age_2.columns[i])\n",
    "                var.append(age_1.columns[j])\n",
    "                Cor.append(round(corr,3))\n",
    "                \n",
    "        except:\n",
    "            pass"
   ]
  },
  {
   "cell_type": "markdown",
   "metadata": {},
   "source": [
    "2. 추출된 리스트 활용하여 cor_df라는 상관계수를 포함한 데이터 프레임 생성"
   ]
  },
  {
   "cell_type": "code",
   "execution_count": 22,
   "metadata": {},
   "outputs": [
    {
     "data": {
      "text/html": [
       "<div>\n",
       "<style scoped>\n",
       "    .dataframe tbody tr th:only-of-type {\n",
       "        vertical-align: middle;\n",
       "    }\n",
       "\n",
       "    .dataframe tbody tr th {\n",
       "        vertical-align: top;\n",
       "    }\n",
       "\n",
       "    .dataframe thead th {\n",
       "        text-align: right;\n",
       "    }\n",
       "</style>\n",
       "<table border=\"1\" class=\"dataframe\">\n",
       "  <thead>\n",
       "    <tr style=\"text-align: right;\">\n",
       "      <th></th>\n",
       "      <th>dis</th>\n",
       "      <th>var</th>\n",
       "      <th>Cor</th>\n",
       "    </tr>\n",
       "  </thead>\n",
       "  <tbody>\n",
       "    <tr>\n",
       "      <th>0</th>\n",
       "      <td>DI1_PR</td>\n",
       "      <td>DI1_PT</td>\n",
       "      <td>0.820</td>\n",
       "    </tr>\n",
       "    <tr>\n",
       "      <th>1</th>\n",
       "      <td>DI1_PR</td>\n",
       "      <td>DI1_2</td>\n",
       "      <td>-0.773</td>\n",
       "    </tr>\n",
       "    <tr>\n",
       "      <th>2</th>\n",
       "      <td>DI1_PR</td>\n",
       "      <td>DC12_AG</td>\n",
       "      <td>-0.693</td>\n",
       "    </tr>\n",
       "    <tr>\n",
       "      <th>3</th>\n",
       "      <td>DI1_PR</td>\n",
       "      <td>HE_HP</td>\n",
       "      <td>0.704</td>\n",
       "    </tr>\n",
       "    <tr>\n",
       "      <th>4</th>\n",
       "      <td>DI1_PR</td>\n",
       "      <td>DC12_PR</td>\n",
       "      <td>-1.000</td>\n",
       "    </tr>\n",
       "    <tr>\n",
       "      <th>...</th>\n",
       "      <td>...</td>\n",
       "      <td>...</td>\n",
       "      <td>...</td>\n",
       "    </tr>\n",
       "    <tr>\n",
       "      <th>512</th>\n",
       "      <td>DK4_PR</td>\n",
       "      <td>DC11_PR</td>\n",
       "      <td>-0.577</td>\n",
       "    </tr>\n",
       "    <tr>\n",
       "      <th>513</th>\n",
       "      <td>DK4_PR</td>\n",
       "      <td>DC11_PT</td>\n",
       "      <td>-0.577</td>\n",
       "    </tr>\n",
       "    <tr>\n",
       "      <th>514</th>\n",
       "      <td>DK4_PR</td>\n",
       "      <td>DK4_PT</td>\n",
       "      <td>0.734</td>\n",
       "    </tr>\n",
       "    <tr>\n",
       "      <th>515</th>\n",
       "      <td>DK4_PR</td>\n",
       "      <td>BO1_2</td>\n",
       "      <td>-0.413</td>\n",
       "    </tr>\n",
       "    <tr>\n",
       "      <th>516</th>\n",
       "      <td>DK4_PR</td>\n",
       "      <td>BD2_1</td>\n",
       "      <td>-0.536</td>\n",
       "    </tr>\n",
       "  </tbody>\n",
       "</table>\n",
       "<p>517 rows × 3 columns</p>\n",
       "</div>"
      ],
      "text/plain": [
       "        dis      var    Cor\n",
       "0    DI1_PR   DI1_PT  0.820\n",
       "1    DI1_PR    DI1_2 -0.773\n",
       "2    DI1_PR  DC12_AG -0.693\n",
       "3    DI1_PR    HE_HP  0.704\n",
       "4    DI1_PR  DC12_PR -1.000\n",
       "..      ...      ...    ...\n",
       "512  DK4_PR  DC11_PR -0.577\n",
       "513  DK4_PR  DC11_PT -0.577\n",
       "514  DK4_PR   DK4_PT  0.734\n",
       "515  DK4_PR    BO1_2 -0.413\n",
       "516  DK4_PR    BD2_1 -0.536\n",
       "\n",
       "[517 rows x 3 columns]"
      ]
     },
     "execution_count": 22,
     "metadata": {},
     "output_type": "execute_result"
    }
   ],
   "source": [
    "## 상관계수 df 만들기\n",
    "cor_df = pd.DataFrame({'dis':dis,  # {'변수명' : 데이터를 가지고 있는 리스트}\n",
    "                       'var':var,\n",
    "                       'Cor':Cor})\n",
    "cor_df"
   ]
  },
  {
   "cell_type": "markdown",
   "metadata": {},
   "source": [
    "3. cor_df을 쉽게 해석하기 위해 미리 만들어놓은 변수사전(same_code_2)을 활용하여 변수설명 추가 작업\n",
    "* same_code_2 : 7차8차의 변수들을 모두 모아 놓은 사전 (변수명과 변수설명들이 동일)"
   ]
  },
  {
   "cell_type": "code",
   "execution_count": 138,
   "metadata": {},
   "outputs": [],
   "source": [
    "####\n",
    "same = pd.read_csv('C:/sas_view/code/same_code_2.csv',index_col=0)"
   ]
  },
  {
   "cell_type": "code",
   "execution_count": 139,
   "metadata": {},
   "outputs": [
    {
     "data": {
      "text/html": [
       "<div>\n",
       "<style scoped>\n",
       "    .dataframe tbody tr th:only-of-type {\n",
       "        vertical-align: middle;\n",
       "    }\n",
       "\n",
       "    .dataframe tbody tr th {\n",
       "        vertical-align: top;\n",
       "    }\n",
       "\n",
       "    .dataframe thead th {\n",
       "        text-align: right;\n",
       "    }\n",
       "</style>\n",
       "<table border=\"1\" class=\"dataframe\">\n",
       "  <thead>\n",
       "    <tr style=\"text-align: right;\">\n",
       "      <th></th>\n",
       "      <th>변수명</th>\n",
       "      <th>변수설명7</th>\n",
       "      <th>변수설명8</th>\n",
       "    </tr>\n",
       "  </thead>\n",
       "  <tbody>\n",
       "    <tr>\n",
       "      <th>0</th>\n",
       "      <td>MOD_D</td>\n",
       "      <td>최종 DB 수정일</td>\n",
       "      <td>최종 DB 수정일</td>\n",
       "    </tr>\n",
       "    <tr>\n",
       "      <th>1</th>\n",
       "      <td>ID</td>\n",
       "      <td>개인 아이디</td>\n",
       "      <td>개인 아이디</td>\n",
       "    </tr>\n",
       "    <tr>\n",
       "      <th>2</th>\n",
       "      <td>ID_FAM</td>\n",
       "      <td>가구 아이디</td>\n",
       "      <td>가구 아이디</td>\n",
       "    </tr>\n",
       "    <tr>\n",
       "      <th>3</th>\n",
       "      <td>YEAR</td>\n",
       "      <td>조사연도</td>\n",
       "      <td>조사연도</td>\n",
       "    </tr>\n",
       "    <tr>\n",
       "      <th>4</th>\n",
       "      <td>REGION</td>\n",
       "      <td>17개 시도</td>\n",
       "      <td>17개 시도</td>\n",
       "    </tr>\n",
       "    <tr>\n",
       "      <th>...</th>\n",
       "      <td>...</td>\n",
       "      <td>...</td>\n",
       "      <td>...</td>\n",
       "    </tr>\n",
       "    <tr>\n",
       "      <th>747</th>\n",
       "      <td>T_NQ_OCP</td>\n",
       "      <td>작업장 내 소음노출 경험</td>\n",
       "      <td>직업적 소음노출</td>\n",
       "    </tr>\n",
       "    <tr>\n",
       "      <th>748</th>\n",
       "      <td>HE_DM</td>\n",
       "      <td>당뇨병 유병여부(19세이상)</td>\n",
       "      <td>당뇨병 유병여부(19세이상)</td>\n",
       "    </tr>\n",
       "    <tr>\n",
       "      <th>749</th>\n",
       "      <td>TOTAL_SLP_WK</td>\n",
       "      <td>(만12세이상) 주중 하루 평균 수면시간</td>\n",
       "      <td>(만12세이상) 주중(또는 일하는 날) 하루 평균 수면 시간</td>\n",
       "    </tr>\n",
       "    <tr>\n",
       "      <th>750</th>\n",
       "      <td>TOTAL_SLP_WD</td>\n",
       "      <td>(만12세이상) 주말 하루 평균 수면시간</td>\n",
       "      <td>(만12세이상) 주말(또는 일하지 않는 날, 일하지 않는 전날) 하루 평균 수면 시간</td>\n",
       "    </tr>\n",
       "    <tr>\n",
       "      <th>751</th>\n",
       "      <td>HE_UCREA</td>\n",
       "      <td>요크레아티닌</td>\n",
       "      <td>요크레아티닌</td>\n",
       "    </tr>\n",
       "  </tbody>\n",
       "</table>\n",
       "<p>752 rows × 3 columns</p>\n",
       "</div>"
      ],
      "text/plain": [
       "              변수명                   변수설명7  \\\n",
       "0           MOD_D               최종 DB 수정일   \n",
       "1              ID                  개인 아이디   \n",
       "2          ID_FAM                  가구 아이디   \n",
       "3            YEAR                    조사연도   \n",
       "4          REGION                  17개 시도   \n",
       "..            ...                     ...   \n",
       "747      T_NQ_OCP           작업장 내 소음노출 경험   \n",
       "748         HE_DM         당뇨병 유병여부(19세이상)   \n",
       "749  TOTAL_SLP_WK  (만12세이상) 주중 하루 평균 수면시간   \n",
       "750  TOTAL_SLP_WD  (만12세이상) 주말 하루 평균 수면시간   \n",
       "751      HE_UCREA                  요크레아티닌   \n",
       "\n",
       "                                               변수설명8  \n",
       "0                                          최종 DB 수정일  \n",
       "1                                             개인 아이디  \n",
       "2                                             가구 아이디  \n",
       "3                                               조사연도  \n",
       "4                                             17개 시도  \n",
       "..                                               ...  \n",
       "747                                         직업적 소음노출  \n",
       "748                                  당뇨병 유병여부(19세이상)  \n",
       "749                (만12세이상) 주중(또는 일하는 날) 하루 평균 수면 시간  \n",
       "750  (만12세이상) 주말(또는 일하지 않는 날, 일하지 않는 전날) 하루 평균 수면 시간  \n",
       "751                                           요크레아티닌  \n",
       "\n",
       "[752 rows x 3 columns]"
      ]
     },
     "execution_count": 139,
     "metadata": {},
     "output_type": "execute_result"
    }
   ],
   "source": [
    "for i in range(0,len(same)):\n",
    "    same.iloc[i][0] = same.iloc[i][0].upper() ## 변수의 대소문자 차이를 없애기 위해 대문자로 모두 변경\n",
    "\n",
    "same"
   ]
  },
  {
   "cell_type": "markdown",
   "metadata": {},
   "source": [
    "4. cor_df 데이터프레임 구성 확인"
   ]
  },
  {
   "cell_type": "code",
   "execution_count": 140,
   "metadata": {},
   "outputs": [
    {
     "data": {
      "text/plain": [
       "28"
      ]
     },
     "execution_count": 140,
     "metadata": {},
     "output_type": "execute_result"
    }
   ],
   "source": [
    "dis_s = set(cor_df.iloc[:,0])\n",
    "dis_s = list(dis_s)\n",
    "len(dis_s) # 질병에 해당하는 변수의 수"
   ]
  },
  {
   "cell_type": "code",
   "execution_count": 141,
   "metadata": {},
   "outputs": [
    {
     "data": {
      "text/plain": [
       "212"
      ]
     },
     "execution_count": 141,
     "metadata": {},
     "output_type": "execute_result"
    }
   ],
   "source": [
    "var_s = set(cor_df.iloc[:,1])\n",
    "var_s = list(var_s)\n",
    "len(var_s) # 질병에 영향을 미치는 변수의 수"
   ]
  },
  {
   "cell_type": "code",
   "execution_count": 142,
   "metadata": {},
   "outputs": [
    {
     "name": "stdout",
     "output_type": "stream",
     "text": [
      "28 212\n"
     ]
    }
   ],
   "source": [
    "## 질병과 그에 영향을 미치는 변수를 리스트에 담아주는 작업 실시\n",
    "dis_list = []\n",
    "var_list = []\n",
    "for  i in range(0,len(same)):\n",
    "    if same.loc[i][0] in dis_s:\n",
    "        dis_list.append(i)\n",
    "    elif same.loc[i][0] in var_s:\n",
    "        var_list.append(i)\n",
    "\n",
    "print(len(dis_list),len(var_list))"
   ]
  },
  {
   "cell_type": "markdown",
   "metadata": {},
   "source": [
    "5. 변수사전에서 활용할 데이터 분할작업"
   ]
  },
  {
   "cell_type": "code",
   "execution_count": 143,
   "metadata": {},
   "outputs": [],
   "source": [
    "dis_df = same.iloc[dis_list] ## 질병에 해당하는 사전\n",
    "var_df = same.iloc[var_list] ## 기본변수에 해당하는 사전"
   ]
  },
  {
   "cell_type": "markdown",
   "metadata": {},
   "source": [
    "6. merge 작업전 변수명 맞추기 & merge"
   ]
  },
  {
   "cell_type": "code",
   "execution_count": 144,
   "metadata": {},
   "outputs": [
    {
     "name": "stderr",
     "output_type": "stream",
     "text": [
      "C:\\Users\\dkq50\\AppData\\Local\\Temp\\ipykernel_11176\\1408335952.py:1: SettingWithCopyWarning: \n",
      "A value is trying to be set on a copy of a slice from a DataFrame\n",
      "\n",
      "See the caveats in the documentation: https://pandas.pydata.org/pandas-docs/stable/user_guide/indexing.html#returning-a-view-versus-a-copy\n",
      "  dis_df.rename(columns={'변수명':'dis','변수설명7':'dis_설명'},inplace=True)\n",
      "C:\\Users\\dkq50\\AppData\\Local\\Temp\\ipykernel_11176\\1408335952.py:2: SettingWithCopyWarning: \n",
      "A value is trying to be set on a copy of a slice from a DataFrame\n",
      "\n",
      "See the caveats in the documentation: https://pandas.pydata.org/pandas-docs/stable/user_guide/indexing.html#returning-a-view-versus-a-copy\n",
      "  var_df.rename(columns={'변수명':'var','변수설명7':'var_설명'},inplace=True)\n"
     ]
    }
   ],
   "source": [
    "# 상관계수 df에 변수설명을 merge하기위해 변수사전에 있는 변수명을 cor_df에 맞추어 변경하는 작업 실시\n",
    "dis_df.rename(columns={'변수명':'dis','변수설명7':'dis_설명'},inplace=True) \n",
    "var_df.rename(columns={'변수명':'var','변수설명7':'var_설명'},inplace=True)"
   ]
  },
  {
   "cell_type": "code",
   "execution_count": 113,
   "metadata": {},
   "outputs": [
    {
     "data": {
      "text/html": [
       "<div>\n",
       "<style scoped>\n",
       "    .dataframe tbody tr th:only-of-type {\n",
       "        vertical-align: middle;\n",
       "    }\n",
       "\n",
       "    .dataframe tbody tr th {\n",
       "        vertical-align: top;\n",
       "    }\n",
       "\n",
       "    .dataframe thead th {\n",
       "        text-align: right;\n",
       "    }\n",
       "</style>\n",
       "<table border=\"1\" class=\"dataframe\">\n",
       "  <thead>\n",
       "    <tr style=\"text-align: right;\">\n",
       "      <th></th>\n",
       "      <th>dis</th>\n",
       "      <th>var</th>\n",
       "      <th>Cor</th>\n",
       "      <th>dis_설명</th>\n",
       "      <th>var_설명</th>\n",
       "    </tr>\n",
       "  </thead>\n",
       "  <tbody>\n",
       "    <tr>\n",
       "      <th>258</th>\n",
       "      <td>DC1_PR</td>\n",
       "      <td>DK4_PT</td>\n",
       "      <td>0.500</td>\n",
       "      <td>위암 현재 유병 여부</td>\n",
       "      <td>간경변증 치료</td>\n",
       "    </tr>\n",
       "    <tr>\n",
       "      <th>25</th>\n",
       "      <td>DC1_PR</td>\n",
       "      <td>DC7_AG</td>\n",
       "      <td>0.693</td>\n",
       "      <td>위암 현재 유병 여부</td>\n",
       "      <td>갑상선암 진단시기</td>\n",
       "    </tr>\n",
       "    <tr>\n",
       "      <th>362</th>\n",
       "      <td>DC1_PR</td>\n",
       "      <td>EC_STT_2</td>\n",
       "      <td>0.524</td>\n",
       "      <td>위암 현재 유병 여부</td>\n",
       "      <td>(취업자) 종사상지위_임금근로자 상세</td>\n",
       "    </tr>\n",
       "    <tr>\n",
       "      <th>360</th>\n",
       "      <td>DC1_PR</td>\n",
       "      <td>BM13_3</td>\n",
       "      <td>0.461</td>\n",
       "      <td>위암 현재 유병 여부</td>\n",
       "      <td>치아손상 사유: 교통사고</td>\n",
       "    </tr>\n",
       "    <tr>\n",
       "      <th>132</th>\n",
       "      <td>DC1_PR</td>\n",
       "      <td>DK4_AG</td>\n",
       "      <td>0.803</td>\n",
       "      <td>위암 현재 유병 여부</td>\n",
       "      <td>간경변증 진단시기</td>\n",
       "    </tr>\n",
       "    <tr>\n",
       "      <th>...</th>\n",
       "      <td>...</td>\n",
       "      <td>...</td>\n",
       "      <td>...</td>\n",
       "      <td>...</td>\n",
       "      <td>...</td>\n",
       "    </tr>\n",
       "    <tr>\n",
       "      <th>193</th>\n",
       "      <td>DM4_PR</td>\n",
       "      <td>AC3_1_02</td>\n",
       "      <td>-0.436</td>\n",
       "      <td>골다공증 현재 유병 여부</td>\n",
       "      <td>손상2 발생시기-년도</td>\n",
       "    </tr>\n",
       "    <tr>\n",
       "      <th>188</th>\n",
       "      <td>DM4_PR</td>\n",
       "      <td>DC6_PT</td>\n",
       "      <td>0.471</td>\n",
       "      <td>골다공증 현재 유병 여부</td>\n",
       "      <td>폐암 치료 여부</td>\n",
       "    </tr>\n",
       "    <tr>\n",
       "      <th>128</th>\n",
       "      <td>DM4_PR</td>\n",
       "      <td>DK4_AG</td>\n",
       "      <td>-0.486</td>\n",
       "      <td>골다공증 현재 유병 여부</td>\n",
       "      <td>간경변증 진단시기</td>\n",
       "    </tr>\n",
       "    <tr>\n",
       "      <th>179</th>\n",
       "      <td>DM4_PR</td>\n",
       "      <td>DC1_AG</td>\n",
       "      <td>-0.430</td>\n",
       "      <td>골다공증 현재 유병 여부</td>\n",
       "      <td>위암 진단시기</td>\n",
       "    </tr>\n",
       "    <tr>\n",
       "      <th>101</th>\n",
       "      <td>DM4_PR</td>\n",
       "      <td>BE3_74</td>\n",
       "      <td>-0.479</td>\n",
       "      <td>골다공증 현재 유병 여부</td>\n",
       "      <td>일_고강도 신체활동 시간(분)</td>\n",
       "    </tr>\n",
       "  </tbody>\n",
       "</table>\n",
       "<p>517 rows × 5 columns</p>\n",
       "</div>"
      ],
      "text/plain": [
       "        dis       var    Cor         dis_설명                var_설명\n",
       "258  DC1_PR    DK4_PT  0.500    위암 현재 유병 여부              간경변증 치료 \n",
       "25   DC1_PR    DC7_AG  0.693    위암 현재 유병 여부             갑상선암 진단시기\n",
       "362  DC1_PR  EC_STT_2  0.524    위암 현재 유병 여부  (취업자) 종사상지위_임금근로자 상세\n",
       "360  DC1_PR    BM13_3  0.461    위암 현재 유병 여부         치아손상 사유: 교통사고\n",
       "132  DC1_PR    DK4_AG  0.803    위암 현재 유병 여부             간경변증 진단시기\n",
       "..      ...       ...    ...            ...                   ...\n",
       "193  DM4_PR  AC3_1_02 -0.436  골다공증 현재 유병 여부           손상2 발생시기-년도\n",
       "188  DM4_PR    DC6_PT  0.471  골다공증 현재 유병 여부             폐암 치료 여부 \n",
       "128  DM4_PR    DK4_AG -0.486  골다공증 현재 유병 여부             간경변증 진단시기\n",
       "179  DM4_PR    DC1_AG -0.430  골다공증 현재 유병 여부               위암 진단시기\n",
       "101  DM4_PR    BE3_74 -0.479  골다공증 현재 유병 여부      일_고강도 신체활동 시간(분)\n",
       "\n",
       "[517 rows x 5 columns]"
      ]
     },
     "execution_count": 113,
     "metadata": {},
     "output_type": "execute_result"
    }
   ],
   "source": [
    "## merge\n",
    "cor_df2 = pd.merge(cor_df,dis_df.iloc[:,[0,1]]) # dis를 중심으로 merge\n",
    "cor_df2 = pd.merge(cor_df2,var_df.iloc[:,[0,1]]) # var를 중심으로 merge\n",
    "out_cor = cor_df2.sort_values('dis')\n",
    "out_cor"
   ]
  },
  {
   "cell_type": "markdown",
   "metadata": {},
   "source": [
    "그 외 기타 작업"
   ]
  },
  {
   "cell_type": "code",
   "execution_count": 147,
   "metadata": {},
   "outputs": [
    {
     "data": {
      "text/plain": [
       "183"
      ]
     },
     "execution_count": 147,
     "metadata": {},
     "output_type": "execute_result"
    }
   ],
   "source": [
    "##### 진단 시기(_AG) 빼기 작업 ###\n",
    "out_cor2 = out_cor[~out_cor['var'].str.contains('_AG')] # ' _AG'를 포함하고 있는 변수를 제외한 나머지 변수 추출\n",
    "len(set(out_cor2.iloc[:,1]))"
   ]
  },
  {
   "cell_type": "code",
   "execution_count": 122,
   "metadata": {},
   "outputs": [],
   "source": [
    "# 완성된 df를 csv로 내보내기\n",
    "out_cor.to_csv('cor_output.csv',encoding='cp949') ## 진단시기 변수 포함\n",
    "out_cor2.to_csv('cor2_output.csv',encoding='cp949') ## 진단시기 변수 빠짐"
   ]
  },
  {
   "cell_type": "code",
   "execution_count": null,
   "metadata": {},
   "outputs": [],
   "source": []
  }
 ],
 "metadata": {
  "interpreter": {
   "hash": "3a909b764e5297ab7243911d79b34f3ad584c453baa3fb8c1fea8bd611715306"
  },
  "kernelspec": {
   "display_name": "Python 3.8.13 ('conda38')",
   "language": "python",
   "name": "python3"
  },
  "language_info": {
   "codemirror_mode": {
    "name": "ipython",
    "version": 3
   },
   "file_extension": ".py",
   "mimetype": "text/x-python",
   "name": "python",
   "nbconvert_exporter": "python",
   "pygments_lexer": "ipython3",
   "version": "3.8.13"
  },
  "orig_nbformat": 4
 },
 "nbformat": 4,
 "nbformat_minor": 2
}
