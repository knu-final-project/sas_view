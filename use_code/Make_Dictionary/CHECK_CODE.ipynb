{
 "cells": [
  {
   "cell_type": "markdown",
   "metadata": {},
   "source": [
    "### CHECK CODE"
   ]
  },
  {
   "cell_type": "code",
   "execution_count": 100,
   "metadata": {},
   "outputs": [],
   "source": [
    "import pandas as pd\n",
    "\n",
    "# 기본DB_7,8 / 식품_7,8차 concat한 데이터 파일 불러오기\n",
    "\n",
    "df7 = pd.read_csv('data/concat7.csv', encoding = 'utf-8', index_col = 0)\n",
    "df8 = pd.read_csv('data/concat8.csv', encoding = 'utf-8', index_col = 0)"
   ]
  },
  {
   "cell_type": "code",
   "execution_count": 101,
   "metadata": {},
   "outputs": [],
   "source": [
    "# df7 / df8 변수명 추출\n",
    "\n",
    "df7_col = df7['변수명'].to_list()\n",
    "df8_col = df8['변수명'].to_list()"
   ]
  },
  {
   "cell_type": "code",
   "execution_count": 102,
   "metadata": {},
   "outputs": [],
   "source": [
    "# df7 / df8 서로 동일한 변수명 리스트 만들기\n",
    "\n",
    "list7 = []\n",
    "list8 = []\n",
    "\n",
    "for i in range(0, len(df8_col)) :\n",
    "    for j in range(0, len(df7_col)) :\n",
    "        if df8_col[i] == df7_col[j] :\n",
    "            list8.append(i)\n",
    "            list7.append(j)"
   ]
  },
  {
   "cell_type": "code",
   "execution_count": 103,
   "metadata": {},
   "outputs": [
    {
     "name": "stdout",
     "output_type": "stream",
     "text": [
      "751 751\n"
     ]
    }
   ],
   "source": [
    "# 공통된 변수명 리스트 751개\n",
    "\n",
    "print(len(list7), len(list8))"
   ]
  },
  {
   "cell_type": "code",
   "execution_count": 104,
   "metadata": {},
   "outputs": [],
   "source": [
    "# merge 하기 전 '변수설명' 구분하기 위해 컬럼명 변경\n",
    "\n",
    "df7.rename(columns = {'변수설명' : '변수설명7'}, inplace = True)\n",
    "df8.rename(columns = {'변수설명' : '변수설명8'}, inplace = True)"
   ]
  },
  {
   "cell_type": "code",
   "execution_count": 105,
   "metadata": {},
   "outputs": [
    {
     "name": "stdout",
     "output_type": "stream",
     "text": [
      "751 751\n"
     ]
    }
   ],
   "source": [
    "# 뽑힌 7차 변수\n",
    "\n",
    "df7_2 = df7.iloc[list7]\n",
    "\n",
    "# 뽑힌 8차 변수\n",
    "\n",
    "df8_2 = df8.iloc[list8]\n",
    "\n",
    "print(len(df7_2), len(df8_2))"
   ]
  },
  {
   "cell_type": "code",
   "execution_count": 106,
   "metadata": {},
   "outputs": [],
   "source": [
    "# 같은 변수들만 merge한 데이터프레임 ( 751 row )\n",
    "\n",
    "merge_df = pd.merge(df7_2, df8_2)"
   ]
  },
  {
   "cell_type": "code",
   "execution_count": 107,
   "metadata": {},
   "outputs": [],
   "source": [
    "# 전체를 merge한 데이터프레임 ( 1603 row )\n",
    "\n",
    "m_df = pd.merge(df7, df8, how = 'outer')"
   ]
  },
  {
   "cell_type": "code",
   "execution_count": 108,
   "metadata": {},
   "outputs": [
    {
     "data": {
      "text/html": [
       "<div>\n",
       "<style scoped>\n",
       "    .dataframe tbody tr th:only-of-type {\n",
       "        vertical-align: middle;\n",
       "    }\n",
       "\n",
       "    .dataframe tbody tr th {\n",
       "        vertical-align: top;\n",
       "    }\n",
       "\n",
       "    .dataframe thead th {\n",
       "        text-align: right;\n",
       "    }\n",
       "</style>\n",
       "<table border=\"1\" class=\"dataframe\">\n",
       "  <thead>\n",
       "    <tr style=\"text-align: right;\">\n",
       "      <th></th>\n",
       "      <th>변수명</th>\n",
       "      <th>변수설명7</th>\n",
       "      <th>변수설명8</th>\n",
       "    </tr>\n",
       "  </thead>\n",
       "  <tbody>\n",
       "    <tr>\n",
       "      <th>0</th>\n",
       "      <td>MOD_D</td>\n",
       "      <td>최종 DB 수정일</td>\n",
       "      <td>최종 DB 수정일</td>\n",
       "    </tr>\n",
       "    <tr>\n",
       "      <th>1</th>\n",
       "      <td>ID</td>\n",
       "      <td>개인 아이디</td>\n",
       "      <td>개인 아이디</td>\n",
       "    </tr>\n",
       "    <tr>\n",
       "      <th>2</th>\n",
       "      <td>ID_FAM</td>\n",
       "      <td>가구 아이디</td>\n",
       "      <td>가구 아이디</td>\n",
       "    </tr>\n",
       "    <tr>\n",
       "      <th>3</th>\n",
       "      <td>YEAR</td>\n",
       "      <td>조사연도</td>\n",
       "      <td>조사연도</td>\n",
       "    </tr>\n",
       "    <tr>\n",
       "      <th>4</th>\n",
       "      <td>REGION</td>\n",
       "      <td>17개 시도</td>\n",
       "      <td>17개 시도</td>\n",
       "    </tr>\n",
       "    <tr>\n",
       "      <th>...</th>\n",
       "      <td>...</td>\n",
       "      <td>...</td>\n",
       "      <td>...</td>\n",
       "    </tr>\n",
       "    <tr>\n",
       "      <th>668</th>\n",
       "      <td>NF_INTK</td>\n",
       "      <td>식품섭취량</td>\n",
       "      <td>식품섭취량</td>\n",
       "    </tr>\n",
       "    <tr>\n",
       "      <th>669</th>\n",
       "      <td>NF_INTK3</td>\n",
       "      <td>3차 식품코드용 식품섭취량</td>\n",
       "      <td>3차 식품코드용 식품섭취량</td>\n",
       "    </tr>\n",
       "    <tr>\n",
       "      <th>748</th>\n",
       "      <td>LF_secur_y</td>\n",
       "      <td>식품안정성조사 여부</td>\n",
       "      <td>식품안정성조사 여부</td>\n",
       "    </tr>\n",
       "    <tr>\n",
       "      <th>749</th>\n",
       "      <td>LF_BUYER</td>\n",
       "      <td>응답자의 가구 내 식생활관리자 여부</td>\n",
       "      <td>응답자의 가구 내 식생활관리자 여부</td>\n",
       "    </tr>\n",
       "    <tr>\n",
       "      <th>750</th>\n",
       "      <td>LF_SAFE</td>\n",
       "      <td>식생활형편</td>\n",
       "      <td>식생활형편</td>\n",
       "    </tr>\n",
       "  </tbody>\n",
       "</table>\n",
       "<p>443 rows × 3 columns</p>\n",
       "</div>"
      ],
      "text/plain": [
       "            변수명                변수설명7                변수설명8\n",
       "0         MOD_D            최종 DB 수정일            최종 DB 수정일\n",
       "1            ID               개인 아이디               개인 아이디\n",
       "2        ID_FAM               가구 아이디               가구 아이디\n",
       "3          YEAR                 조사연도                 조사연도\n",
       "4        REGION               17개 시도               17개 시도\n",
       "..          ...                  ...                  ...\n",
       "668     NF_INTK                식품섭취량                식품섭취량\n",
       "669    NF_INTK3       3차 식품코드용 식품섭취량       3차 식품코드용 식품섭취량\n",
       "748  LF_secur_y           식품안정성조사 여부           식품안정성조사 여부\n",
       "749    LF_BUYER  응답자의 가구 내 식생활관리자 여부  응답자의 가구 내 식생활관리자 여부\n",
       "750     LF_SAFE                식생활형편                식생활형편\n",
       "\n",
       "[443 rows x 3 columns]"
      ]
     },
     "execution_count": 108,
     "metadata": {},
     "output_type": "execute_result"
    }
   ],
   "source": [
    "# merge_df ( 같은 변수들만 merge한 데이터프레임 751 row ) 에서 변수설명이 같은 것 ( 443 row )\n",
    "\n",
    "merge_df[merge_df.iloc[:,1] == merge_df.iloc[:,2]]"
   ]
  },
  {
   "cell_type": "code",
   "execution_count": 109,
   "metadata": {},
   "outputs": [
    {
     "data": {
      "text/html": [
       "<div>\n",
       "<style scoped>\n",
       "    .dataframe tbody tr th:only-of-type {\n",
       "        vertical-align: middle;\n",
       "    }\n",
       "\n",
       "    .dataframe tbody tr th {\n",
       "        vertical-align: top;\n",
       "    }\n",
       "\n",
       "    .dataframe thead th {\n",
       "        text-align: right;\n",
       "    }\n",
       "</style>\n",
       "<table border=\"1\" class=\"dataframe\">\n",
       "  <thead>\n",
       "    <tr style=\"text-align: right;\">\n",
       "      <th></th>\n",
       "      <th>변수명</th>\n",
       "      <th>변수설명7</th>\n",
       "      <th>변수설명8</th>\n",
       "    </tr>\n",
       "  </thead>\n",
       "  <tbody>\n",
       "    <tr>\n",
       "      <th>19</th>\n",
       "      <td>WT_OE</td>\n",
       "      <td>검진구강조사 가중치</td>\n",
       "      <td>구강검사 &amp; 영양조사 가중치</td>\n",
       "    </tr>\n",
       "    <tr>\n",
       "      <th>21</th>\n",
       "      <td>WT_EX1</td>\n",
       "      <td>안검사 가중치(만40세이상)</td>\n",
       "      <td>이비인후검사 가중치(만40세이상)</td>\n",
       "    </tr>\n",
       "    <tr>\n",
       "      <th>25</th>\n",
       "      <td>WT_EX1NT</td>\n",
       "      <td>안검사 &amp; 영양조사 가중치(만40세이상)</td>\n",
       "      <td>이비인후검사 &amp; 영양조사 가중치(만40세이상)</td>\n",
       "    </tr>\n",
       "    <tr>\n",
       "      <th>30</th>\n",
       "      <td>HOUSE</td>\n",
       "      <td>주택소유여부</td>\n",
       "      <td>주택소유여부</td>\n",
       "    </tr>\n",
       "    <tr>\n",
       "      <th>32</th>\n",
       "      <td>AINC_UNIT1</td>\n",
       "      <td>가구총소득(개방형) : 소득단위</td>\n",
       "      <td>가구총소득(개방형): 소득단위</td>\n",
       "    </tr>\n",
       "    <tr>\n",
       "      <th>...</th>\n",
       "      <td>...</td>\n",
       "      <td>...</td>\n",
       "      <td>...</td>\n",
       "    </tr>\n",
       "    <tr>\n",
       "      <th>743</th>\n",
       "      <td>N_B1</td>\n",
       "      <td>티아민</td>\n",
       "      <td>1일 티아민 섭취량(mg)</td>\n",
       "    </tr>\n",
       "    <tr>\n",
       "      <th>744</th>\n",
       "      <td>N_B2</td>\n",
       "      <td>리보플라빈</td>\n",
       "      <td>1일 리보플라빈 섭취량(mg)</td>\n",
       "    </tr>\n",
       "    <tr>\n",
       "      <th>745</th>\n",
       "      <td>N_NIAC</td>\n",
       "      <td>나이아신</td>\n",
       "      <td>1일 나이아신 섭취량(mg)</td>\n",
       "    </tr>\n",
       "    <tr>\n",
       "      <th>746</th>\n",
       "      <td>N_FOLATE</td>\n",
       "      <td>엽산</td>\n",
       "      <td>1일 엽산 섭취량(μgDFE)</td>\n",
       "    </tr>\n",
       "    <tr>\n",
       "      <th>747</th>\n",
       "      <td>N_VITC</td>\n",
       "      <td>비타민C</td>\n",
       "      <td>1일 비타민C 섭취량(mg)</td>\n",
       "    </tr>\n",
       "  </tbody>\n",
       "</table>\n",
       "<p>308 rows × 3 columns</p>\n",
       "</div>"
      ],
      "text/plain": [
       "            변수명                   변수설명7                      변수설명8\n",
       "19        WT_OE              검진구강조사 가중치            구강검사 & 영양조사 가중치\n",
       "21       WT_EX1         안검사 가중치(만40세이상)         이비인후검사 가중치(만40세이상)\n",
       "25     WT_EX1NT  안검사 & 영양조사 가중치(만40세이상)  이비인후검사 & 영양조사 가중치(만40세이상)\n",
       "30        HOUSE                 주택소유여부                      주택소유여부\n",
       "32   AINC_UNIT1       가구총소득(개방형) : 소득단위           가구총소득(개방형): 소득단위\n",
       "..          ...                     ...                        ...\n",
       "743        N_B1                     티아민             1일 티아민 섭취량(mg)\n",
       "744        N_B2                   리보플라빈           1일 리보플라빈 섭취량(mg)\n",
       "745      N_NIAC                    나이아신            1일 나이아신 섭취량(mg)\n",
       "746    N_FOLATE                      엽산           1일 엽산 섭취량(μgDFE)\n",
       "747      N_VITC                    비타민C            1일 비타민C 섭취량(mg)\n",
       "\n",
       "[308 rows x 3 columns]"
      ]
     },
     "execution_count": 109,
     "metadata": {},
     "output_type": "execute_result"
    }
   ],
   "source": [
    "# merge_df ( 같은 변수들만 merge한 데이터프레임 751 row )에서 변수설명이 다른 것 ( 308 row )\n",
    "\n",
    "merge_df[merge_df.iloc[:,1] != merge_df.iloc[:,2]]"
   ]
  },
  {
   "cell_type": "code",
   "execution_count": 110,
   "metadata": {},
   "outputs": [],
   "source": [
    "# 전체를 merge한 df에서 변수설명이 같은 변수들 뽑기\n",
    "\n",
    "same = m_df[m_df.iloc[:,1] == m_df.iloc[:,2]]\n",
    "#same.to_csv('data/same_code.csv')\n",
    "\n",
    "# 전체를 merge한 df에서 변수설명이 다른 변수들 뽑기\n",
    "\n",
    "dd = m_df[m_df.iloc[:,1] != m_df.iloc[:,2]]"
   ]
  },
  {
   "cell_type": "code",
   "execution_count": 111,
   "metadata": {},
   "outputs": [],
   "source": [
    "# dd ( 전체를 merge한 df에서 변수설명이 다른 것) 데이터프레임 중 나누기\n",
    "\n",
    "lis = [] # 변수설명이 같지만 미세하게 달라서 뽑힌 변수\n",
    "etc_lis = [] # 그 외 변수들 (아예 다른 변수)\n",
    "na_lis = [] # Na 포함된 변수\n",
    "for i in range(0, len(dd)) :\n",
    "    if dd.iloc[i].isnull().values.any() :\n",
    "        na_lis.append(i) \n",
    "    else :\n",
    "        if dd.iloc[i][1][0:2] in dd.iloc[i][2] or dd.iloc[i][2][0:2] in dd.iloc[i][1] :\n",
    "            lis.append(i)\n",
    "        else :\n",
    "            etc_lis.append(i) "
   ]
  },
  {
   "cell_type": "code",
   "execution_count": 112,
   "metadata": {},
   "outputs": [
    {
     "data": {
      "text/html": [
       "<div>\n",
       "<style scoped>\n",
       "    .dataframe tbody tr th:only-of-type {\n",
       "        vertical-align: middle;\n",
       "    }\n",
       "\n",
       "    .dataframe tbody tr th {\n",
       "        vertical-align: top;\n",
       "    }\n",
       "\n",
       "    .dataframe thead th {\n",
       "        text-align: right;\n",
       "    }\n",
       "</style>\n",
       "<table border=\"1\" class=\"dataframe\">\n",
       "  <thead>\n",
       "    <tr style=\"text-align: right;\">\n",
       "      <th></th>\n",
       "      <th>변수명</th>\n",
       "      <th>변수설명7</th>\n",
       "      <th>변수설명8</th>\n",
       "    </tr>\n",
       "  </thead>\n",
       "  <tbody>\n",
       "    <tr>\n",
       "      <th>23</th>\n",
       "      <td>WT_EX1</td>\n",
       "      <td>안검사 가중치(만40세이상)</td>\n",
       "      <td>이비인후검사 가중치(만40세이상)</td>\n",
       "    </tr>\n",
       "    <tr>\n",
       "      <th>34</th>\n",
       "      <td>WT_EX1NT</td>\n",
       "      <td>안검사 &amp; 영양조사 가중치(만40세이상)</td>\n",
       "      <td>이비인후검사 &amp; 영양조사 가중치(만40세이상)</td>\n",
       "    </tr>\n",
       "    <tr>\n",
       "      <th>197</th>\n",
       "      <td>DN1_DG</td>\n",
       "      <td>신부전 의사진단 여부</td>\n",
       "      <td>콩팥병(신장질환) 의사진단 여부</td>\n",
       "    </tr>\n",
       "    <tr>\n",
       "      <th>198</th>\n",
       "      <td>DN1_AG</td>\n",
       "      <td>신부전 진단시기</td>\n",
       "      <td>콩팥병(신장질환) 진단시기</td>\n",
       "    </tr>\n",
       "    <tr>\n",
       "      <th>199</th>\n",
       "      <td>DN1_PR</td>\n",
       "      <td>신부전 현재 유병 여부</td>\n",
       "      <td>콩팥병(신장질환) 현재 유병 여부</td>\n",
       "    </tr>\n",
       "    <tr>\n",
       "      <th>200</th>\n",
       "      <td>DN1_PT</td>\n",
       "      <td>신부전 치료</td>\n",
       "      <td>콩팥병(신장질환) 치료</td>\n",
       "    </tr>\n",
       "    <tr>\n",
       "      <th>544</th>\n",
       "      <td>BS12_1</td>\n",
       "      <td>(성인) 전자담배 평생사용여부</td>\n",
       "      <td>액상형 전자담배 평생사용여부</td>\n",
       "    </tr>\n",
       "    <tr>\n",
       "      <th>545</th>\n",
       "      <td>BS12_2</td>\n",
       "      <td>(성인) 전자담배 현재사용여부</td>\n",
       "      <td>액상형 전자담배 현재사용여부</td>\n",
       "    </tr>\n",
       "    <tr>\n",
       "      <th>551</th>\n",
       "      <td>BS12_37</td>\n",
       "      <td>(성인) 평생사용담배종류: 찐담배</td>\n",
       "      <td>궐련형 전자담배 평생사용여부</td>\n",
       "    </tr>\n",
       "    <tr>\n",
       "      <th>558</th>\n",
       "      <td>BS12_47</td>\n",
       "      <td>(성인) 현재사용담배종류: 찐담배</td>\n",
       "      <td>궐련형 전자담배 현재사용여부</td>\n",
       "    </tr>\n",
       "    <tr>\n",
       "      <th>809</th>\n",
       "      <td>T_NQ_OCP</td>\n",
       "      <td>작업장 내 소음노출 경험</td>\n",
       "      <td>직업적 소음노출</td>\n",
       "    </tr>\n",
       "  </tbody>\n",
       "</table>\n",
       "</div>"
      ],
      "text/plain": [
       "          변수명                   변수설명7                      변수설명8\n",
       "23     WT_EX1         안검사 가중치(만40세이상)         이비인후검사 가중치(만40세이상)\n",
       "34   WT_EX1NT  안검사 & 영양조사 가중치(만40세이상)  이비인후검사 & 영양조사 가중치(만40세이상)\n",
       "197    DN1_DG            신부전 의사진단 여부           콩팥병(신장질환) 의사진단 여부\n",
       "198    DN1_AG                신부전 진단시기             콩팥병(신장질환) 진단시기\n",
       "199    DN1_PR           신부전 현재 유병 여부          콩팥병(신장질환) 현재 유병 여부\n",
       "200    DN1_PT                 신부전 치료                콩팥병(신장질환) 치료\n",
       "544    BS12_1        (성인) 전자담배 평생사용여부            액상형 전자담배 평생사용여부\n",
       "545    BS12_2        (성인) 전자담배 현재사용여부            액상형 전자담배 현재사용여부\n",
       "551   BS12_37      (성인) 평생사용담배종류: 찐담배            궐련형 전자담배 평생사용여부\n",
       "558   BS12_47      (성인) 현재사용담배종류: 찐담배            궐련형 전자담배 현재사용여부\n",
       "809  T_NQ_OCP           작업장 내 소음노출 경험                   직업적 소음노출"
      ]
     },
     "execution_count": 112,
     "metadata": {},
     "output_type": "execute_result"
    }
   ],
   "source": [
    "# dd 중 변수설명이 같은 변수\n",
    "\n",
    "dd_same =  dd.iloc[lis]\n",
    "\n",
    "# Na값을 포함한 변수\n",
    "\n",
    "na_dd = dd.iloc[na_lis]\n",
    "\n",
    "# 그 외 변수\n",
    "\n",
    "dd.iloc[etc_lis]"
   ]
  },
  {
   "cell_type": "code",
   "execution_count": 113,
   "metadata": {},
   "outputs": [],
   "source": [
    "# 설명이 똑같은 것으로 판별된 변수들\n",
    "dd.iloc[etc_lis][2:]\n",
    "\n",
    "# 7차 8차 서로 다른 변수들 모음\n",
    "\n",
    "#dd.to_csv('data/dd.csv', encoding = 'cp949') # 전체를 merge한 df에서 설명이 다른 변수들 뽑은 것\n",
    "#na_dd.to_csv('data/dd_na.csv', encoding = 'cp949') # NA 존재 파일\n",
    "#dd.iloc[etc_lis].to_csv('data/dd_etc.csv', encoding = 'cp949') # 그 외 변수\n",
    "\n",
    "# 7차 8차 같은 변수들\n",
    "\n",
    "same2 = pd.concat([same, dd_same, dd.iloc[etc_lis][2:]]) \n",
    "#same2.to_csv('data/same_code.csv')"
   ]
  },
  {
   "cell_type": "code",
   "execution_count": 114,
   "metadata": {},
   "outputs": [],
   "source": [
    "# na_dd에서 설명이 같은 것 추출\n",
    "\n",
    "na_7 = na_dd[na_dd.iloc[:,2].isna()]\n",
    "na_8 = na_dd[na_dd.iloc[:,1].isna()]"
   ]
  },
  {
   "cell_type": "code",
   "execution_count": 119,
   "metadata": {},
   "outputs": [
    {
     "data": {
      "text/html": [
       "<div>\n",
       "<style scoped>\n",
       "    .dataframe tbody tr th:only-of-type {\n",
       "        vertical-align: middle;\n",
       "    }\n",
       "\n",
       "    .dataframe tbody tr th {\n",
       "        vertical-align: top;\n",
       "    }\n",
       "\n",
       "    .dataframe thead th {\n",
       "        text-align: right;\n",
       "    }\n",
       "</style>\n",
       "<table border=\"1\" class=\"dataframe\">\n",
       "  <thead>\n",
       "    <tr style=\"text-align: right;\">\n",
       "      <th></th>\n",
       "      <th>변수명</th>\n",
       "      <th>변수설명7</th>\n",
       "      <th>변수설명8</th>\n",
       "    </tr>\n",
       "  </thead>\n",
       "  <tbody>\n",
       "    <tr>\n",
       "      <th>20</th>\n",
       "      <td>WT_HM</td>\n",
       "      <td>중금속검사 가중치(만10세이상)</td>\n",
       "      <td>NaN</td>\n",
       "    </tr>\n",
       "    <tr>\n",
       "      <th>21</th>\n",
       "      <td>WT_VT</td>\n",
       "      <td>비타민검사 가중치(만10세이상)</td>\n",
       "      <td>NaN</td>\n",
       "    </tr>\n",
       "    <tr>\n",
       "      <th>22</th>\n",
       "      <td>WT_NN</td>\n",
       "      <td>NNAL검사 가중치(만6세이상)</td>\n",
       "      <td>NaN</td>\n",
       "    </tr>\n",
       "    <tr>\n",
       "      <th>26</th>\n",
       "      <td>WT_PFHM</td>\n",
       "      <td>폐기능검사 &amp; 중금속검사 가중치(만40세이상)</td>\n",
       "      <td>NaN</td>\n",
       "    </tr>\n",
       "    <tr>\n",
       "      <th>27</th>\n",
       "      <td>WT_PFVT</td>\n",
       "      <td>폐기능검사 &amp; 비타민검사 가중치(만40세이상)</td>\n",
       "      <td>NaN</td>\n",
       "    </tr>\n",
       "    <tr>\n",
       "      <th>...</th>\n",
       "      <td>...</td>\n",
       "      <td>...</td>\n",
       "      <td>...</td>\n",
       "    </tr>\n",
       "    <tr>\n",
       "      <th>1444</th>\n",
       "      <td>HEI_NA</td>\n",
       "      <td>나트륨 섭취</td>\n",
       "      <td>NaN</td>\n",
       "    </tr>\n",
       "    <tr>\n",
       "      <th>1445</th>\n",
       "      <td>HEI_SWEET</td>\n",
       "      <td>당류, 음료류의 에너지섭취비율</td>\n",
       "      <td>NaN</td>\n",
       "    </tr>\n",
       "    <tr>\n",
       "      <th>1446</th>\n",
       "      <td>HEI_CHO</td>\n",
       "      <td>탄수화물 에너지섭취비율</td>\n",
       "      <td>NaN</td>\n",
       "    </tr>\n",
       "    <tr>\n",
       "      <th>1447</th>\n",
       "      <td>HEI_FAT</td>\n",
       "      <td>지방 에너지섭취비율</td>\n",
       "      <td>NaN</td>\n",
       "    </tr>\n",
       "    <tr>\n",
       "      <th>1448</th>\n",
       "      <td>HEI_EN</td>\n",
       "      <td>에너지 섭취</td>\n",
       "      <td>NaN</td>\n",
       "    </tr>\n",
       "  </tbody>\n",
       "</table>\n",
       "<p>698 rows × 3 columns</p>\n",
       "</div>"
      ],
      "text/plain": [
       "            변수명                      변수설명7 변수설명8\n",
       "20        WT_HM          중금속검사 가중치(만10세이상)   NaN\n",
       "21        WT_VT          비타민검사 가중치(만10세이상)   NaN\n",
       "22        WT_NN          NNAL검사 가중치(만6세이상)   NaN\n",
       "26      WT_PFHM  폐기능검사 & 중금속검사 가중치(만40세이상)   NaN\n",
       "27      WT_PFVT  폐기능검사 & 비타민검사 가중치(만40세이상)   NaN\n",
       "...         ...                        ...   ...\n",
       "1444     HEI_NA                     나트륨 섭취   NaN\n",
       "1445  HEI_SWEET           당류, 음료류의 에너지섭취비율   NaN\n",
       "1446    HEI_CHO               탄수화물 에너지섭취비율   NaN\n",
       "1447    HEI_FAT                 지방 에너지섭취비율   NaN\n",
       "1448     HEI_EN                     에너지 섭취   NaN\n",
       "\n",
       "[698 rows x 3 columns]"
      ]
     },
     "execution_count": 119,
     "metadata": {},
     "output_type": "execute_result"
    }
   ],
   "source": [
    "na_7"
   ]
  },
  {
   "cell_type": "code",
   "execution_count": 120,
   "metadata": {},
   "outputs": [],
   "source": [
    "# dd 데이터프레임 중 나누어주기\n",
    "\n",
    "lis_7 = [] # 변수설명이 같지만 미세하게 달라서 뽑힌 변수들\n",
    "lis_8 = []\n",
    "etc_lis_7 = [] # 그 외 변수들 (아예 다른 변수)\n",
    "etc_lis_8 = [] \n",
    "erro_7 = []\n",
    "erro_8 = []\n",
    "for i in range(0, len(na_7)) :\n",
    "    for j in range(0, len(na_8)) :\n",
    "        try :\n",
    "            if na_7.iloc[i][1][0:10] in na_8.iloc[j][2] or na_8.iloc[j][2][0:10] in na_7.iloc[i][1] :\n",
    "                lis_7.append(i) \n",
    "                #print(na_7.iloc[i][1])\n",
    "                lis_8.append(j)\n",
    "                #print(na_8.iloc[j][2])\n",
    "            else :\n",
    "                etc_lis_7.append(i)\n",
    "                etc_lis_8.append(j)\n",
    "        except :\n",
    "            erro_7.append(i)\n",
    "            erro_8.append(j)  "
   ]
  },
  {
   "cell_type": "code",
   "execution_count": 121,
   "metadata": {},
   "outputs": [
    {
     "name": "stdout",
     "output_type": "stream",
     "text": [
      "11 3\n"
     ]
    }
   ],
   "source": [
    "# lis_7, lis_8 중복되지 않는 것\n",
    "\n",
    "print(len(set(lis_7)), len(set(lis_8)))"
   ]
  },
  {
   "cell_type": "code",
   "execution_count": 122,
   "metadata": {},
   "outputs": [
    {
     "name": "stdout",
     "output_type": "stream",
     "text": [
      "[32, 19, 20]\n",
      "[167, 147, 148, 149, 150, 151, 152, 153, 154, 155, 156]\n"
     ]
    }
   ],
   "source": [
    "# 리스트 a, b에 넣기\n",
    "\n",
    "a = list(set(lis_8))\n",
    "b = list(set(lis_7))\n",
    "\n",
    "print(a)\n",
    "print(b)"
   ]
  },
  {
   "cell_type": "code",
   "execution_count": 124,
   "metadata": {},
   "outputs": [
    {
     "data": {
      "text/html": [
       "<div>\n",
       "<style scoped>\n",
       "    .dataframe tbody tr th:only-of-type {\n",
       "        vertical-align: middle;\n",
       "    }\n",
       "\n",
       "    .dataframe tbody tr th {\n",
       "        vertical-align: top;\n",
       "    }\n",
       "\n",
       "    .dataframe thead th {\n",
       "        text-align: right;\n",
       "    }\n",
       "</style>\n",
       "<table border=\"1\" class=\"dataframe\">\n",
       "  <thead>\n",
       "    <tr style=\"text-align: right;\">\n",
       "      <th></th>\n",
       "      <th>변수명</th>\n",
       "      <th>변수설명7</th>\n",
       "      <th>변수설명8</th>\n",
       "    </tr>\n",
       "  </thead>\n",
       "  <tbody>\n",
       "    <tr>\n",
       "      <th>662</th>\n",
       "      <td>HE_DM</td>\n",
       "      <td>당뇨병 유병여부(19세이상)</td>\n",
       "      <td>NaN</td>\n",
       "    </tr>\n",
       "    <tr>\n",
       "      <th>485</th>\n",
       "      <td>BP16_11</td>\n",
       "      <td>(만12세이상) 주중 잠자리에 든 시각_시</td>\n",
       "      <td>NaN</td>\n",
       "    </tr>\n",
       "    <tr>\n",
       "      <th>486</th>\n",
       "      <td>BP16_12</td>\n",
       "      <td>(만12세이상) 주중 잠자리에 든 시각_분</td>\n",
       "      <td>NaN</td>\n",
       "    </tr>\n",
       "    <tr>\n",
       "      <th>487</th>\n",
       "      <td>BP16_13</td>\n",
       "      <td>(만12세이상) 주중 일어난 시각_시</td>\n",
       "      <td>NaN</td>\n",
       "    </tr>\n",
       "    <tr>\n",
       "      <th>488</th>\n",
       "      <td>BP16_14</td>\n",
       "      <td>(만12세이상) 주중 일어난 시각_분</td>\n",
       "      <td>NaN</td>\n",
       "    </tr>\n",
       "    <tr>\n",
       "      <th>489</th>\n",
       "      <td>BP16_21</td>\n",
       "      <td>(만12세이상) 주말 잠자리에 든 시각_시</td>\n",
       "      <td>NaN</td>\n",
       "    </tr>\n",
       "    <tr>\n",
       "      <th>490</th>\n",
       "      <td>BP16_22</td>\n",
       "      <td>(만12세이상) 주말 잠자리에 든 시각_분</td>\n",
       "      <td>NaN</td>\n",
       "    </tr>\n",
       "    <tr>\n",
       "      <th>491</th>\n",
       "      <td>BP16_23</td>\n",
       "      <td>(만12세이상) 주말 일어난 시각_시</td>\n",
       "      <td>NaN</td>\n",
       "    </tr>\n",
       "    <tr>\n",
       "      <th>492</th>\n",
       "      <td>BP16_24</td>\n",
       "      <td>(만12세이상) 주말 일어난 시각_분</td>\n",
       "      <td>NaN</td>\n",
       "    </tr>\n",
       "    <tr>\n",
       "      <th>493</th>\n",
       "      <td>TOTAL_SLP_WK</td>\n",
       "      <td>(만12세이상) 주중 하루 평균 수면시간</td>\n",
       "      <td>NaN</td>\n",
       "    </tr>\n",
       "    <tr>\n",
       "      <th>494</th>\n",
       "      <td>TOTAL_SLP_WD</td>\n",
       "      <td>(만12세이상) 주말 하루 평균 수면시간</td>\n",
       "      <td>NaN</td>\n",
       "    </tr>\n",
       "  </tbody>\n",
       "</table>\n",
       "</div>"
      ],
      "text/plain": [
       "              변수명                    변수설명7 변수설명8\n",
       "662         HE_DM          당뇨병 유병여부(19세이상)   NaN\n",
       "485       BP16_11  (만12세이상) 주중 잠자리에 든 시각_시   NaN\n",
       "486       BP16_12  (만12세이상) 주중 잠자리에 든 시각_분   NaN\n",
       "487       BP16_13     (만12세이상) 주중 일어난 시각_시   NaN\n",
       "488       BP16_14     (만12세이상) 주중 일어난 시각_분   NaN\n",
       "489       BP16_21  (만12세이상) 주말 잠자리에 든 시각_시   NaN\n",
       "490       BP16_22  (만12세이상) 주말 잠자리에 든 시각_분   NaN\n",
       "491       BP16_23     (만12세이상) 주말 일어난 시각_시   NaN\n",
       "492       BP16_24     (만12세이상) 주말 일어난 시각_분   NaN\n",
       "493  TOTAL_SLP_WK   (만12세이상) 주중 하루 평균 수면시간   NaN\n",
       "494  TOTAL_SLP_WD   (만12세이상) 주말 하루 평균 수면시간   NaN"
      ]
     },
     "execution_count": 124,
     "metadata": {},
     "output_type": "execute_result"
    }
   ],
   "source": [
    "na_7.iloc[b] ###"
   ]
  },
  {
   "cell_type": "code",
   "execution_count": null,
   "metadata": {},
   "outputs": [],
   "source": []
  },
  {
   "cell_type": "code",
   "execution_count": null,
   "metadata": {},
   "outputs": [],
   "source": [
    "# 7차와 유사한 변수 설명을 갖고 있는 데이터 \n",
    "na_8.iloc[a]"
   ]
  },
  {
   "cell_type": "code",
   "execution_count": null,
   "metadata": {},
   "outputs": [],
   "source": [
    "# 8차와 유사한 변수 설명을 갖고 있는 데이터\n",
    "na_7.iloc[b]"
   ]
  },
  {
   "cell_type": "code",
   "execution_count": 125,
   "metadata": {},
   "outputs": [
    {
     "data": {
      "text/plain": [
       "[167, 155, 156]"
      ]
     },
     "execution_count": 125,
     "metadata": {},
     "output_type": "execute_result"
    }
   ],
   "source": [
    "# 8차에 있는 컬럼설명을 갖고 있는 7차 변수들 index\n",
    "\n",
    "b7 = []\n",
    "c = [0, 9, 10] # 해당 변수 자리 번호\n",
    "\n",
    "for i in range(0, len(c)) :\n",
    "    b7.append(b[c[i]])\n",
    "\n",
    "b7"
   ]
  },
  {
   "cell_type": "code",
   "execution_count": 126,
   "metadata": {},
   "outputs": [
    {
     "data": {
      "text/html": [
       "<div>\n",
       "<style scoped>\n",
       "    .dataframe tbody tr th:only-of-type {\n",
       "        vertical-align: middle;\n",
       "    }\n",
       "\n",
       "    .dataframe tbody tr th {\n",
       "        vertical-align: top;\n",
       "    }\n",
       "\n",
       "    .dataframe thead th {\n",
       "        text-align: right;\n",
       "    }\n",
       "</style>\n",
       "<table border=\"1\" class=\"dataframe\">\n",
       "  <thead>\n",
       "    <tr style=\"text-align: right;\">\n",
       "      <th></th>\n",
       "      <th>변수명</th>\n",
       "      <th>변수설명7</th>\n",
       "      <th>변수설명8</th>\n",
       "    </tr>\n",
       "  </thead>\n",
       "  <tbody>\n",
       "    <tr>\n",
       "      <th>662</th>\n",
       "      <td>HE_DM</td>\n",
       "      <td>당뇨병 유병여부(19세이상)</td>\n",
       "      <td>NaN</td>\n",
       "    </tr>\n",
       "    <tr>\n",
       "      <th>493</th>\n",
       "      <td>TOTAL_SLP_WK</td>\n",
       "      <td>(만12세이상) 주중 하루 평균 수면시간</td>\n",
       "      <td>NaN</td>\n",
       "    </tr>\n",
       "    <tr>\n",
       "      <th>494</th>\n",
       "      <td>TOTAL_SLP_WD</td>\n",
       "      <td>(만12세이상) 주말 하루 평균 수면시간</td>\n",
       "      <td>NaN</td>\n",
       "    </tr>\n",
       "  </tbody>\n",
       "</table>\n",
       "</div>"
      ],
      "text/plain": [
       "              변수명                   변수설명7 변수설명8\n",
       "662         HE_DM         당뇨병 유병여부(19세이상)   NaN\n",
       "493  TOTAL_SLP_WK  (만12세이상) 주중 하루 평균 수면시간   NaN\n",
       "494  TOTAL_SLP_WD  (만12세이상) 주말 하루 평균 수면시간   NaN"
      ]
     },
     "execution_count": 126,
     "metadata": {},
     "output_type": "execute_result"
    }
   ],
   "source": [
    "ch7 = na_7.iloc[b7]\n",
    "ch7"
   ]
  },
  {
   "cell_type": "code",
   "execution_count": 127,
   "metadata": {},
   "outputs": [
    {
     "data": {
      "text/html": [
       "<div>\n",
       "<style scoped>\n",
       "    .dataframe tbody tr th:only-of-type {\n",
       "        vertical-align: middle;\n",
       "    }\n",
       "\n",
       "    .dataframe tbody tr th {\n",
       "        vertical-align: top;\n",
       "    }\n",
       "\n",
       "    .dataframe thead th {\n",
       "        text-align: right;\n",
       "    }\n",
       "</style>\n",
       "<table border=\"1\" class=\"dataframe\">\n",
       "  <thead>\n",
       "    <tr style=\"text-align: right;\">\n",
       "      <th></th>\n",
       "      <th>변수명</th>\n",
       "      <th>변수설명7</th>\n",
       "      <th>변수설명8</th>\n",
       "    </tr>\n",
       "  </thead>\n",
       "  <tbody>\n",
       "    <tr>\n",
       "      <th>1481</th>\n",
       "      <td>HE_DM_HBA1C</td>\n",
       "      <td>NaN</td>\n",
       "      <td>당뇨병 유병여부(19세이상)</td>\n",
       "    </tr>\n",
       "    <tr>\n",
       "      <th>1468</th>\n",
       "      <td>BP16_1</td>\n",
       "      <td>NaN</td>\n",
       "      <td>(만12세이상) 주중(또는 일하는 날) 하루 평균 수면 시간</td>\n",
       "    </tr>\n",
       "    <tr>\n",
       "      <th>1469</th>\n",
       "      <td>BP16_2</td>\n",
       "      <td>NaN</td>\n",
       "      <td>(만12세이상) 주말(또는 일하지 않는 날, 일하지 않는 전날) 하루 평균 수면 시간</td>\n",
       "    </tr>\n",
       "  </tbody>\n",
       "</table>\n",
       "</div>"
      ],
      "text/plain": [
       "              변수명 변수설명7                                            변수설명8\n",
       "1481  HE_DM_HBA1C   NaN                                  당뇨병 유병여부(19세이상)\n",
       "1468       BP16_1   NaN                (만12세이상) 주중(또는 일하는 날) 하루 평균 수면 시간\n",
       "1469       BP16_2   NaN  (만12세이상) 주말(또는 일하지 않는 날, 일하지 않는 전날) 하루 평균 수면 시간"
      ]
     },
     "execution_count": 127,
     "metadata": {},
     "output_type": "execute_result"
    }
   ],
   "source": [
    "na_8.iloc[a]"
   ]
  },
  {
   "cell_type": "code",
   "execution_count": 128,
   "metadata": {},
   "outputs": [
    {
     "data": {
      "text/html": [
       "<div>\n",
       "<style scoped>\n",
       "    .dataframe tbody tr th:only-of-type {\n",
       "        vertical-align: middle;\n",
       "    }\n",
       "\n",
       "    .dataframe tbody tr th {\n",
       "        vertical-align: top;\n",
       "    }\n",
       "\n",
       "    .dataframe thead th {\n",
       "        text-align: right;\n",
       "    }\n",
       "</style>\n",
       "<table border=\"1\" class=\"dataframe\">\n",
       "  <thead>\n",
       "    <tr style=\"text-align: right;\">\n",
       "      <th></th>\n",
       "      <th>변수명</th>\n",
       "      <th>변수설명7</th>\n",
       "      <th>변수설명8</th>\n",
       "    </tr>\n",
       "  </thead>\n",
       "  <tbody>\n",
       "    <tr>\n",
       "      <th>1481</th>\n",
       "      <td>HE_DM_HBA1C</td>\n",
       "      <td>NaN</td>\n",
       "      <td>당뇨병 유병여부(19세이상)</td>\n",
       "    </tr>\n",
       "    <tr>\n",
       "      <th>1468</th>\n",
       "      <td>BP16_1</td>\n",
       "      <td>NaN</td>\n",
       "      <td>(만12세이상) 주중(또는 일하는 날) 하루 평균 수면 시간</td>\n",
       "    </tr>\n",
       "    <tr>\n",
       "      <th>1469</th>\n",
       "      <td>BP16_2</td>\n",
       "      <td>NaN</td>\n",
       "      <td>(만12세이상) 주말(또는 일하지 않는 날, 일하지 않는 전날) 하루 평균 수면 시간</td>\n",
       "    </tr>\n",
       "  </tbody>\n",
       "</table>\n",
       "</div>"
      ],
      "text/plain": [
       "              변수명 변수설명7                                            변수설명8\n",
       "1481  HE_DM_HBA1C   NaN                                  당뇨병 유병여부(19세이상)\n",
       "1468       BP16_1   NaN                (만12세이상) 주중(또는 일하는 날) 하루 평균 수면 시간\n",
       "1469       BP16_2   NaN  (만12세이상) 주말(또는 일하지 않는 날, 일하지 않는 전날) 하루 평균 수면 시간"
      ]
     },
     "execution_count": 128,
     "metadata": {},
     "output_type": "execute_result"
    }
   ],
   "source": [
    "ch8 = na_8.iloc[a]\n",
    "ch8"
   ]
  },
  {
   "cell_type": "code",
   "execution_count": null,
   "metadata": {},
   "outputs": [],
   "source": [
    "'''\n",
    "8차 HE_DM_HbA1c -> HE_DM 당뇨병 유병여부\n",
    "8차 BP16_1 -> Total_slp_wk\t(만12세이상) 주중 하루 평균 수면시간\n",
    "8차 BP16_2 -> Total_slp_wd\t(만12세이상) 주말 하루 평균 수면시간\n",
    "'''"
   ]
  },
  {
   "cell_type": "code",
   "execution_count": null,
   "metadata": {},
   "outputs": [],
   "source": [
    "ch8.rename(columns = {'변수명' : '변수명8'}, inplace = True)\n",
    "ch8"
   ]
  },
  {
   "cell_type": "code",
   "execution_count": null,
   "metadata": {},
   "outputs": [],
   "source": [
    "ch8['변수명'] = ['HE_DM', 'TOTAL_SLP_WK', 'TOTAL_SLP_WD']\n",
    "ch8"
   ]
  },
  {
   "cell_type": "code",
   "execution_count": null,
   "metadata": {},
   "outputs": [],
   "source": [
    "ch = ch7.loc[ : , ['변수명', '변수설명7']].merge(ch8.loc[ : , ['변수명8','변수명']], how = 'left')\n",
    "ch.rename(columns = {'변수설명7' : '변수설명'}, inplace = True)\n",
    "ch"
   ]
  },
  {
   "cell_type": "code",
   "execution_count": null,
   "metadata": {},
   "outputs": [],
   "source": [
    "ch2 = ch7.loc[ : , ['변수명','변수설명7']].merge(ch8.loc[ : , ['변수명8','변수설명8','변수명']], how = 'left')\n",
    "ch2"
   ]
  },
  {
   "cell_type": "code",
   "execution_count": null,
   "metadata": {},
   "outputs": [],
   "source": [
    "same3 = pd.concat([same2, ch2.loc[ : , ['변수명', '변수설명7', '변수설명8']]])"
   ]
  },
  {
   "cell_type": "code",
   "execution_count": 97,
   "metadata": {},
   "outputs": [],
   "source": [
    "# 인덱스 초기화\n",
    "\n",
    "same3.reset_index(inplace=True)\n",
    "same3 = same3.iloc[:,1:]"
   ]
  },
  {
   "cell_type": "code",
   "execution_count": 135,
   "metadata": {},
   "outputs": [],
   "source": [
    "# csv 파일로 저장 \n",
    "\n",
    "same3.to_csv('data/same.csv', encoding = 'euc-kr')"
   ]
  }
 ],
 "metadata": {
  "interpreter": {
   "hash": "e4cce46d6be9934fbd27f9ca0432556941ea5bdf741d4f4d64c6cd7f8dfa8fba"
  },
  "kernelspec": {
   "display_name": "Python 3.9.7 ('base')",
   "language": "python",
   "name": "python3"
  },
  "language_info": {
   "codemirror_mode": {
    "name": "ipython",
    "version": 3
   },
   "file_extension": ".py",
   "mimetype": "text/x-python",
   "name": "python",
   "nbconvert_exporter": "python",
   "pygments_lexer": "ipython3",
   "version": "3.9.7"
  },
  "orig_nbformat": 4
 },
 "nbformat": 4,
 "nbformat_minor": 2
}
