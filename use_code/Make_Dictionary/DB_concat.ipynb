{
 "cells": [
  {
   "cell_type": "markdown",
   "metadata": {},
   "source": [
    "### DB CONCAT"
   ]
  },
  {
   "cell_type": "code",
   "execution_count": 1,
   "metadata": {},
   "outputs": [],
   "source": [
    "import pandas as pd\n",
    "\n",
    "# 기본DB_7 / 식품_7차\n",
    "\n",
    "기본7 = pd.read_csv('data/기본DB_7.csv', encoding = 'euc-kr', index_col = 0)\n",
    "식품7 = pd.read_csv('data/식품_7차.csv', encoding = 'euc-kr', index_col = 0)\n",
    "\n",
    "# 기본DB_8 / 식품_8차\n",
    "\n",
    "기본8 = pd.read_csv('data/기본DB_8.csv', encoding = 'euc-kr', index_col = 0)\n",
    "식품8 = pd.read_csv('data/식품_8차.csv', encoding = 'euc-kr', index_col = 0)\n"
   ]
  },
  {
   "cell_type": "code",
   "execution_count": 6,
   "metadata": {},
   "outputs": [],
   "source": [
    "# 7차 / 8차 concat\n",
    "\n",
    "concat7 = pd.concat([기본7, 식품7])\n",
    "concat8 = pd.concat([기본8, 식품8])"
   ]
  },
  {
   "cell_type": "code",
   "execution_count": 10,
   "metadata": {},
   "outputs": [],
   "source": [
    "# csv 파일로 저장\n",
    "\n",
    "concat7.to_csv('data/concat7.csv')\n",
    "concat8.to_csv('data/concat8.csv')"
   ]
  }
 ],
 "metadata": {
  "interpreter": {
   "hash": "e4cce46d6be9934fbd27f9ca0432556941ea5bdf741d4f4d64c6cd7f8dfa8fba"
  },
  "kernelspec": {
   "display_name": "Python 3.9.7 ('base')",
   "language": "python",
   "name": "python3"
  },
  "language_info": {
   "codemirror_mode": {
    "name": "ipython",
    "version": 3
   },
   "file_extension": ".py",
   "mimetype": "text/x-python",
   "name": "python",
   "nbconvert_exporter": "python",
   "pygments_lexer": "ipython3",
   "version": "3.9.7"
  },
  "orig_nbformat": 4
 },
 "nbformat": 4,
 "nbformat_minor": 2
}
