{
 "cells": [
  {
   "cell_type": "markdown",
   "metadata": {},
   "source": [
    "### 기본 DB"
   ]
  },
  {
   "cell_type": "code",
   "execution_count": 4,
   "metadata": {},
   "outputs": [],
   "source": [
    "import pandas as pd\n",
    "\n",
    "# 7차 변수 데이터 파일 불러오기 \n",
    " \n",
    "ns7 = pd.read_csv('C:/sas_view/code/ns7_code_2.csv',encoding='euc-kr',index_col = 0)\n",
    "s7 = pd.read_csv('C:/sas_view/use_code/Make_Dictionary/rc7.csv',encoding='euc-kr',index_col = 0)\n",
    "\n",
    "# 8차 변수 데이터 파일 불러오기\n",
    "\n",
    "ns8 = pd.read_csv('C:/sas_view/code/ns8_code.csv',encoding='euc-kr',index_col = 0)\n",
    "s8 = pd.read_csv('C:/sas_view/use_code/Make_Dictionary/rc8.csv',encoding='euc-kr',index_col = 0)"
   ]
  },
  {
   "cell_type": "code",
   "execution_count": 5,
   "metadata": {},
   "outputs": [],
   "source": [
    "# 7차 / 8차 각각 2개의 데이터프레임 concat\n",
    " \n",
    "df7 = pd.concat([ns7,s7])\n",
    "df8 = pd.concat([ns8,s8])"
   ]
  },
  {
   "cell_type": "code",
   "execution_count": 10,
   "metadata": {},
   "outputs": [],
   "source": [
    "# for문을 사용하여 변수명 대문자로 변환\n",
    "\n",
    "# 7차\n",
    "upper_7 = []\n",
    "for i in df7.loc[ : , '변수명'] :\n",
    "    upper_7.append(i.upper())\n",
    "\n",
    "df7['변수명'] = upper_7\n",
    "\n",
    "# 8차\n",
    "upper_8 = []\n",
    "for i in df8.loc[ : , '변수명'] :\n",
    "    upper_8.append(i.upper())    \n",
    "\n",
    "df8['변수명'] = upper_8\n"
   ]
  },
  {
   "cell_type": "code",
   "execution_count": 15,
   "metadata": {},
   "outputs": [],
   "source": [
    "# 데이터 프레임 csv 파일로 저장\n",
    "\n",
    "df7.to_csv('ns7.csv')\n",
    "df8.to_csv('ns8.csv')"
   ]
  }
 ],
 "metadata": {
  "interpreter": {
   "hash": "e4cce46d6be9934fbd27f9ca0432556941ea5bdf741d4f4d64c6cd7f8dfa8fba"
  },
  "kernelspec": {
   "display_name": "Python 3.9.7 ('base')",
   "language": "python",
   "name": "python3"
  },
  "language_info": {
   "codemirror_mode": {
    "name": "ipython",
    "version": 3
   },
   "file_extension": ".py",
   "mimetype": "text/x-python",
   "name": "python",
   "nbconvert_exporter": "python",
   "pygments_lexer": "ipython3",
   "version": "3.9.7"
  },
  "orig_nbformat": 4
 },
 "nbformat": 4,
 "nbformat_minor": 2
}
