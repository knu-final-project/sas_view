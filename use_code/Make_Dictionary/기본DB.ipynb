{
 "cells": [
  {
   "cell_type": "markdown",
   "metadata": {},
   "source": [
    "### 기본 DB"
   ]
  },
  {
   "cell_type": "code",
   "execution_count": 49,
   "metadata": {},
   "outputs": [],
   "source": [
    "# 기본DB 7차 / 8차\n",
    "\n",
    "import pandas as pd\n",
    "import olefile\n",
    "import zlib\n",
    "import struct\n",
    "\n",
    "# ns_7\n",
    "\n",
    "def get_hwp_text(filename) :\n",
    "    f = olefile.OleFileIO(filename)\n",
    "    dirs = f.listdir()\n",
    "\n",
    "    # HWP 파일 검증\n",
    "    if [\"FileHeader\"] not in dirs or \\\n",
    "       [\"\\x05HwpSummaryInformation\"] not in dirs :\n",
    "        raise Exception(\"Not Valid HWP.\")\n",
    "\n",
    "    # 문서 포맷 압축 여부 확인\n",
    "    header = f.openstream(\"FileHeader\")\n",
    "    header_data = header.read()\n",
    "    is_compressed = (header_data[36] & 1) == 1\n",
    "\n",
    "    # Body Sections 불러오기\n",
    "    nums = []\n",
    "    for d in dirs :\n",
    "        if d[0] == \"BodyText\" :\n",
    "            nums.append(int(d[1][len(\"Section\"):]))\n",
    "    sections = [\"BodyText/Section\" + str(x) for x in sorted(nums)]\n",
    "\n",
    "    # 전체 text 추출\n",
    "    text = \"\"\n",
    "    for section in sections :\n",
    "        bodytext = f.openstream(section)\n",
    "        data = bodytext.read()\n",
    "        if is_compressed :\n",
    "            unpacked_data = zlib.decompress(data, -15)\n",
    "        else:\n",
    "            unpacked_data = data\n",
    "    \n",
    "        # 각 Section 내 text 추출    \n",
    "        section_text = \"\"\n",
    "        i = 0\n",
    "        size = len(unpacked_data)\n",
    "        while i < size :\n",
    "            header = struct.unpack_from(\"<I\", unpacked_data, i)[0]\n",
    "            rec_type = header & 0x3ff\n",
    "            rec_len = (header >> 20) & 0xfff\n",
    "\n",
    "            if rec_type in [67] and header != 304088131 and header != 18879555 and  header != 18875459 and  header != 35652675 and  header != 23069763 and  header != 52429891 and  header != 20972611 :\n",
    "                rec_data = unpacked_data[i + 4 : i + 4 + rec_len]\n",
    "                print(header)\n",
    "                print(rec_data.decode('UTF-16'))\n",
    "                section_text += rec_data.decode('UTF-16')\n",
    "                section_text += \"\\n\"\n",
    "\n",
    "            i += 4 + rec_len\n",
    "        \n",
    "        text += section_text\n",
    "        text += \"\\n\"\n",
    "\n",
    "    return text"
   ]
  },
  {
   "cell_type": "code",
   "execution_count": 50,
   "metadata": {},
   "outputs": [],
   "source": [
    "# ns_8\n",
    "\n",
    "def get_hwp_text2(filename) :\n",
    "    f = olefile.OleFileIO(filename)\n",
    "    dirs = f.listdir()\n",
    "\n",
    "    # HWP 파일 검증\n",
    "    if [\"FileHeader\"] not in dirs or \\\n",
    "       [\"\\x05HwpSummaryInformation\"] not in dirs :\n",
    "        raise Exception(\"Not Valid HWP.\")\n",
    "\n",
    "    # 문서 포맷 압축 여부 확인\n",
    "    header = f.openstream(\"FileHeader\")\n",
    "    header_data = header.read()\n",
    "    is_compressed = (header_data[36] & 1) == 1\n",
    "\n",
    "    # Body Sections 불러오기\n",
    "    nums = []\n",
    "    for d in dirs :\n",
    "        if d[0] == \"BodyText\" :\n",
    "            nums.append(int(d[1][len(\"Section\"):]))\n",
    "    sections = [\"BodyText/Section\" + str(x) for x in sorted(nums)]\n",
    "\n",
    "    # 전체 text 추출\n",
    "    text = \"\"\n",
    "    for section in sections :\n",
    "        bodytext = f.openstream(section)\n",
    "        data = bodytext.read()\n",
    "        if is_compressed :\n",
    "            unpacked_data = zlib.decompress(data, -15)\n",
    "        else:\n",
    "            unpacked_data = data\n",
    "    \n",
    "        # 각 Section 내 text 추출    \n",
    "        section_text = \"\"\n",
    "        i = 0\n",
    "        size = len(unpacked_data)\n",
    "        while i < size :\n",
    "            header = struct.unpack_from(\"<I\", unpacked_data, i)[0]\n",
    "            rec_type = header & 0x3ff\n",
    "            rec_len = (header >> 20) & 0xfff\n",
    "\n",
    "            if rec_type in [67] and header != 69207107 and header != 18875459 and header != 35652675 :\n",
    "                rec_data = unpacked_data[i + 4 : i + 4 + rec_len]\n",
    "                print(header)\n",
    "                print(rec_data.decode('UTF-16'))\n",
    "                section_text += rec_data.decode('UTF-16')\n",
    "                section_text += \"\\n\"\n",
    "\n",
    "            i += 4 + rec_len\n",
    "        \n",
    "        text += section_text\n",
    "        text += \"\\n\"\n",
    "\n",
    "    return text"
   ]
  },
  {
   "cell_type": "code",
   "execution_count": null,
   "metadata": {},
   "outputs": [],
   "source": [
    "# 한자가 적힌 변수\n",
    "\n",
    "# 7차\n",
    "'''\n",
    "304088131\n",
    "18879555\n",
    "18875459\n",
    "35652675\n",
    "23069763\n",
    "52429891\n",
    "20972611\n",
    "'''\n",
    "\n",
    "# 8차\n",
    "'''\n",
    "69207107\n",
    "18875459\n",
    "35652675\n",
    "'''"
   ]
  },
  {
   "cell_type": "code",
   "execution_count": null,
   "metadata": {},
   "outputs": [],
   "source": [
    "# HWP 파일 불러오기\n",
    "\n",
    "기본DB_7차 = get_hwp_text('data/ns_7.hwp')\n",
    "기본DB_8차 = get_hwp_text2('data/ns_8.hwp')"
   ]
  },
  {
   "cell_type": "code",
   "execution_count": 52,
   "metadata": {},
   "outputs": [],
   "source": [
    "# ''\\r\\n' split\n",
    "\n",
    "기본DB_7차 = 기본DB_7차.split('\\r\\n')\n",
    "기본DB_8차 = 기본DB_8차.split('\\r\\n')"
   ]
  },
  {
   "cell_type": "code",
   "execution_count": 53,
   "metadata": {},
   "outputs": [],
   "source": [
    "기본DB_7차 = 기본DB_7차[2:] # 한자제거"
   ]
  },
  {
   "cell_type": "code",
   "execution_count": 54,
   "metadata": {},
   "outputs": [],
   "source": [
    "## 딕셔너리 형태로 생성\n",
    "\n",
    "기본DB_7차_dic = dict()\n",
    "for i in range(0, len(기본DB_7차)-1,2) :\n",
    "    기본DB_7차_dic[기본DB_7차[i]] = 기본DB_7차[i+1] \n",
    "\n",
    "기본DB_8차_dic = dict()\n",
    "for i in range(0, len(기본DB_8차)-1,2) :\n",
    "    기본DB_8차_dic[기본DB_8차[i]] = 기본DB_8차[i+1]\n"
   ]
  },
  {
   "cell_type": "code",
   "execution_count": 57,
   "metadata": {},
   "outputs": [],
   "source": [
    "# 데이터프레임 생성\n",
    "\n",
    "기본DB_7차_df = pd.DataFrame(list(기본DB_7차_dic.items()),\n",
    "                   columns = ['변수명','변수설명'])\n",
    "\n",
    "기본DB_8차_df = pd.DataFrame(list(기본DB_8차_dic.items()),\n",
    "                   columns = ['변수명','변수설명'])"
   ]
  },
  {
   "cell_type": "code",
   "execution_count": 58,
   "metadata": {},
   "outputs": [],
   "source": [
    "# 변수명 대문자화\n",
    "\n",
    "upper_7 = []\n",
    "for i in 기본DB_7차_df.loc[ : , '변수명'] :\n",
    "    upper_7.append(i.upper())\n",
    "\n",
    "upper_8 = []\n",
    "for i in 기본DB_8차_df.loc[ : , '변수명'] :\n",
    "    upper_8.append(i.upper())\n",
    "\n",
    "기본DB_7차_df['변수명'] = upper_7\n",
    "기본DB_8차_df['변수명'] = upper_8"
   ]
  },
  {
   "cell_type": "code",
   "execution_count": 61,
   "metadata": {},
   "outputs": [],
   "source": [
    "# 데이터 프레임 csv 파일로 저장\n",
    "\n",
    "기본DB_7차_df.to_csv('data/기본DB_7.csv', encoding = 'euc-kr')\n",
    "기본DB_8차_df.to_csv('data/기본DB_8.csv', encoding = 'euc-kr')"
   ]
  }
 ],
 "metadata": {
  "interpreter": {
   "hash": "e4cce46d6be9934fbd27f9ca0432556941ea5bdf741d4f4d64c6cd7f8dfa8fba"
  },
  "kernelspec": {
   "display_name": "Python 3.9.7 ('base')",
   "language": "python",
   "name": "python3"
  },
  "language_info": {
   "codemirror_mode": {
    "name": "ipython",
    "version": 3
   },
   "file_extension": ".py",
   "mimetype": "text/x-python",
   "name": "python",
   "nbconvert_exporter": "python",
   "pygments_lexer": "ipython3",
   "version": "3.9.7"
  },
  "orig_nbformat": 4
 },
 "nbformat": 4,
 "nbformat_minor": 2
}
