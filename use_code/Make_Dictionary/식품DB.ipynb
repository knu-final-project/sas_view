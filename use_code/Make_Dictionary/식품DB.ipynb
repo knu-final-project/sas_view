{
 "cells": [
  {
   "cell_type": "markdown",
   "metadata": {},
   "source": [
    "### 식품 DB"
   ]
  },
  {
   "cell_type": "code",
<<<<<<< HEAD
   "execution_count": 9,
=======
   "execution_count": 3,
>>>>>>> 5047243f2da452e38f33d0ad4ff7b11accb5a431
   "metadata": {},
   "outputs": [],
   "source": [
    "# 식품섭취조사 7차 / 8차 \n",
    "\n",
    "import pandas as pd\n",
    "import olefile\n",
    "import zlib\n",
    "import struct\n",
    "\n",
    "# 7차 \n",
    "\n",
    "def get_hwp_text(filename) :\n",
    "    f = olefile.OleFileIO(filename)\n",
    "    dirs = f.listdir()\n",
    "\n",
    "    # HWP 파일 검증\n",
    "    if [\"FileHeader\"] not in dirs or \\\n",
    "       [\"\\x05HwpSummaryInformation\"] not in dirs :\n",
    "        raise Exception(\"Not Valid HWP.\")\n",
    "\n",
    "    # 문서 포맷 압축 여부 확인\n",
    "    header = f.openstream(\"FileHeader\")\n",
    "    header_data = header.read()\n",
    "    is_compressed = (header_data[36] & 1) == 1\n",
    "\n",
    "    # Body Sections 불러오기\n",
    "    nums = []\n",
    "    for d in dirs :\n",
    "        if d[0] == \"BodyText\" :\n",
    "            nums.append(int(d[1][len(\"Section\"):]))\n",
    "    sections = [\"BodyText/Section\" + str(x) for x in sorted(nums)]\n",
    "\n",
    "    # 전체 text 추출\n",
    "    text = \"\"\n",
    "    for section in sections :\n",
    "        bodytext = f.openstream(section)\n",
    "        data = bodytext.read()\n",
    "        if is_compressed :\n",
    "            unpacked_data = zlib.decompress(data, -15)\n",
    "        else:\n",
    "            unpacked_data = data\n",
    "    \n",
    "        # 각 Section 내 text 추출    \n",
    "        section_text = \"\"\n",
    "        i = 0\n",
    "        size = len(unpacked_data)\n",
    "        while i < size :\n",
    "            header = struct.unpack_from(\"<I\", unpacked_data, i)[0]\n",
    "            rec_type = header & 0x3ff\n",
    "            rec_len = (header >> 20) & 0xfff\n",
    "\n",
    "            if rec_type in [67] and header != 52429891 and header != 18875459 and  header != 85984323 :\n",
    "                rec_data = unpacked_data[i + 4 : i + 4 + rec_len]\n",
    "                #print(header)\n",
    "                #print(rec_data.decode('UTF-16'))\n",
    "                section_text += rec_data.decode('UTF-16')\n",
    "                section_text += \"\\n\"\n",
    "\n",
    "            i += 4 + rec_len\n",
    "        \n",
    "        text += section_text\n",
    "        text += \"\\n\"\n",
    "\n",
    "    return text"
   ]
  },
  {
   "cell_type": "code",
<<<<<<< HEAD
   "execution_count": 10,
=======
   "execution_count": 4,
>>>>>>> 5047243f2da452e38f33d0ad4ff7b11accb5a431
   "metadata": {},
   "outputs": [],
   "source": [
    "# 8차\n",
    "\n",
    "def get_hwp_text2(filename) :\n",
    "    f = olefile.OleFileIO(filename)\n",
    "    dirs = f.listdir()\n",
    "\n",
    "    # HWP 파일 검증\n",
    "    if [\"FileHeader\"] not in dirs or \\\n",
    "       [\"\\x05HwpSummaryInformation\"] not in dirs :\n",
    "        raise Exception(\"Not Valid HWP.\")\n",
    "\n",
    "    # 문서 포맷 압축 여부 확인\n",
    "    header = f.openstream(\"FileHeader\")\n",
    "    header_data = header.read()\n",
    "    is_compressed = (header_data[36] & 1) == 1\n",
    "\n",
    "    # Body Sections 불러오기\n",
    "    nums = []\n",
    "    for d in dirs :\n",
    "        if d[0] == \"BodyText\" :\n",
    "            nums.append(int(d[1][len(\"Section\"):]))\n",
    "    sections = [\"BodyText/Section\" + str(x) for x in sorted(nums)]\n",
    "\n",
    "    # 전체 text 추출\n",
    "    text = \"\"\n",
    "    for section in sections :\n",
    "        bodytext = f.openstream(section)\n",
    "        data = bodytext.read()\n",
    "        if is_compressed :\n",
    "            unpacked_data = zlib.decompress(data, -15)\n",
    "        else:\n",
    "            unpacked_data = data\n",
    "    \n",
    "        # 각 Section 내 text 추출    \n",
    "        section_text = \"\"\n",
    "        i = 0\n",
    "        size = len(unpacked_data)\n",
    "        while i < size :\n",
    "            header = struct.unpack_from(\"<I\", unpacked_data, i)[0]\n",
    "            rec_type = header & 0x3ff\n",
    "            rec_len = (header >> 20) & 0xfff\n",
    "\n",
    "            if rec_type in [67] and header != 52429891 and header != 18875459 :\n",
    "                rec_data = unpacked_data[i + 4 : i + 4 + rec_len]\n",
    "                #print(header)\n",
    "                #print(rec_data.decode('UTF-16'))\n",
    "                section_text += rec_data.decode('UTF-16')\n",
    "                section_text += \"\\n\"\n",
    "\n",
    "            i += 4 + rec_len\n",
    "        \n",
    "        text += section_text\n",
    "        text += \"\\n\"\n",
    "\n",
    "    return text"
   ]
  },
  {
   "cell_type": "code",
   "execution_count": 5,
   "metadata": {},
   "outputs": [
    {
     "data": {
      "text/plain": [
       "'\\n52429891\\n\\x02捤獥\\n18875459\\n\\x0b氠瑢\\n18875459\\n\\x0b氠瑢\\n18875459\\n\\x0b氠瑢\\n18875459\\n\\x0b氠瑢\\n18875459\\n\\x0b氠瑢\\n18875459\\n\\x0b氠瑢\\n18875459\\n\\x0b氠瑢\\n18875459\\n\\x0b氠瑢\\n18875459\\n\\x15桤灧\\n'"
      ]
     },
     "execution_count": 5,
     "metadata": {},
     "output_type": "execute_result"
    }
   ],
   "source": [
    "# 한자가 적힌 변수\n",
    "\n",
    "# 7차\n",
    "'''\n",
    "52429891\n",
    "18875459\n",
    "85984323\n",
    "'''\n",
    "\n",
    "# 8차\n",
    "'''\n",
    "52429891\n",
    "18875459\n",
    "'''"
   ]
  },
  {
   "cell_type": "code",
<<<<<<< HEAD
   "execution_count": 11,
=======
   "execution_count": 6,
>>>>>>> 5047243f2da452e38f33d0ad4ff7b11accb5a431
   "metadata": {},
   "outputs": [],
   "source": [
    "# HWP 파일 불러오기\n",
    "\n",
    "식품섭취조사7차 = get_hwp_text('data/식품섭취조사_7.hwp')\n",
    "식품섭취조사8차 = get_hwp_text2('data/식품섭취조사_8.hwp')"
   ]
  },
  {
   "cell_type": "code",
<<<<<<< HEAD
   "execution_count": 12,
=======
   "execution_count": 7,
>>>>>>> 5047243f2da452e38f33d0ad4ff7b11accb5a431
   "metadata": {},
   "outputs": [],
   "source": [
    "# ''\\r\\n' split\n",
    "\n",
    "식품섭취조사7차 = 식품섭취조사7차.split('\\r\\n')\n",
    "식품섭취조사8차 = 식품섭취조사8차.split('\\r\\n')"
   ]
  },
  {
   "cell_type": "code",
<<<<<<< HEAD
   "execution_count": 13,
=======
   "execution_count": 8,
>>>>>>> 5047243f2da452e38f33d0ad4ff7b11accb5a431
   "metadata": {},
   "outputs": [],
   "source": [
    "## 딕셔너리 형태로 생성\n",
    "\n",
    "식품7차_dic = dict()\n",
    "for i in range(0, len(식품섭취조사7차)-1,2) :\n",
    "    식품7차_dic[식품섭취조사7차[i]] = 식품섭취조사7차[i+1] \n",
    "\n",
    "식품8차_dic = dict()\n",
    "for i in range(0, len(식품섭취조사8차)-1,2) :\n",
    "    식품8차_dic[식품섭취조사8차[i]] = 식품섭취조사8차[i+1] "
   ]
  },
  {
   "cell_type": "code",
<<<<<<< HEAD
   "execution_count": 14,
=======
   "execution_count": 9,
>>>>>>> 5047243f2da452e38f33d0ad4ff7b11accb5a431
   "metadata": {},
   "outputs": [],
   "source": [
    "# 데이터프레임 생성\n",
    "\n",
    "식품7차_df = pd.DataFrame(list(식품7차_dic.items()),\n",
    "                   columns = ['변수명','변수설명'])\n",
    "\n",
    "식품8차_df = pd.DataFrame(list(식품8차_dic.items()),\n",
    "                   columns = ['변수명','변수설명'])"
   ]
  },
  {
   "cell_type": "code",
<<<<<<< HEAD
   "execution_count": 17,
=======
   "execution_count": 10,
>>>>>>> 5047243f2da452e38f33d0ad4ff7b11accb5a431
   "metadata": {},
   "outputs": [],
   "source": [
    "## 데이터 프레임 csv 파일로 저장\n",
    "\n",
<<<<<<< HEAD
    "식품7차_df.to_csv('data/식품_7차.csv', encoding = 'euc-kr')\n",
    "식품8차_df.to_csv('data/식품_8차.csv', encoding = 'euc-kr')"
=======
    "식품7차_df.to_csv('data/rc7.csv', encoding='euc-kr')\n",
    "식품8차_df.to_csv('data/rc8.csv', encoding='euc-kr')"
>>>>>>> 5047243f2da452e38f33d0ad4ff7b11accb5a431
   ]
  }
 ],
 "metadata": {
  "interpreter": {
   "hash": "3a909b764e5297ab7243911d79b34f3ad584c453baa3fb8c1fea8bd611715306"
  },
  "kernelspec": {
   "display_name": "Python 3.8.13 ('conda38')",
   "language": "python",
   "name": "python3"
  },
  "language_info": {
   "codemirror_mode": {
    "name": "ipython",
    "version": 3
   },
   "file_extension": ".py",
   "mimetype": "text/x-python",
   "name": "python",
   "nbconvert_exporter": "python",
   "pygments_lexer": "ipython3",
   "version": "3.8.13"
  },
  "orig_nbformat": 4
 },
 "nbformat": 4,
 "nbformat_minor": 2
}
