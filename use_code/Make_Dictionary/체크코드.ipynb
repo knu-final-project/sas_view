{
 "cells": [
  {
   "cell_type": "markdown",
   "metadata": {},
   "source": [
    "### 체크 코드"
   ]
  },
  {
   "cell_type": "code",
   "execution_count": 5,
   "metadata": {},
   "outputs": [],
   "source": [
    "import pandas as pd\n",
    "\n",
    "# CSV 파일 불러오기\n",
    "\n",
    "df7 = pd.read_csv('C:/sas_view/use_code/Make_Dictionary/ns7.csv',encoding='utf-8',index_col = 0)\n",
    "df8 = pd.read_csv('C:/sas_view/use_code/Make_Dictionary/ns8.csv',encoding='utf-8',index_col = 0)"
   ]
  },
  {
   "cell_type": "code",
   "execution_count": 6,
   "metadata": {},
   "outputs": [],
   "source": [
    "# 7차\n",
    "upper_7 = []\n",
    "for i in df7.loc[ : , '변수명'] :\n",
    "    upper_7.append(i.upper())\n",
    "\n",
    "# 8차\n",
    "upper_8 = []\n",
    "for i in df8.loc[ : , '변수명'] :\n",
    "    upper_8.append(i.upper())    "
   ]
  },
  {
   "cell_type": "code",
   "execution_count": 9,
   "metadata": {},
   "outputs": [],
   "source": [
    "# 7차 / 8차 서로 동일한 변수명만 리스트에 append\n",
    "\n",
    "list7 = []\n",
    "list8 = []\n",
    "for i in range(0,len(upper_8)) :\n",
    "    for j in range(0,len(upper_7)) :\n",
    "        if upper_8[i] == upper_7[j] :\n",
    "            list8.append(i)\n",
    "            list7.append(j)"
   ]
  },
  {
   "cell_type": "code",
   "execution_count": 12,
   "metadata": {},
   "outputs": [],
   "source": [
    "# merge 하기 전 변수명 변경\n",
    "\n",
    "df7.rename(columns = {'변수설명':'변수설명7'}, inplace=True)\n",
    "df8.rename(columns = {'변수설명':'변수설명8'}, inplace=True)"
   ]
  },
  {
   "cell_type": "code",
   "execution_count": 15,
   "metadata": {},
   "outputs": [],
   "source": [
    "# 뽑힌 7차 변수\n",
    "\n",
    "df7_2 = df7.iloc[list7]\n",
    "\n",
    "# 뽑힌 8차 변수\n",
    "\n",
    "df8_2 = df8.iloc[list8]"
   ]
  },
  {
   "cell_type": "code",
   "execution_count": null,
   "metadata": {},
   "outputs": [],
   "source": [
    "# 확인 ( 751 row )\n",
    "\n",
    "print(len(list8), len(list7))"
   ]
  },
  {
   "cell_type": "code",
   "execution_count": 19,
   "metadata": {},
   "outputs": [],
   "source": [
    "# 같은 변수들만 merge한 데이터프레임\n",
    "\n",
    "merge_df = pd.merge(df7_2,df8_2)"
   ]
  },
  {
   "cell_type": "code",
   "execution_count": 21,
   "metadata": {},
   "outputs": [],
   "source": [
    "# 전체를 merge한 데이터프레임\n",
    "\n",
    "m_df = pd.merge(df7, df8, how = 'outer')"
   ]
  },
  {
   "cell_type": "code",
   "execution_count": null,
   "metadata": {},
   "outputs": [],
   "source": [
    "# 같은 변수에서 설명이 같은 것들 \n",
    "\n",
    "merge_df[merge_df.iloc[:,1] == merge_df.iloc[:,2]]"
   ]
  },
  {
   "cell_type": "code",
   "execution_count": null,
   "metadata": {},
   "outputs": [],
   "source": [
    "# 같은 변수에서 설명이 다른 것들 \n",
    "\n",
    "merge_df[merge_df.iloc[:,1] != merge_df.iloc[:,2]]"
   ]
  },
  {
   "cell_type": "code",
   "execution_count": 25,
   "metadata": {},
   "outputs": [],
   "source": [
    "# 전체를 merge한 df에서 설명이 같은 변수들 뽑기\n",
    "\n",
    "same = m_df[m_df.iloc[:,1] == m_df.iloc[:,2]]\n",
    "\n",
    "# 전체를 merge한 df에서 설명이 다른 변수들 뽑기\n",
    "\n",
    "dd = m_df[m_df.iloc[:,1] != m_df.iloc[:,2]]"
   ]
  },
  {
   "cell_type": "code",
   "execution_count": 26,
   "metadata": {},
   "outputs": [],
   "source": [
    "# dd 데이터프레임 중 나누기\n",
    "\n",
    "lis = [] # 변수설명이 같지만 미세하게 달라서 뽑힌 변수\n",
    "etc_lis = [] # 그 외 변수들 (아예 다른 변수)\n",
    "na_lis = [] # Na 포함된 변수\n",
    "for i in range(0,len(dd)) :\n",
    "    if dd.iloc[i].isnull().values.any() :\n",
    "        na_lis.append(i) \n",
    "    else :\n",
    "        if dd.iloc[i][1][0:2] in dd.iloc[i][2] or dd.iloc[i][2][0:2] in dd.iloc[i][1] :\n",
    "            lis.append(i)\n",
    "        else :\n",
    "            etc_lis.append(i) "
   ]
  },
  {
   "cell_type": "code",
   "execution_count": null,
   "metadata": {},
   "outputs": [],
   "source": [
    "# dd 중 변수설명이 같은 변수\n",
    "\n",
    "dd_same =  dd.iloc[lis]\n",
    "\n",
    "# Na값을 포함한 변수\n",
    "\n",
    "na_dd = dd.iloc[na_lis]\n",
    "\n",
    "# 그 외 변수\n",
    "\n",
    "dd.iloc[etc_lis]"
   ]
  },
  {
   "cell_type": "code",
   "execution_count": 35,
   "metadata": {},
   "outputs": [],
   "source": [
    "# 설명이 똑같은 것으로 판별된 변수들\n",
    " \n",
    "dd.iloc[etc_lis][2:]\n",
    "\n",
    "# 7차 8차 서로 다른 변수들 모음\n",
    "\n",
    "dd.to_csv('dd.csv', encoding = 'cp949') # 전체를 merge한 df에서 설명이 다른 변수들 뽑은 것\n",
    "na_dd.to_csv('dd_na.csv', encoding = 'cp949') # NA 존재 파일\n",
    "dd.iloc[etc_lis].to_csv('dd_etc.csv', encoding = 'cp949') # 그 외 변수\n",
    "\n",
    "# 7차 8차 같은 변수들\n",
    "\n",
    "same2 = pd.concat([same,dd_same, dd.iloc[etc_lis][2:]]) "
   ]
  },
  {
   "cell_type": "code",
   "execution_count": 36,
   "metadata": {},
   "outputs": [],
   "source": [
    "# na_dd에서 설명이 같은 것 추출\n",
    "\n",
    "na_7 = na_dd[na_dd.iloc[:,2].isna()]\n",
    "na_8 = na_dd[na_dd.iloc[:,1].isna()]"
   ]
  },
  {
   "cell_type": "code",
   "execution_count": 39,
   "metadata": {},
   "outputs": [],
   "source": [
    "# dd 데이터프레임 중 나누어주기\n",
    "\n",
    "lis_7 = [] # 변수설명이 같지만 미세하게 달라서 뽑힌 변수들\n",
    "lis_8 = []\n",
    "etc_lis_7 = [] # 그 외 변수들 (아예 다른 변수)\n",
    "etc_lis_8 = [] \n",
    "erro_7 = []\n",
    "erro_8 = []\n",
    "for i in range(0, len(na_7)) :\n",
    "    for j in range(0, len(na_8)) :\n",
    "        try :\n",
    "            if na_7.iloc[i][1][0:10] in na_8.iloc[j][2] or na_8.iloc[j][2][0:10] in na_7.iloc[i][1] :\n",
    "                lis_7.append(i) \n",
    "                #print(na_7.iloc[i][1])\n",
    "                lis_8.append(j)\n",
    "                #print(na_8.iloc[j][2])\n",
    "            else :\n",
    "                etc_lis_7.append(i)\n",
    "                etc_lis_8.append(j)\n",
    "        except :\n",
    "            erro_7.append(i)\n",
    "            erro_8.append(j)  "
   ]
  },
  {
   "cell_type": "code",
   "execution_count": null,
   "metadata": {},
   "outputs": [],
   "source": [
    "# lis_7 (11개), lis_8 (3개) 중복되지 않는 것\n",
    "\n",
    "print(len(set(lis_7)), len(set(lis_8)))"
   ]
  },
  {
   "cell_type": "code",
   "execution_count": 41,
   "metadata": {},
   "outputs": [],
   "source": [
    "# 리스트 a, b에 넣기\n",
    "\n",
    "a = list(set(lis_8))\n",
    "b = list(set(lis_7))"
   ]
  },
  {
   "cell_type": "code",
   "execution_count": 54,
   "metadata": {},
   "outputs": [
    {
     "name": "stdout",
     "output_type": "stream",
     "text": [
      "[32, 19, 20]\n",
      "[167, 147, 148, 149, 150, 151, 152, 153, 154, 155, 156]\n"
     ]
    }
   ],
   "source": [
    "print(a)\n",
    "print(b)"
   ]
  },
  {
   "cell_type": "code",
   "execution_count": 52,
   "metadata": {},
   "outputs": [
    {
     "ename": "IndexError",
     "evalue": "list index out of range",
     "output_type": "error",
     "traceback": [
      "\u001b[1;31m---------------------------------------------------------------------------\u001b[0m",
      "\u001b[1;31mIndexError\u001b[0m                                Traceback (most recent call last)",
      "\u001b[1;32m~\\AppData\\Local\\Temp/ipykernel_17928/1714094671.py\u001b[0m in \u001b[0;36m<module>\u001b[1;34m\u001b[0m\n\u001b[0;32m      5\u001b[0m \u001b[1;33m\u001b[0m\u001b[0m\n\u001b[0;32m      6\u001b[0m \u001b[1;32mfor\u001b[0m \u001b[0mi\u001b[0m \u001b[1;32min\u001b[0m \u001b[0mrange\u001b[0m\u001b[1;33m(\u001b[0m\u001b[1;36m0\u001b[0m\u001b[1;33m,\u001b[0m \u001b[0mlen\u001b[0m\u001b[1;33m(\u001b[0m\u001b[0mc\u001b[0m\u001b[1;33m)\u001b[0m\u001b[1;33m)\u001b[0m \u001b[1;33m:\u001b[0m\u001b[1;33m\u001b[0m\u001b[1;33m\u001b[0m\u001b[0m\n\u001b[1;32m----> 7\u001b[1;33m     \u001b[0mb7\u001b[0m\u001b[1;33m.\u001b[0m\u001b[0mappend\u001b[0m\u001b[1;33m(\u001b[0m\u001b[0mb\u001b[0m\u001b[1;33m[\u001b[0m\u001b[0mc\u001b[0m\u001b[1;33m[\u001b[0m\u001b[0mi\u001b[0m\u001b[1;33m]\u001b[0m\u001b[1;33m]\u001b[0m\u001b[1;33m)\u001b[0m\u001b[1;33m\u001b[0m\u001b[1;33m\u001b[0m\u001b[0m\n\u001b[0m",
      "\u001b[1;31mIndexError\u001b[0m: list index out of range"
     ]
    }
   ],
   "source": [
    "# 8차에 있는 컬럼설명을 갖고 있는 7차 변수들 index\n",
    "\n",
    "b7 = []\n",
    "c = [0, 9, 10, 11]\n",
    "\n",
    "for i in range(0, len(c)) :\n",
    "    b7.append(b[c[i]])"
   ]
  },
  {
   "cell_type": "code",
   "execution_count": null,
   "metadata": {},
   "outputs": [],
   "source": [
    "ch7 = na_7.iloc[b7]\n",
    "ch7"
   ]
  },
  {
   "cell_type": "code",
   "execution_count": null,
   "metadata": {},
   "outputs": [],
   "source": [
    "na_8.iloc[a]"
   ]
  },
  {
   "cell_type": "code",
   "execution_count": null,
   "metadata": {},
   "outputs": [],
   "source": [
    "# 요크레아티닌 장비분석범위 제거\n",
    "\n",
    "a.pop(2) "
   ]
  },
  {
   "cell_type": "code",
   "execution_count": null,
   "metadata": {},
   "outputs": [],
   "source": [
    "ch8 = na_8.iloc[a]\n",
    "ch8"
   ]
  },
  {
   "cell_type": "code",
   "execution_count": null,
   "metadata": {},
   "outputs": [],
   "source": [
    "'''\n",
    "8차 HE_DM_HbA1c -> HE_DM 당뇨병 유병여부\n",
    "8차 HE_Ucrea -> HE_UCREA 요크레아티닌\n",
    "8차 BP16_1 -> Total_slp_wk\t(만12세이상) 주중 하루 평균 수면시간\n",
    "8차 BP16_2 -> Total_slp_wd\t(만12세이상) 주말 하루 평균 수면시간\n",
    "'''"
   ]
  },
  {
   "cell_type": "code",
   "execution_count": null,
   "metadata": {},
   "outputs": [],
   "source": [
    "ch8.rename(columns={'변수명':'변수명8'},inplace=True)\n",
    "ch8"
   ]
  },
  {
   "cell_type": "code",
   "execution_count": null,
   "metadata": {},
   "outputs": [],
   "source": [
    "ch8['변수명'] = ['HE_DM', 'HE_UCREA', 'Total_slp_wk', 'Total_slp_wd']\n",
    "ch8"
   ]
  },
  {
   "cell_type": "code",
   "execution_count": null,
   "metadata": {},
   "outputs": [],
   "source": [
    "ch = ch7.loc[:,['변수명','변수설명7']].merge(ch8.loc[:,['변수명8','변수명']],how='left')\n",
    "ch.rename(columns={'변수설명7':'변수설명'}, inplace=True)\n",
    "ch"
   ]
  },
  {
   "cell_type": "code",
   "execution_count": null,
   "metadata": {},
   "outputs": [],
   "source": [
    "ch2 = ch7.loc[:,['변수명','변수설명7']].merge(ch8.loc[:,['변수명8','변수설명8','변수명']],how='left')\n",
    "ch2"
   ]
  },
  {
   "cell_type": "code",
   "execution_count": null,
   "metadata": {},
   "outputs": [],
   "source": [
    "same3 = pd.concat([same2,ch2.loc[:,['변수명','변수설명7','변수설명8']]])"
   ]
  },
  {
   "cell_type": "code",
   "execution_count": null,
   "metadata": {},
   "outputs": [],
   "source": [
    "same3.reset_index(inplace=True)\n",
    "same3 = same3.iloc[:,1:]"
   ]
  },
  {
   "cell_type": "code",
   "execution_count": null,
   "metadata": {},
   "outputs": [],
   "source": [
    "same3.to_csv('same_code_2.csv')"
   ]
  }
 ],
 "metadata": {
  "interpreter": {
   "hash": "e4cce46d6be9934fbd27f9ca0432556941ea5bdf741d4f4d64c6cd7f8dfa8fba"
  },
  "kernelspec": {
   "display_name": "Python 3.9.7 ('base')",
   "language": "python",
   "name": "python3"
  },
  "language_info": {
   "codemirror_mode": {
    "name": "ipython",
    "version": 3
   },
   "file_extension": ".py",
   "mimetype": "text/x-python",
   "name": "python",
   "nbconvert_exporter": "python",
   "pygments_lexer": "ipython3",
   "version": "3.9.7"
  },
  "orig_nbformat": 4
 },
 "nbformat": 4,
 "nbformat_minor": 2
}
