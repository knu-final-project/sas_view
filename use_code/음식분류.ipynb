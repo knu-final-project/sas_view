{
 "cells": [
  {
   "cell_type": "markdown",
   "metadata": {},
   "source": [
    "프로젝트 내용)\n",
    "* 음식 사진이 주어지는 경우 어떤 음식인지 분류한다.\n",
    "* 프로젝트 기간 : 2022.04.18 (월) ~ 2022.06.16 (목)\n",
    "* 프로젝트 진행 과정\n",
    "    * 데이터 크롤링\n",
    "    * 데이터 라벨링\n",
    "    * 데이터 전처리\n",
    "    * 머신러닝\n",
    "    * 결과 출력"
   ]
  },
  {
   "cell_type": "code",
   "execution_count": 4,
   "metadata": {},
   "outputs": [
    {
     "name": "stdout",
     "output_type": "stream",
     "text": [
      "Collecting webdriver_manager\n",
      "  Downloading webdriver_manager-3.5.4-py2.py3-none-any.whl (18 kB)\n",
      "Requirement already satisfied: requests in c:\\users\\dkq50\\anaconda3\\envs\\conda38\\lib\\site-packages (from webdriver_manager) (2.27.1)\n",
      "Requirement already satisfied: urllib3<1.27,>=1.21.1 in c:\\users\\dkq50\\anaconda3\\envs\\conda38\\lib\\site-packages (from requests->webdriver_manager) (1.26.9)\n",
      "Requirement already satisfied: certifi>=2017.4.17 in c:\\users\\dkq50\\anaconda3\\envs\\conda38\\lib\\site-packages (from requests->webdriver_manager) (2021.10.8)\n",
      "Requirement already satisfied: idna<4,>=2.5 in c:\\users\\dkq50\\anaconda3\\envs\\conda38\\lib\\site-packages (from requests->webdriver_manager) (3.3)\n",
      "Requirement already satisfied: charset-normalizer~=2.0.0 in c:\\users\\dkq50\\anaconda3\\envs\\conda38\\lib\\site-packages (from requests->webdriver_manager) (2.0.12)\n",
      "Installing collected packages: webdriver_manager\n",
      "Successfully installed webdriver_manager-3.5.4\n",
      "Note: you may need to restart the kernel to use updated packages.\n"
     ]
    }
   ],
   "source": [
    "pip install webdriver_manager"
   ]
  },
  {
   "cell_type": "code",
   "execution_count": 1,
   "metadata": {},
   "outputs": [],
   "source": [
    "from urllib.request import urlretrieve # 이미지를 저장할 때 사용\n",
    "from urllib.parse import quote_plus # 한글을 컴퓨팅 언어로 변환\n",
    "from bs4 import BeautifulSoup # 크롤링에 사용하기 위한 라이브러리\n",
    "from selenium import webdriver # 구글 크롤링에 사용하기 위한 라이브러리\n",
    "from webdriver_manager.chrome import ChromeDriverManager # 크롬 드라이버를 사용하기 위해서"
   ]
  },
  {
   "cell_type": "code",
   "execution_count": 5,
   "metadata": {},
   "outputs": [
    {
     "name": "stderr",
     "output_type": "stream",
     "text": [
      "\n",
      "\n",
      "====== WebDriver manager ======\n",
      "Current google-chrome version is 101.0.4951\n",
      "Get LATEST chromedriver version for 101.0.4951 google-chrome\n",
      "Driver [C:\\Users\\dkq50\\.wdm\\drivers\\chromedriver\\win32\\101.0.4951.41\\chromedriver.exe] found in cache\n",
      "C:\\Users\\dkq50\\AppData\\Local\\Temp\\ipykernel_4040\\2841830969.py:13: DeprecationWarning: executable_path has been deprecated, please pass in a Service object\n",
      "  driver = webdriver.Chrome(ChromeDriverManager().install()) # 구글 크롤링에 사용하기 위한 코드 (크롬 브라우저를 사용할 것임)\n"
     ]
    },
    {
     "name": "stdout",
     "output_type": "stream",
     "text": [
      "1번째 페이지 크롤링 중...\n"
     ]
    },
    {
     "name": "stderr",
     "output_type": "stream",
     "text": [
      "\n",
      "\n",
      "====== WebDriver manager ======\n",
      "Current google-chrome version is 101.0.4951\n",
      "Get LATEST chromedriver version for 101.0.4951 google-chrome\n",
      "Driver [C:\\Users\\dkq50\\.wdm\\drivers\\chromedriver\\win32\\101.0.4951.41\\chromedriver.exe] found in cache\n"
     ]
    },
    {
     "name": "stdout",
     "output_type": "stream",
     "text": [
      "2번째 페이지 크롤링 중...\n"
     ]
    },
    {
     "name": "stderr",
     "output_type": "stream",
     "text": [
      "\n",
      "\n",
      "====== WebDriver manager ======\n",
      "Current google-chrome version is 101.0.4951\n",
      "Get LATEST chromedriver version for 101.0.4951 google-chrome\n",
      "Driver [C:\\Users\\dkq50\\.wdm\\drivers\\chromedriver\\win32\\101.0.4951.41\\chromedriver.exe] found in cache\n"
     ]
    },
    {
     "name": "stdout",
     "output_type": "stream",
     "text": [
      "계란후라이 크롤링 완료\n"
     ]
    }
   ],
   "source": [
    "food_list = ['계란후라이','김치찌개']\n",
    " \n",
    "for name in food_list:# 반복문을 사용해 음식 종류 list안에 있는 음식별로 크롤링 할 수 있도록 설정\n",
    "    \n",
    "    n = 1 # 크롤링 결과 사진에 숫자를 하나씩 증가시키기 위한 변수\n",
    "    \n",
    "    # list에서 받아온 값을 넣은 url 생성\n",
    "    base_url = 'https://www.10000recipe.com/recipe/list.html?q={}&order=reco&page={}' \n",
    "    \n",
    "    for page in range(1, 100):\n",
    "        try:\n",
    "            url = base_url.format(name, page)\n",
    "            driver = webdriver.Chrome(ChromeDriverManager().install()) # 구글 크롤링에 사용하기 위한 코드 (크롬 브라우저를 사용할 것임)\n",
    "            driver.get(url) # url 변수를 크롬으로 열 수 있도록\n",
    "    \n",
    "            html = driver.page_source # 페이지의 elements 전부 가져오기\n",
    "            soup = BeautifulSoup(html) # BeautifulSoup 사용\n",
    "            \n",
    "            images = soup.findAll(\"a\", {\"class\" : \"common_sp_link\"}) #  이미지 클래스의 값을 불러옴\n",
    "    \n",
    "            if not images: # 빈 리스트인 경우\n",
    "                raise ex\n",
    "                \n",
    "            imgurl = [] # 이미지 url을 저장하기 위한 변수\n",
    " \n",
    "            for i in images:\n",
    "                temp = i.img['src'] \n",
    "                \n",
    "                if temp.endswith('png') is False: # png형식의 파일은 저장하지 않는다. \n",
    "                    imgurl.append(i.img['src']) # 이미지의 source 주소를 가져와 imgurl list에 추가한다                  \n",
    "                    \n",
    "            for i in imgurl:\n",
    "                urlretrieve(i, \"음식사진/\" + name + str(n) + \".jpg\") # 크롤링한 사진에 1씩 값을 증가해 저장한다\n",
    "                n += 1\n",
    "            \n",
    "            print(str(page) + \"번째 페이지 크롤링 중...\")\n",
    "            driver.quit()\n",
    "            \n",
    "        except Exception as ex: # 이미지가 없는 경우 종료\n",
    "            print(name + \" 크롤링 완료\")\n",
    "            driver.quit()\n",
    "            break\n"
   ]
  },
  {
   "cell_type": "markdown",
   "metadata": {},
   "source": [
    "시간 추가"
   ]
  },
  {
   "cell_type": "code",
   "execution_count": 2,
   "metadata": {},
   "outputs": [],
   "source": [
    "import os"
   ]
  },
  {
   "cell_type": "code",
   "execution_count": 10,
   "metadata": {},
   "outputs": [
    {
     "name": "stdout",
     "output_type": "stream",
     "text": [
      "총 소요시간 : 53.150312185287476\n"
     ]
    }
   ],
   "source": [
    "import time\n",
    "import requests\n",
    "from bs4 import BeautifulSoup\n",
    "from urllib.request import urlretrieve # 이미지를 저장할 때 사용\n",
    " \n",
    "food_list = ['김치찌개']\n",
    " \n",
    "start = time.time()  \n",
    "for name in food_list:# 반복문을 사용해 음식 종류 list안에 있는 음식별로 크롤링 할 수 있도록 설정\n",
    "    \n",
    "    base_url = 'https://www.10000recipe.com/recipe/list.html?q={}&order=reco&page={}' \n",
    "    n = 1\n",
    "\n",
    "    if not os.path.isdir(\"음식사진/\" + name): # 음식사진 폴더 내에 name에 맞는 폴더가 없으면\n",
    "        os.mkdir(\"음식사진/\" + name) # name 폴더를 만든다\n",
    "\n",
    "    for page in range(1, 10):  \n",
    "        try:\n",
    "            url = base_url.format(name, page)\n",
    "            response = requests.post(url)\n",
    "        \n",
    "            soup = BeautifulSoup(response.content, 'html.parser')\n",
    "            images = soup.findAll(\"a\", {\"class\" : \"common_sp_link\"})\n",
    "        \n",
    "            if not images: # 빈 리스트인 경우\n",
    "                raise ex\n",
    "                \n",
    "            imgurl = [] # 이미지 url을 저장하기 위한 변수\n",
    " \n",
    "            for i in images:\n",
    "                temp = i.img['src'] \n",
    "                \n",
    "                if temp.endswith('png') is False: # png형식의 파일은 저장하지 않는다. \n",
    "                    imgurl.append(i.img['src']) # 이미지의 source 주소를 가져와 imgurl list에 추가한다\n",
    "\n",
    "            for i in imgurl:\n",
    "                urlretrieve(i, \"음식사진/\" + name + \"/\" + name + str(n) + \".jpg\") # 크롤링한 사진에 1씩 값을 증가해 저장한다\n",
    "                n += 1\n",
    "            \n",
    "        except Exception as ex: # 이미지가 없는 경우 종료\n",
    "            print(name + \" 크롤링 완료\")\n",
    "            print(ex)\n",
    "            break\n",
    "            \n",
    "print(\"총 소요시간 : \" + str(time.time() - start)) "
   ]
  },
  {
   "cell_type": "code",
   "execution_count": null,
   "metadata": {},
   "outputs": [],
   "source": []
  }
 ],
 "metadata": {
  "interpreter": {
   "hash": "1d5c1156327dacead463cc502c55ebae8ce9c8c01979cf154173ff808e75bf55"
  },
  "kernelspec": {
   "display_name": "Python 3.9.4 64-bit",
   "language": "python",
   "name": "python3"
  },
  "language_info": {
   "codemirror_mode": {
    "name": "ipython",
    "version": 3
   },
   "file_extension": ".py",
   "mimetype": "text/x-python",
   "name": "python",
   "nbconvert_exporter": "python",
   "pygments_lexer": "ipython3",
   "version": "3.9.4"
  },
  "orig_nbformat": 4
 },
 "nbformat": 4,
 "nbformat_minor": 2
}
